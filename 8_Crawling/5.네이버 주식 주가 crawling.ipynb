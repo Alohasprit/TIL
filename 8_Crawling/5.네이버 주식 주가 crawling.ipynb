{
 "cells": [
  {
   "cell_type": "code",
   "execution_count": 1,
   "metadata": {},
   "outputs": [],
   "source": [
    "import requests\n",
    "import bs4"
   ]
  },
  {
   "cell_type": "code",
   "execution_count": 24,
   "metadata": {},
   "outputs": [],
   "source": [
    "def stock_price(num):    \n",
    "    url =\"https://finance.naver.com/item/main.nhn?code=\"+num\n",
    "    result=requests.get(url)\n",
    "    bs_obj = bs4.BeautifulSoup(result.content, \"html.parser\")\n",
    "\n",
    "    no_today = bs_obj.find(\"p\", {\"class\":\"no_today\"})\n",
    "    blind = no_today.find(\"span\", {\"class\":\"blind\"})\n",
    "    \n",
    "    return blind.text"
   ]
  },
  {
   "cell_type": "code",
   "execution_count": 26,
   "metadata": {},
   "outputs": [
    {
     "name": "stdout",
     "output_type": "stream",
     "text": [
      "46,550\n"
     ]
    }
   ],
   "source": [
    "print(stock_price(\"005930\"))"
   ]
  },
  {
   "cell_type": "code",
   "execution_count": 42,
   "metadata": {},
   "outputs": [
    {
     "name": "stdout",
     "output_type": "stream",
     "text": [
      "하이닉스: 76,100\n"
     ]
    }
   ],
   "source": [
    "print(\"하이닉스: {}\".format(stock_price(\"000660\")))"
   ]
  },
  {
   "cell_type": "code",
   "execution_count": null,
   "metadata": {},
   "outputs": [],
   "source": []
  }
 ],
 "metadata": {
  "kernelspec": {
   "display_name": "Python 3",
   "language": "python",
   "name": "python3"
  },
  "language_info": {
   "codemirror_mode": {
    "name": "ipython",
    "version": 3
   },
   "file_extension": ".py",
   "mimetype": "text/x-python",
   "name": "python",
   "nbconvert_exporter": "python",
   "pygments_lexer": "ipython3",
   "version": "3.7.0"
  }
 },
 "nbformat": 4,
 "nbformat_minor": 2
}
