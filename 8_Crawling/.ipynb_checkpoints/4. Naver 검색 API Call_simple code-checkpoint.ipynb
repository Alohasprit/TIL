{
 "cells": [
  {
   "cell_type": "code",
   "execution_count": 2,
   "metadata": {},
   "outputs": [],
   "source": [
    "import requests\n",
    "from urllib.request import urlparse"
   ]
  },
  {
   "cell_type": "code",
   "execution_count": 7,
   "metadata": {},
   "outputs": [],
   "source": [
    "keyword = \"로밍\"\n",
    "\n",
    "#네이버 블로그 검색 결과\n",
    "url = \"https://openapi.naver.com/v1/search/blog?query=\" + keyword\n",
    "result = requests.get(urlparse(url).geturl(),\n",
    "                     headers={\"X-Naver-Client-Id\": \"t20uqHAr39TBYdOu4URT\",\n",
    "                              \"X-Naver-Client-Secret\": \"lI2Bsf3dps\"})"
   ]
  },
  {
   "cell_type": "code",
   "execution_count": 15,
   "metadata": {},
   "outputs": [
    {
     "name": "stdout",
     "output_type": "stream",
     "text": [
      "{'lastBuildDate': 'Sun, 24 Mar 2019 23:32:19 +0900', 'total': 209795, 'start': 1, 'display': 10, 'items': [{'title': '일본 후쿠오카 여행 너무 좋은 T<b>로밍</b> 아시아패스 YT 사용후기', 'link': 'https://blog.naver.com/orange7347?Redirect=Log&amp;logNo=221477300932', 'description': 'T<b>로밍</b> 아시아패스YT 사용후기 작년 일본여행에서 즐긴 꽃놀이가 좋은 기억이라 올해도 역시 꽃놀이를... 이번 여행 중에는 일 때문에 받아야 할 중요한 전화도 있어서 <b>로밍</b>을 신청했어요. 마침 T<b>로밍</b>과... ', 'bloggername': '♩ 지혜로운 블로그', 'bloggerlink': 'https://blog.naver.com/orange7347', 'postdate': '20190228'}, {'title': '해외여행 필수! 데이터는 T<b>로밍</b>, <b>로밍</b>통화는 T전화 baro!', 'link': 'https://blog.naver.com/mchan21?Redirect=Log&amp;logNo=221479250285', 'description': '데이터는 T<b>로밍</b>, <b>로밍</b>통화는 T전화 baro! 2019년 올해는 어느해보다 연휴가 많은 한 해가 될 것 같습니다. 2월초 설 연휴, 삼일절은 물론 다가오는 5월 어린이날, 6월 현충일, 8월 광복절, 9월 추석, 10월 개천절과... ', 'bloggername': '불량의 A-Z itメ [아지트]', 'bloggerlink': 'https://blog.naver.com/mchan21', 'postdate': '20190303'}, {'title': '홍콩여행 필수 꿀조합, T<b>로밍</b> 아시아패스 * T전화 baro!', 'link': 'https://blog.naver.com/voued?Redirect=Log&amp;logNo=221482788008', 'description': '데이터<b>로밍</b>, 현지 심카드, 포켓와이파이 등 선택의 여지도 다양함. 하지만 그 중에서도 편의성으로 따지자면 데이터<b>로밍</b>만한 것이 없다. 포켓와이파이처럼 기기를 따로 들고다닐 필요도 없고 현지 심카드처럼... ', 'bloggername': '산소부부의 놀고 먹는 이야기', 'bloggerlink': 'https://blog.naver.com/voued', 'postdate': '20190307'}, {'title': '스페인 여행 T<b>로밍</b> 유럽패스 T전화 baro 무료 통화 사용후기', 'link': 'https://blog.naver.com/todshrck?Redirect=Log&amp;logNo=221483524418', 'description': '스페인 여행자를 위한 T<b>로밍</b> 유럽패스 T전화 baro 무료 통화! 해외 여행에서 인터넷 연결이 필요한... 그래서 데이터 <b>로밍</b>을 챙기게 되는데요. 저는 해외 여행이 잡히면 어떤 데이터 <b>로밍</b> 요금제를 선택할지... ', 'bloggername': '망상K의 비주얼스펙트럼', 'bloggerlink': 'https://blog.naver.com/todshrck', 'postdate': '20190308'}, {'title': '괌 3박 4일 태교여행 준비하기 / T<b>로밍</b>, 90% 환율우대환전... ', 'link': 'https://blog.naver.com/skyzzang720?Redirect=Log&amp;logNo=221494421851', 'description': '괌 3박 4일 태교여행 준비하기 항공권, 숙소, 렌트카, T<b>로밍</b>, 90%환율우대환전, 저렴한 여행자보험... 서비스 이용료는 무료이며, 괌 <b>로밍</b>시에만 사용되는 요금제이기 때문에 한국 있을 땐 신경 쓸 필요... ', 'bloggername': '잡다한 라원뷰티로그', 'bloggerlink': 'https://blog.naver.com/skyzzang720', 'postdate': '20190322'}, {'title': '3월 T<b>로밍</b> 무료 팁 &amp; 삿포로 여행 T<b>로밍</b> 아시아패스, T전화바로... ', 'link': 'https://blog.naver.com/kwoncharm_e?Redirect=Log&amp;logNo=221471642698', 'description': \"항상 여행가기 전이면 와이파이를 빌릴까 <b>로밍</b>을 할까 고민하거든요. 이번에는 T<b>로밍</b> 아시아패스를 가입해서 갔었는데 정말 정말 편하더라고요! 지금 가입 시 'T전화바로(baro)' 서비스를 이용할 수 있는데요.... \", 'bloggername': '권매력의 charming-DAY', 'bloggerlink': 'https://blog.naver.com/kwoncharm_e', 'postdate': '20190221'}, {'title': 'T<b>로밍</b> X T전화 <b>로밍</b> 홍콩여행 생생 후기', 'link': 'https://blog.naver.com/63misschoi?Redirect=Log&amp;logNo=221455882627', 'description': 'T<b>로밍</b> &amp; T전화 바로 홍콩여행 실제 이용기 글/사진 유지 얼마 전 홍콩과 마카오로 홍여사님, 오라버니와... 매번 출국 때마다 데이터를 어떻게 해야하나 했는데 이번 여행 때에는 오랜만에 <b>로밍</b>을... ', 'bloggername': '유지의 오늘 :: 일상/사진/여행', 'bloggerlink': 'https://blog.naver.com/63misschoi', 'postdate': '20190131'}, {'title': '유럽 유심 답이다. 믿거하는 <b>로밍</b>', 'link': 'https://blog.naver.com/cuy0218?Redirect=Log&amp;logNo=221488174348', 'description': '믿거하는 <b>로밍</b> 저에게 의도치않는. 휴가가 떨어졌습니다 쉬는날이 무려 5일이에요 과연 저같은... 유럽 <b>로밍</b>, 유럽 유심과 포켓와이파이에 대해서 제가 낱낱히 파헤쳐볼게요 항상 써 본 사람은 다 자기가... ', 'bloggername': 'EY_____C', 'bloggerlink': 'https://blog.naver.com/cuy0218', 'postdate': '20190314'}, {'title': '태국 여행 SKT T <b>로밍</b> 아시아패스 데이터 + T 전화 baro 이용... ', 'link': 'https://blog.naver.com/travelra?Redirect=Log&amp;logNo=221478779837', 'description': '이번에 가족 중 한 명이 SKT T <b>로밍</b> 아시아패스를 가입했어요. 덕분에 정말 편안하게 여행했답니다. 요금은 5일 2만 5천 원 (부가세 포함)이었어요. 가입도 쉬워서 공항 <b>로밍</b>센터를 방문해도 되지만 시간이... ', 'bloggername': '로즈의 햇살여행', 'bloggerlink': 'https://blog.naver.com/travelra', 'postdate': '20190304'}, {'title': 'KT <b>로밍</b> 덕분에 스페인에서도 데이터 무제한 속도 빵빵!', 'link': 'https://blog.naver.com/tears1124?Redirect=Log&amp;logNo=221491539322', 'description': '제가 이번 유럽행을 준비하면서 가장 잘한 일 중에 하나가 해외유심을 선택하지 않고 KT <b>로밍</b> 서비스를... 그래서, 많은 여행자들은 휴대용 와이파이, 유심카드, <b>로밍</b>서비스를 신청하게 됩니다. 그런데, 실제... ', 'bloggername': '대니얼과 제이미의 리뷰노트', 'bloggerlink': 'https://blog.naver.com/tears1124', 'postdate': '20190318'}]}\n"
     ]
    }
   ],
   "source": [
    "json_obj = result.json()\n",
    "print(json_obj)"
   ]
  },
  {
   "cell_type": "code",
   "execution_count": null,
   "metadata": {},
   "outputs": [],
   "source": []
  }
 ],
 "metadata": {
  "kernelspec": {
   "display_name": "Python 3",
   "language": "python",
   "name": "python3"
  },
  "language_info": {
   "codemirror_mode": {
    "name": "ipython",
    "version": 3
   },
   "file_extension": ".py",
   "mimetype": "text/x-python",
   "name": "python",
   "nbconvert_exporter": "python",
   "pygments_lexer": "ipython3",
   "version": "3.7.2"
  }
 },
 "nbformat": 4,
 "nbformat_minor": 2
}
