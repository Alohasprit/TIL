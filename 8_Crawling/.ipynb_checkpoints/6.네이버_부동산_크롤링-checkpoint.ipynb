{
 "cells": [
  {
   "cell_type": "markdown",
   "metadata": {},
   "source": [
    "### 네이버 부동산 크롤링 연습\n",
    "\n",
    "[Findace_data](https://financedata.github.io/posts/naver-land-crawling.html)  \n",
    "[법정동코드](https://nbviewer.jupyter.org/urls/financedata.github.io/posts/korea-area-code.ipynb)"
   ]
  },
  {
   "cell_type": "code",
   "execution_count": null,
   "metadata": {},
   "outputs": [],
   "source": [
    "import re\n",
    "import pandas as pd\n",
    "from datetime import datetime\n",
    "from bs4 import BeautifulSoup\n",
    "import requests"
   ]
  },
  {
   "cell_type": "code",
   "execution_count": null,
   "metadata": {},
   "outputs": [],
   "source": [
    "def get_naver_realasset(area_code, page=1):\n",
    "    url = 'http://land.naver.com/article/articleList.nhn?' \\\n",
    "        + 'rletTypeCd=A01&tradeTypeCd=A1&hscpTypeCd=A01%3AA03%3AA04' \\\n",
    "        + '&cortarNo=' + area_code \\\n",
    "        + '&page=' + str(page)\n",
    "    \n",
    "    r = requests.get(url)\n",
    "    soup = BeautifulSoup(r.text, 'lxml')\n",
    "\n",
    "    table = soup.find('table')\n",
    "    trs = table.tbody.find_all('tr')\n",
    "    if '등록된 매물이 없습니다' in trs[0].text:\n",
    "        return pd.DataFrame()\n",
    "    \n",
    "    value_list = []\n",
    "\n",
    "    # 거래, 종류, 확인일자, 매물명, 면적(㎡), 층, 매물가(만원), 연락처\n",
    "    for tr in trs[::2]:\n",
    "        tds = tr.find_all('td')\n",
    "        cols = [' '.join(td.text.strip().split()) for td in tds]\n",
    "\n",
    "        if '_thumb_image' not in tds[3]['class']: # 현장확인 날짜와 이미지가 없는 행\n",
    "            cols.insert(3, '')\n",
    "\n",
    "        # print(cols)\n",
    "        거래 = cols[0]\n",
    "        종류 = cols[1]\n",
    "        확인일자 = datetime.strptime(cols[2], '%y.%m.%d.')\n",
    "        현장확인 = cols[3]\n",
    "        매물명 = cols[4]\n",
    "        면적 = cols[5]\n",
    "        공급면적 = re.findall('공급면적(.*?)㎡', 면적)[0].replace(',', '')\n",
    "        전용면적 = re.findall('전용면적(.*?)㎡', 면적)[0].replace(',', '')\n",
    "        공급면적 = float(공급면적)\n",
    "        전용면적 = float(전용면적)\n",
    "        층 = cols[6]\n",
    "        if cols[7].find('호가일뿐 실거래가로확인된 금액이 아닙니다') >= 0:\n",
    "            pass # 단순호가 별도 처리하고자 하면 내용 추가\n",
    "        매물가 = int(cols[7].split(' ')[0].replace(',', '')) \n",
    "        연락처 = cols[8]\n",
    "        \n",
    "        value_list.append([거래, 종류, 확인일자, 현장확인, 매물명, 공급면적, 전용면적, 층, 매물가, 연락처])\n",
    "        \n",
    "    cols = ['거래', '종류', '확인일자', '현장확인', '매물명', '공급면적', '전용면적', '층', '매물가', '연락처']\n",
    "    df = pd.DataFrame(value_list, columns=cols)\n",
    "    return df"
   ]
  },
  {
   "cell_type": "code",
   "execution_count": null,
   "metadata": {},
   "outputs": [],
   "source": [
    "df = get_naver_realasset('1168010600',1) # 60 페이지\n",
    "df\n"
   ]
  },
  {
   "cell_type": "code",
   "execution_count": null,
   "metadata": {},
   "outputs": [],
   "source": [
    "area_code = '1168010600' # 강남구, 대치동 (법정동 코드 https://goo.gl/P6ni8Q 참조)\n",
    "\n",
    "df = pd.DataFrame()\n",
    "for i in range(1, 100): # 최대 100 페이지\n",
    "    df_tmp = get_naver_realasset(area_code, i)\n",
    "    if len(df_tmp) == '-':\n",
    "        break\n",
    "    df = df.append(df_tmp, ignore_index=True)\n",
    "\n",
    "df.head()"
   ]
  },
  {
   "cell_type": "code",
   "execution_count": null,
   "metadata": {},
   "outputs": [],
   "source": [
    "'강남구, 대치동(1168010600)의 물건 총 %d건' % len(df)"
   ]
  },
  {
   "cell_type": "code",
   "execution_count": null,
   "metadata": {},
   "outputs": [],
   "source": []
  },
  {
   "cell_type": "code",
   "execution_count": null,
   "metadata": {},
   "outputs": [],
   "source": []
  }
 ],
 "metadata": {
  "kernelspec": {
   "display_name": "Python 3",
   "language": "python",
   "name": "python3"
  },
  "language_info": {
   "codemirror_mode": {
    "name": "ipython",
    "version": 3
   },
   "file_extension": ".py",
   "mimetype": "text/x-python",
   "name": "python",
   "nbconvert_exporter": "python",
   "pygments_lexer": "ipython3",
   "version": "3.7.4"
  }
 },
 "nbformat": 4,
 "nbformat_minor": 4
}
