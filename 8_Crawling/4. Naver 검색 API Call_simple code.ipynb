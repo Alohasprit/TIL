{
 "cells": [
  {
   "cell_type": "code",
   "execution_count": 1,
   "metadata": {},
   "outputs": [],
   "source": [
    "import requests\n",
    "from urllib.request import urlparse"
   ]
  },
  {
   "cell_type": "code",
   "execution_count": 2,
   "metadata": {},
   "outputs": [],
   "source": [
    "keyword = \"쿠팡\"\n",
    "\n",
    "#네이버 블로그 검색 결과\n",
    "url = \"https://openapi.naver.com/v1/search/blog?query=\" + keyword\n",
    "result = requests.get(urlparse(url).geturl(),\n",
    "                     headers={\"X-Naver-Client-Id\": \"t20uqHAr39TBYdOu4URT\",\n",
    "                              \"X-Naver-Client-Secret\": \"lI2Bsf3dps\"})"
   ]
  },
  {
   "cell_type": "code",
   "execution_count": 3,
   "metadata": {},
   "outputs": [
    {
     "name": "stdout",
     "output_type": "stream",
     "text": [
      "{'lastBuildDate': 'Sun, 15 Dec 2019 22:42:41 +0900', 'total': 5444349, 'start': 1, 'display': 10, 'items': [{'title': '아이허브직구 VS <b>쿠팡</b>로켓직구 누가 더 쌀까요?', 'link': 'https://blog.naver.com/imagineer7?Redirect=Log&logNo=221723346020', 'description': '다행히 이런 상황에 <b>쿠팡</b> 로켓직구가 가뭄에 단비를 뿌려주고 있습니다. 아직 아이허브의 다양한... <b>쿠팡</b> 로켓직구에서도 스포츠리서치 오메가3를 판매한다는 사실. 가격은 살짝 비쌀때가 많지만... ', 'bloggername': '스와니 월드 Welcome to Swany World!', 'bloggerlink': 'https://blog.naver.com/imagineer7', 'postdate': '20191201'}, {'title': '<b>쿠팡</b> 파트너스 가입방법과 한 달 수익 공개!', 'link': 'https://blog.naver.com/tlsdyd1402?Redirect=Log&logNo=221606695024', 'description': '용이 입니다^^ 오늘은 제가 <b>쿠팡</b> 파트너스를 이용한지 한달이 지나가는 날이에요. 지난 7월부터 <b>쿠팡</b> 파트너스를 시작하여 벌써 한 달 이라는 시간이 지났는데 그 간 상세 실적이나 운영했던 방법에 대하여... ', 'bloggername': '용이가 말하다', 'bloggerlink': 'https://blog.naver.com/tlsdyd1402', 'postdate': '20190805'}, {'title': '<b>쿠팡</b> 파트너스, 활용법부터 수익 팁까지!', 'link': 'https://blog.naver.com/jinyee0829?Redirect=Log&logNo=221704901391', 'description': '<b>쿠팡</b> 파트너스, 활용법부터 수익 팁까지! 안녕하세요, 지니에요 : ) 오늘은 매일 쓰려고 했지만 못 했던 바로 <b>쿠팡</b> 파트너스에 대해서 소개하려고 해요. 블로그로 수익을 내는 방식은 여러 가지가 있는데요.... ', 'bloggername': '지니지니한 날들', 'bloggerlink': 'https://blog.naver.com/jinyee0829', 'postdate': '20191111'}, {'title': '<b>쿠팡</b> 로켓프레시 : 2차 주문 후기. 김치,피자,  그리고... ', 'link': 'https://blog.naver.com/le_blanc_?Redirect=Log&logNo=221710082583', 'description': '요즘 날이갈수록 <b>쿠팡</b> 마니아가 되어 <b>쿠팡</b>에서 이것저것 팍팍 시키고 있습니다. 요번에는 <b>쿠팡</b>에서 김치 &amp; 피자를 새로 사보았습니다..! 겸사겸사 지난번에 샀던 사과도 같이 구매 햇구요~~! 배송&amp; 포장은... ', 'bloggername': 'Electronic Cave', 'bloggerlink': 'https://blog.naver.com/le_blanc_', 'postdate': '20191117'}, {'title': '<b>쿠팡</b> 일본기업 불매운동? 제대로 알아보자', 'link': 'https://blog.naver.com/bearis?Redirect=Log&logNo=221594986253', 'description': '기록한 <b>쿠팡</b>. 사상최대의 실적으로 명실상부 규모상으로 우리나라 최대의 이커머스로 자리매김했는데요. 이커머스 기업사항 최대의 블루칩이 된 <b>쿠팡</b>이 최근 일본과의 관계로 불매운동의 타켓이 되고 있다고... ', 'bloggername': '씨오형 스토리', 'bloggerlink': 'https://blog.naver.com/bearis', 'postdate': '20190725'}, {'title': '<b>쿠팡</b> 구강청결제 비타할로 마우스워시 마일드', 'link': 'https://blog.naver.com/marine889?Redirect=Log&logNo=221709931353', 'description': '(주)바이오에스텍이라는 업체에서 제조하고 <b>쿠팡</b>이 판매하는 비타할로 마우스워시는 <b>쿠팡</b> 로켓배송이나 로켓와우에서 구강세정제가 많이 판매되는 것을 보고 <b>쿠팡</b>에서 PB제품으로 기획한 것으로 보이는데... ', 'bloggername': '에뜨랑제', 'bloggerlink': 'https://blog.naver.com/marine889', 'postdate': '20191117'}, {'title': '<b>쿠팡</b> 로켓프레시 세상 편리 : 프레시지 더큰 블랙라벨 스테이크... ', 'link': 'https://blog.naver.com/leedado?Redirect=Log&logNo=221730485591', 'description': '<b>쿠팡</b> 로켓프레시 덕분에 삶의 질이 많이 높아지는 것 같네요. 다음날 먹을 음식을 주문하면 새벽에 집... 570g <b>쿠팡</b> 로켓프레시에 금주의 추천식품 코너가 있습니다. 일주일 동안 특가로 판매를 하는데 50... ', 'bloggername': 'Dream to Make It Real', 'bloggerlink': 'https://blog.naver.com/leedado', 'postdate': '20191208'}, {'title': '(수반)을 DIY로 만들어보자. 다이소보다 튼튼함 feat <b>쿠팡</b>', 'link': 'https://blog.naver.com/rickydoll?Redirect=Log&logNo=221736521170', 'description': '<b>쿠팡</b>와우 가입시 무배기 때문에 이 가격이 나와요. <b>쿠팡</b>와우 첫 한달은 무료로 체험가능하니 한번 신청해보시는 것도 나쁘지 않을 것 같아요. 저는 <b>쿠팡</b>와우 가입시 로켓배송은 전부 무료배송라서 아주 알차게... ', 'bloggername': '인생 뭐 있나…', 'bloggerlink': 'https://blog.naver.com/rickydoll', 'postdate': '20191213'}, {'title': '<b>쿠팡</b> 로켓와우 혜택 및 해지 방법', 'link': 'https://blog.naver.com/skdaksdptn?Redirect=Log&logNo=221700226609', 'description': '<b>쿠팡</b> 로켓와우, 옥션과 G마켓의 스마일클럽, 티몬 슈퍼세이브 그리고 위메프 특가클럽 등 마치... 오늘은 그중에서 <b>쿠팡</b>의 유료 멤버십이 제공하는 다양한 혜택과 해지 방법을 소개하고자 한다. 무료배송, 상품... ', 'bloggername': '짜루의 이것저것 리뷰', 'bloggerlink': 'https://blog.naver.com/skdaksdptn', 'postdate': '20191106'}, {'title': '<b>쿠팡</b> 로켓배송 아기물티슈 네이처 프리미엄 사용해요 ♪', 'link': 'https://blog.naver.com/kcr0818?Redirect=Log&logNo=221732840251', 'description': '<b>쿠팡</b> 로켓배송 아기물티슈 네이처 프리미엄 사용해요 ♪ 우리 띵똥이가 낮잠 자는 이 시간~ 엄마는... 출산을 하고 <b>쿠팡</b> 로켓배송을 얼마나 자주 시키는지~ 이틀에 한번꼴로 우리집 벨을 누르는 것 같아요.... ', 'bloggername': \"'벨'의 소소한 일상 & 벨아틀리에\", 'bloggerlink': 'https://blog.naver.com/kcr0818', 'postdate': '20191210'}]}\n"
     ]
    }
   ],
   "source": [
    "json_obj = result.json()\n",
    "print(json_obj)"
   ]
  },
  {
   "cell_type": "code",
   "execution_count": null,
   "metadata": {},
   "outputs": [],
   "source": []
  }
 ],
 "metadata": {
  "kernelspec": {
   "display_name": "Python 3",
   "language": "python",
   "name": "python3"
  },
  "language_info": {
   "codemirror_mode": {
    "name": "ipython",
    "version": 3
   },
   "file_extension": ".py",
   "mimetype": "text/x-python",
   "name": "python",
   "nbconvert_exporter": "python",
   "pygments_lexer": "ipython3",
   "version": "3.7.4"
  }
 },
 "nbformat": 4,
 "nbformat_minor": 4
}
