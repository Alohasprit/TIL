{
 "cells": [
  {
   "cell_type": "markdown",
   "metadata": {},
   "source": [
    "## 18. 모듈"
   ]
  },
  {
   "cell_type": "markdown",
   "metadata": {},
   "source": [
    "모듈은 다른 코드에서 사용 할 수 있는 변수, 함수, 클래스를 정의한다.\n",
    "\n",
    "모듈을 사용하는 이유는 다음과 같다.\n",
    "\n",
    "1. 동일한 요소를 여러 코드에서 재사용 할 수 있다.\n",
    "2. 독립적인 요소들을 분리함으로써 가독성이 높아지고 관리가 편해진다.\n",
    "3. 이름 공간(name space)을 분리해 충돌을 방지한다."
   ]
  },
  {
   "cell_type": "markdown",
   "metadata": {},
   "source": [
    "모듈의 유형은 다음과 같다.\n",
    "\n",
    "1. 표준 모듈: Python 에서 기본제공하는 모듈이므로 추가 설치가 필요 없다.\n",
    "2. 사용자 생성 모듈: 직접 작성해 import 할 수 있는 위치에 둔다.\n",
    "3. 써드 파티 모듈: pip로 설치하거나 import 할 수 있는 위치에 둔다."
   ]
  },
  {
   "cell_type": "markdown",
   "metadata": {},
   "source": [
    "모듈을 사용하기 위해서는 코드에서 다음과 같이 모듈 이름을 지정해 import 한 후 특정 요소를 사용하면 된다."
   ]
  },
  {
   "cell_type": "code",
   "execution_count": 1,
   "metadata": {
    "collapsed": true
   },
   "outputs": [],
   "source": [
    "import math"
   ]
  },
  {
   "cell_type": "code",
   "execution_count": 2,
   "metadata": {},
   "outputs": [
    {
     "data": {
      "text/plain": [
       "3.141592653589793"
      ]
     },
     "execution_count": 2,
     "metadata": {},
     "output_type": "execute_result"
    }
   ],
   "source": [
    "math.pi # 파이 값"
   ]
  },
  {
   "cell_type": "code",
   "execution_count": 3,
   "metadata": {},
   "outputs": [
    {
     "data": {
      "text/plain": [
       "2.0"
      ]
     },
     "execution_count": 3,
     "metadata": {},
     "output_type": "execute_result"
    }
   ],
   "source": [
    "math.log(100, 10) # 로그 함수"
   ]
  },
  {
   "cell_type": "markdown",
   "metadata": {},
   "source": [
    "혹은 다음과 같이 모듈의 특정 요소만을 가져와 사용 할 수도 있다."
   ]
  },
  {
   "cell_type": "code",
   "execution_count": 4,
   "metadata": {
    "collapsed": true
   },
   "outputs": [],
   "source": [
    "from math import pi"
   ]
  },
  {
   "cell_type": "code",
   "execution_count": 5,
   "metadata": {},
   "outputs": [
    {
     "data": {
      "text/plain": [
       "3.141592653589793"
      ]
     },
     "execution_count": 5,
     "metadata": {},
     "output_type": "execute_result"
    }
   ],
   "source": [
    "pi"
   ]
  },
  {
   "cell_type": "markdown",
   "metadata": {},
   "source": [
    "as 키워드를 이용해 다른 이름을 부여 할 수 있다.\n",
    "\n",
    "주로 이름이 긴 경우 사용하며, Python에는 관례적으로 붙이는 이름이 몇 가지 있다."
   ]
  },
  {
   "cell_type": "code",
   "execution_count": 6,
   "metadata": {
    "collapsed": true
   },
   "outputs": [],
   "source": [
    "import numpy as np"
   ]
  },
  {
   "cell_type": "code",
   "execution_count": 7,
   "metadata": {
    "collapsed": true
   },
   "outputs": [],
   "source": [
    "import tensorflow as tf"
   ]
  },
  {
   "cell_type": "markdown",
   "metadata": {},
   "source": [
    "import 문은 코드 상단 이외의 장소에서 호출 될 수 있다.\n",
    "\n",
    "다음과 같이 여러 번 호출되는 경우 처음 이후의 호출은 무시된다."
   ]
  },
  {
   "cell_type": "code",
   "execution_count": 8,
   "metadata": {},
   "outputs": [
    {
     "name": "stdout",
     "output_type": "stream",
     "text": [
      "1.0 2.0 4.0 8.0 16.0 32.0 64.0 128.0 256.0 512.0\n"
     ]
    }
   ],
   "source": [
    "for i in range(10):\n",
    "    import math\n",
    "    print(math.pow(2, i), end=' ')"
   ]
  },
  {
   "cell_type": "markdown",
   "metadata": {},
   "source": [
    "사용자 생성 모듈을 사용하기 위해서는, 먼저 모듈화 할 코드(예. A.py)를 만들고 필요한 요소를 작성한다.\n",
    "\n",
    "A.py가 사용할 코드와 동일한 디렉토리에 있는 경우에는 import A 호출 후 필요한 A의 요소를 사용한다.\n",
    "\n",
    "반면 A.py가 사용할 코드가 위치한 디렉토리의 서브 디렉토리에 위치하는 경우에는 from 서브디렉토리 import A 호출 후 필요한 A의 요소를 사용한다. 이 때 해당 서브디렉토리의 \\_\\_init\\_\\_.py라는 파일을 이용하여 해당 모듈을 초기화 할 수 있다."
   ]
  }
 ],
 "metadata": {
  "kernelspec": {
   "display_name": "Python 3",
   "language": "python",
   "name": "python3"
  },
  "language_info": {
   "codemirror_mode": {
    "name": "ipython",
    "version": 3
   },
   "file_extension": ".py",
   "mimetype": "text/x-python",
   "name": "python",
   "nbconvert_exporter": "python",
   "pygments_lexer": "ipython3",
   "version": "3.7.1"
  }
 },
 "nbformat": 4,
 "nbformat_minor": 1
}
