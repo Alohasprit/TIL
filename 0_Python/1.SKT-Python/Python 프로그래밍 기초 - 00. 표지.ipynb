{
 "cells": [
  {
   "cell_type": "markdown",
   "metadata": {},
   "source": [
    "# Python 프로그래밍 기초"
   ]
  },
  {
   "cell_type": "markdown",
   "metadata": {},
   "source": [
    "## 목차\n",
    "\n",
    "1. 변수\n",
    "1. 콘솔 입출력\n",
    "1. 주석\n",
    "1. 수치 연산자 및 함수\n",
    "1. 논리 자료형 및 연산자\n",
    "1. 비교 연산자\n",
    "1. 조건문\n",
    "1. 반복문\n",
    "1. 시퀀스 자료형 - list\n",
    "1. 시퀀스 자료형 - tuple\n",
    "1. 시퀀스 자료형 - str\n",
    "1. 시퀀스 자료형 공통 요소\n",
    "1. set\n",
    "1. dict\n",
    "1. 함수\n",
    "1. 객체\n",
    "1. 클래스\n",
    "1. 모듈\n",
    "1. 예외처리\n",
    "1. 기타"
   ]
  },
  {
   "cell_type": "markdown",
   "metadata": {},
   "source": [
    "## 참고자료\n",
    "\n",
    "- Python 공식 매뉴얼 (3.x) https://docs.python.org/3/library/index.html\n",
    "- 파이썬으로 배우는 알고리즘 트레이딩 https://wikidocs.net/book/110\n",
    "- 점프 투 파이썬 https://wikidocs.net/book/1\n",
    "- SoloLearn Python 3 Tutorial https://www.sololearn.com/Course/Python/"
   ]
  }
 ],
 "metadata": {
  "kernelspec": {
   "display_name": "Python 3",
   "language": "python",
   "name": "python3"
  },
  "language_info": {
   "codemirror_mode": {
    "name": "ipython",
    "version": 3
   },
   "file_extension": ".py",
   "mimetype": "text/x-python",
   "name": "python",
   "nbconvert_exporter": "python",
   "pygments_lexer": "ipython3",
   "version": "3.7.1"
  }
 },
 "nbformat": 4,
 "nbformat_minor": 1
}
