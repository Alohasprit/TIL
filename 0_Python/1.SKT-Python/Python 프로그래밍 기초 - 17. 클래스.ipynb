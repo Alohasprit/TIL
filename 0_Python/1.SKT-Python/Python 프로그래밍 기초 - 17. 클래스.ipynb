{
 "cells": [
  {
   "cell_type": "markdown",
   "metadata": {},
   "source": [
    "## 17. 클래스"
   ]
  },
  {
   "cell_type": "markdown",
   "metadata": {},
   "source": [
    "class 키워드를 이용해 클래스 이름을 정의하고, def 키워드를 이용해 메소드를 정의한다.\n",
    "\n",
    "생성자의 이름은 \\_\\_init\\_\\_ 이다.\n",
    "\n",
    "메소드의 첫번째 매개변수는 자기자신을 가리키며, 이름은 self로 하는 것이 관례이다."
   ]
  },
  {
   "cell_type": "code",
   "execution_count": 1,
   "metadata": {},
   "outputs": [],
   "source": [
    "class Person:\n",
    "    def __init__(self, age, first_name, last_name):\n",
    "        self.age = age\n",
    "        self.first_name = first_name\n",
    "        self.last_name = last_name\n",
    "        \n",
    "    def generate_short_greeting(self):\n",
    "        return 'Nice to meet you. I\\'m %s %s.'%(self.first_name, self.last_name)\n",
    "    \n",
    "    def print_short_greeting(self):\n",
    "        # 객체 자기자신의 메소드를 호출 할 때도 self 변수를 사용한다\n",
    "        print(self.generate_short_greeting())"
   ]
  },
  {
   "cell_type": "code",
   "execution_count": 2,
   "metadata": {},
   "outputs": [
    {
     "name": "stdout",
     "output_type": "stream",
     "text": [
      "Nice to meet you. I'm Tom Cruise.\n"
     ]
    }
   ],
   "source": [
    "p1 = Person(54, 'Tom', 'Cruise')\n",
    "p2 = Person(55, 'Barack', 'Obama')\n",
    "p1.print_short_greeting()"
   ]
  },
  {
   "cell_type": "markdown",
   "metadata": {},
   "source": [
    "Python에서는 멤버변수에 대한 접근을 차단 할 수 없으므로 정보은닉을 구현 할 수 없다"
   ]
  },
  {
   "cell_type": "code",
   "execution_count": 3,
   "metadata": {},
   "outputs": [
    {
     "data": {
      "text/plain": [
       "'Tom'"
      ]
     },
     "execution_count": 3,
     "metadata": {},
     "output_type": "execute_result"
    }
   ],
   "source": [
    "p1.first_name"
   ]
  },
  {
   "cell_type": "markdown",
   "metadata": {},
   "source": [
    "Python은 메소드 오버로딩(overloading)이 불가능하지만 자료형을 명시하지 않으므로 다형성을 구현 할 수 있다."
   ]
  },
  {
   "cell_type": "code",
   "execution_count": 4,
   "metadata": {},
   "outputs": [
    {
     "ename": "TypeError",
     "evalue": "func() takes exactly 2 arguments (1 given)",
     "output_type": "error",
     "traceback": [
      "\u001b[1;31m---------------------------------------------------------------------------\u001b[0m",
      "\u001b[1;31mTypeError\u001b[0m                                 Traceback (most recent call last)",
      "\u001b[1;32m<ipython-input-4-55a3e67000c0>\u001b[0m in \u001b[0;36m<module>\u001b[1;34m()\u001b[0m\n\u001b[0;32m      6\u001b[0m \u001b[1;33m\u001b[0m\u001b[0m\n\u001b[0;32m      7\u001b[0m \u001b[0mt\u001b[0m \u001b[1;33m=\u001b[0m \u001b[0mTemp\u001b[0m\u001b[1;33m(\u001b[0m\u001b[1;33m)\u001b[0m\u001b[1;33m\u001b[0m\u001b[0m\n\u001b[1;32m----> 8\u001b[1;33m \u001b[0mt\u001b[0m\u001b[1;33m.\u001b[0m\u001b[0mfunc\u001b[0m\u001b[1;33m(\u001b[0m\u001b[1;33m)\u001b[0m\u001b[1;33m\u001b[0m\u001b[0m\n\u001b[0m",
      "\u001b[1;31mTypeError\u001b[0m: func() takes exactly 2 arguments (1 given)"
     ]
    }
   ],
   "source": [
    "class Temp:\n",
    "    def func(self):\n",
    "        pass\n",
    "    def func(self, x):\n",
    "        pass\n",
    "\n",
    "t = Temp()\n",
    "t.func()"
   ]
  },
  {
   "cell_type": "markdown",
   "metadata": {},
   "source": [
    "상속은 클래스 이름 옆의 괄호로 상속 대상을 지정 함으로써 가능하다.\n",
    "\n",
    "오버로딩이 불가능한 것에 비해 메소드를 오버라이딩(overriding)하는 것은 가능하다."
   ]
  },
  {
   "cell_type": "code",
   "execution_count": 5,
   "metadata": {
    "collapsed": true
   },
   "outputs": [],
   "source": [
    "class Student(Person):\n",
    "    def __init__(self, age, first_name, last_name, university):\n",
    "        Person.__init__(self, age, first_name, last_name)\n",
    "        self.university = university\n",
    "        \n",
    "    def generate_short_greeting(self):\n",
    "        return 'Nice to meet you. I\\'m %s %s from %s.'%(self.first_name, self.last_name, self.university)"
   ]
  },
  {
   "cell_type": "markdown",
   "metadata": {},
   "source": [
    "Python의 모든 함수는 가상함수이므로 객체에 따라 연관된 함수가 호출된다."
   ]
  },
  {
   "cell_type": "code",
   "execution_count": 6,
   "metadata": {},
   "outputs": [
    {
     "name": "stdout",
     "output_type": "stream",
     "text": [
      "Nice to meet you. I'm Hillary Clinton from Yale Law School.\n"
     ]
    }
   ],
   "source": [
    "s1 = Student(69, 'Hillary', 'Clinton', 'Yale Law School')\n",
    "s1.print_short_greeting()"
   ]
  }
 ],
 "metadata": {
  "kernelspec": {
   "display_name": "Python 3",
   "language": "python",
   "name": "python3"
  },
  "language_info": {
   "codemirror_mode": {
    "name": "ipython",
    "version": 3
   },
   "file_extension": ".py",
   "mimetype": "text/x-python",
   "name": "python",
   "nbconvert_exporter": "python",
   "pygments_lexer": "ipython3"
  }
 },
 "nbformat": 4,
 "nbformat_minor": 1
}
