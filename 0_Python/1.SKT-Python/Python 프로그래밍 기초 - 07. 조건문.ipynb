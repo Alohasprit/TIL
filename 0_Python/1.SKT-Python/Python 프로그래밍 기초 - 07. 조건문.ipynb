{
 "cells": [
  {
   "cell_type": "markdown",
   "metadata": {},
   "source": [
    "## 7. 조건문"
   ]
  },
  {
   "cell_type": "markdown",
   "metadata": {},
   "source": [
    "조건문을 만족하면 해당하는 블록을 실행하며, 각 블록은 여러 라인으로 구성될 수 있다.\n",
    "\n",
    "C언어, Java 처럼 괄호나 대괄호가 아닌 콜론 및 들여쓰기으로 구분한다.\n",
    "\n",
    "이 때 Python은 들여쓰기를 엄격하게 지켜야 하며, 들여쓰기를 tab 및 spaces로 혼용해서 쓰면 에러 발생한다.\n",
    "\n",
    "```\n",
    "if 조건문 1:\n",
    "\t블록 1\n",
    "elif 조건문 2:\n",
    "\t블록 2\n",
    "elif 조건문 3:\n",
    "\t블록 3\n",
    "else:\n",
    "\t블록 4\n",
    "```"
   ]
  },
  {
   "cell_type": "code",
   "execution_count": 1,
   "metadata": {},
   "outputs": [
    {
     "name": "stdout",
     "output_type": "stream",
     "text": [
      "case 1\n",
      "10 > 7\n"
     ]
    }
   ],
   "source": [
    "if 10 > 7:\n",
    "    print('case 1')\n",
    "    print('10 > 7')\n",
    "else:\n",
    "    print('case 2')\n",
    "    print('10 <= 7')"
   ]
  }
 ],
 "metadata": {
  "kernelspec": {
   "display_name": "Python 3",
   "language": "python",
   "name": "python3"
  },
  "language_info": {
   "codemirror_mode": {
    "name": "ipython",
    "version": 3
   },
   "file_extension": ".py",
   "mimetype": "text/x-python",
   "name": "python",
   "nbconvert_exporter": "python",
   "pygments_lexer": "ipython3",
   "version": "3.7.1"
  }
 },
 "nbformat": 4,
 "nbformat_minor": 1
}
