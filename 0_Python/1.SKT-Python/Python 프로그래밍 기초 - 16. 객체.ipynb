{
 "cells": [
  {
   "cell_type": "markdown",
   "metadata": {},
   "source": [
    "## 16. 객체"
   ]
  },
  {
   "cell_type": "markdown",
   "metadata": {},
   "source": [
    "#### 바인딩 - 변경 가능한(mutable) 자료형의 경우 (예. list, set, dict)"
   ]
  },
  {
   "cell_type": "markdown",
   "metadata": {},
   "source": [
    "Python에서는 모든 것이 객체이며, 변수는 객체에 대한 참조(reference)이다.\n",
    "\n",
    "아래 x, y 변수에는 같은 값을 같는 서로 다른 객체가 바인딩(binding) 됐다."
   ]
  },
  {
   "cell_type": "code",
   "execution_count": 1,
   "metadata": {},
   "outputs": [],
   "source": [
    "x = [1, 2, 3]; y = [1, 2, 3]"
   ]
  },
  {
   "cell_type": "markdown",
   "metadata": {},
   "source": [
    "x, y는 서로 다른 객체를 가리키고 있으므로 y에 대한 수정은 x에 영향을 미치지 않는다."
   ]
  },
  {
   "cell_type": "code",
   "execution_count": 2,
   "metadata": {},
   "outputs": [
    {
     "data": {
      "text/plain": [
       "([1, 2, 3], [-100, 2, 3])"
      ]
     },
     "execution_count": 2,
     "metadata": {},
     "output_type": "execute_result"
    }
   ],
   "source": [
    "y[0] = -100\n",
    "x, y"
   ]
  },
  {
   "cell_type": "markdown",
   "metadata": {},
   "source": [
    "반면 x가 가리키는 객체를 가리키는 z 변수를 생성하고, z를 통해 리스트의 값을 수정하면 x와 z가 함께 가리키고 있는 객체의 내용이 바뀐다."
   ]
  },
  {
   "cell_type": "code",
   "execution_count": 3,
   "metadata": {},
   "outputs": [
    {
     "data": {
      "text/plain": [
       "([1, 2, 3, 4], [1, 2, 3, 4])"
      ]
     },
     "execution_count": 3,
     "metadata": {},
     "output_type": "execute_result"
    }
   ],
   "source": [
    "z = x\n",
    "z.append(4)\n",
    "x, z"
   ]
  },
  {
   "cell_type": "markdown",
   "metadata": {},
   "source": [
    "z가 아예 다른 객체를 가리키게 하면(rebinding) 더 이상 x가 가리키는 객체에 영향을 줄 수 없다."
   ]
  },
  {
   "cell_type": "code",
   "execution_count": 4,
   "metadata": {},
   "outputs": [
    {
     "data": {
      "text/plain": [
       "([1, 2, 3, 4], ['A', 'B', 'C'])"
      ]
     },
     "execution_count": 4,
     "metadata": {},
     "output_type": "execute_result"
    }
   ],
   "source": [
    "z = ['A', 'B', 'C']\n",
    "x, z"
   ]
  },
  {
   "cell_type": "markdown",
   "metadata": {},
   "source": [
    "#### 바인딩 - 변경이 불가능한(immutable) 자료형의 경우 (예. 수치, str, tuple)"
   ]
  },
  {
   "cell_type": "markdown",
   "metadata": {},
   "source": [
    "변경이 불가능한 자료형은 값을 바꿀 수 없다.\n",
    "\n",
    "변수(variable)에 대한 assign(ex. =, +=, *= ...) 기호는 객체(object)의 값을 바꾸는 것이 아니라, 변수를 다른 객체로 rebinding 시키게 된다.\n",
    "\n",
    "id 함수를 이용해 특정 연산 이후 binding된 객체의 주소값이 바뀌는 것을 볼 수 있다."
   ]
  },
  {
   "cell_type": "code",
   "execution_count": 5,
   "metadata": {},
   "outputs": [
    {
     "name": "stdout",
     "output_type": "stream",
     "text": [
      "8791172691056\n",
      "8791172691696\n"
     ]
    }
   ],
   "source": [
    "x = 10\n",
    "print(id(x))\n",
    "x += 20\n",
    "print(id(x))"
   ]
  },
  {
   "cell_type": "markdown",
   "metadata": {},
   "source": [
    "#### 인자(argument)의 유형에 따른 함수 매개변수(parameter) 작동 원리"
   ]
  },
  {
   "cell_type": "markdown",
   "metadata": {},
   "source": [
    "변경 가능한(mutable) 자료형의 매개변수는 함수 내부의 변경이 인자에 영향을 미칠 수 있다 (call-by-reference 처럼 사용)."
   ]
  },
  {
   "cell_type": "code",
   "execution_count": 6,
   "metadata": {
    "scrolled": true
   },
   "outputs": [
    {
     "data": {
      "text/plain": [
       "[10, 20, 30, 40]"
      ]
     },
     "execution_count": 6,
     "metadata": {},
     "output_type": "execute_result"
    }
   ],
   "source": [
    "def foo(x):\n",
    "    # 이 함수 호출시, x 변수와 my_list 변수가 [10, 20, 30] 객체에 binding 되어 있다\n",
    "    x.append(40)\n",
    "    # 위 코드 실행 후 x 변수에 binding 된 [10, 20, 30] 객체에 40이 추가되어 [10, 20, 30, 40]이 되며\n",
    "    # my_list 변수 역시 해당 객체에 대한 binding을 유지하고 있다\n",
    "    \n",
    "my_list = [10, 20, 30]\n",
    "foo(my_list)\n",
    "my_list"
   ]
  },
  {
   "cell_type": "markdown",
   "metadata": {},
   "source": [
    "함수 내부에서 매개변수의 binding이 바뀌는 경우, 더 이상 기존 객체에 영향을 줄 수 없다."
   ]
  },
  {
   "cell_type": "code",
   "execution_count": 7,
   "metadata": {},
   "outputs": [
    {
     "data": {
      "text/plain": [
       "[10, 20, 30]"
      ]
     },
     "execution_count": 7,
     "metadata": {},
     "output_type": "execute_result"
    }
   ],
   "source": [
    "def foo(x):\n",
    "    # 이 함수 호출시, x 변수와 my_list 변수가 [10, 20, 30] 객체에 binding 되어 있다\n",
    "    x = x + [40]\n",
    "    # 위 코드 실행 후 x 변수는 [10, 20, 30, 40]이라는 다른 객체에 binding 되며, my_list 변수의 binding은 바뀌지 않는다\n",
    "    \n",
    "my_list = [10, 20, 30]\n",
    "foo(my_list)\n",
    "my_list"
   ]
  },
  {
   "cell_type": "markdown",
   "metadata": {},
   "source": [
    "변경이 불가능한(immutable) 자료형의 매개변수는 함수 내부의 변경이 인자에 영향을 미칠 수 없다 (call-by-value 처럼 사용)."
   ]
  },
  {
   "cell_type": "code",
   "execution_count": 8,
   "metadata": {},
   "outputs": [
    {
     "data": {
      "text/plain": [
       "20"
      ]
     },
     "execution_count": 8,
     "metadata": {},
     "output_type": "execute_result"
    }
   ],
   "source": [
    "def foo(x):\n",
    "    x += 10\n",
    "    \n",
    "my_num = 20\n",
    "foo(my_num)\n",
    "my_num"
   ]
  }
 ],
 "metadata": {
  "kernelspec": {
   "display_name": "Python 3",
   "language": "python",
   "name": "python3"
  },
  "language_info": {
   "codemirror_mode": {
    "name": "ipython",
    "version": 3
   },
   "file_extension": ".py",
   "mimetype": "text/x-python",
   "name": "python",
   "nbconvert_exporter": "python",
   "pygments_lexer": "ipython3",
   "version": "3.7.1"
  }
 },
 "nbformat": 4,
 "nbformat_minor": 1
}
