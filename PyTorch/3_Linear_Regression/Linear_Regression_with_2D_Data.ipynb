{
 "cells": [
  {
   "cell_type": "markdown",
   "metadata": {},
   "source": [
    "# Neural Network with 2D Data"
   ]
  },
  {
   "cell_type": "markdown",
   "metadata": {},
   "source": [
    "* 4-layers\n",
    "* 2D data(Matrix)"
   ]
  },
  {
   "cell_type": "markdown",
   "metadata": {},
   "source": [
    "## 1. Import Libraries"
   ]
  },
  {
   "cell_type": "code",
   "execution_count": 1,
   "metadata": {},
   "outputs": [],
   "source": [
    "import numpy as np\n",
    "import torch\n",
    "import torch.nn as nn\n",
    "import torch.nn.init as init\n",
    "import torch.optim as optim\n",
    "from torch.autograd import Variable"
   ]
  },
  {
   "cell_type": "markdown",
   "metadata": {},
   "source": [
    "# 2. Generate Data"
   ]
  },
  {
   "cell_type": "code",
   "execution_count": 2,
   "metadata": {},
   "outputs": [
    {
     "name": "stderr",
     "output_type": "stream",
     "text": [
      "/anaconda3/lib/python3.6/site-packages/ipykernel_launcher.py:1: UserWarning: nn.init.uniform is now deprecated in favor of nn.init.uniform_.\n",
      "  \"\"\"Entry point for launching an IPython kernel.\n",
      "/anaconda3/lib/python3.6/site-packages/ipykernel_launcher.py:2: UserWarning: nn.init.uniform is now deprecated in favor of nn.init.uniform_.\n",
      "  \n"
     ]
    }
   ],
   "source": [
    "x = init.uniform(torch.FloatTensor(1000,1), -10, 10)\n",
    "y = init.uniform(torch.FloatTensor(1000,1), -10, 10)\n",
    "z = x**2 + y**2\n",
    "\n",
    "input_data = torch.cat([x,y], dim=1)"
   ]
  },
  {
   "cell_type": "markdown",
   "metadata": {},
   "source": [
    "## 3. Model"
   ]
  },
  {
   "cell_type": "code",
   "execution_count": 3,
   "metadata": {},
   "outputs": [],
   "source": [
    "model = nn.Sequential(\n",
    "                nn.Linear(2,20),\n",
    "                nn.ReLU(),\n",
    "                nn.Linear(20,10),\n",
    "                nn.ReLU(),\n",
    "                nn.Linear(10,5),\n",
    "                nn.ReLU(),\n",
    "                nn.Linear(5,5),\n",
    "                nn.ReLU(),\n",
    "                nn.Linear(5,1),\n",
    ")"
   ]
  },
  {
   "cell_type": "markdown",
   "metadata": {},
   "source": [
    "## 4. Loss & Optim"
   ]
  },
  {
   "cell_type": "code",
   "execution_count": 4,
   "metadata": {},
   "outputs": [],
   "source": [
    "loss_func = nn.MSELoss()\n",
    "optim = optim.SGD(model.parameters(), lr=0.01)"
   ]
  },
  {
   "cell_type": "markdown",
   "metadata": {},
   "source": [
    "## 5. Trainning"
   ]
  },
  {
   "cell_type": "code",
   "execution_count": 5,
   "metadata": {},
   "outputs": [
    {
     "name": "stdout",
     "output_type": "stream",
     "text": [
      "0 tensor(6310.4790)\n",
      "100 tensor(2015.9619)\n",
      "200 tensor(1718.5554)\n",
      "300 tensor(1713.3235)\n",
      "400 tensor(1713.2306)\n",
      "500 tensor(1713.2286)\n",
      "600 tensor(1713.2289)\n",
      "700 tensor(1713.2294)\n",
      "800 tensor(1713.2294)\n",
      "900 tensor(1713.2294)\n"
     ]
    }
   ],
   "source": [
    "for epoch in range(1000):\n",
    "    optim.zero_grad()\n",
    "    y_pred = model(Variable(input_data))\n",
    "    loss=loss_func( y_pred,z)\n",
    "    loss.backward()\n",
    "    optim.step()\n",
    "    \n",
    "    if epoch % 100 == 0:\n",
    "        print(epoch, loss)\n",
    "    "
   ]
  },
  {
   "cell_type": "code",
   "execution_count": 6,
   "metadata": {},
   "outputs": [],
   "source": [
    "param_list = list(model.parameters())"
   ]
  },
  {
   "cell_type": "code",
   "execution_count": 7,
   "metadata": {},
   "outputs": [
    {
     "data": {
      "text/plain": [
       "Parameter containing:\n",
       "tensor([[  4763.4385,   -489.9073],\n",
       "        [  2028.3326,   9911.8643],\n",
       "        [  1503.4407,  -4552.9370],\n",
       "        [  3260.0513,  14470.3652],\n",
       "        [  1957.4141,  10696.7461],\n",
       "        [ -5447.5991,    679.1799],\n",
       "        [ -1734.5466,   3643.6384],\n",
       "        [  1959.7847,  -3250.8335],\n",
       "        [ -1213.4991,  10687.4248],\n",
       "        [  1375.0885,  10900.5898],\n",
       "        [ -6381.7207,    778.6999],\n",
       "        [   752.2842,  10126.5684],\n",
       "        [  3422.5176,  18097.6406],\n",
       "        [   114.8801,  -2682.7898],\n",
       "        [ 16068.1416,  21533.3164],\n",
       "        [ -2215.6077,   1188.6034],\n",
       "        [  2416.8381,  -6226.6387],\n",
       "        [  8960.5947,   3471.4839],\n",
       "        [ -5212.6982,   8610.1592],\n",
       "        [  3098.7319,   1216.7205]])"
      ]
     },
     "execution_count": 7,
     "metadata": {},
     "output_type": "execute_result"
    }
   ],
   "source": [
    "param_list[0]"
   ]
  },
  {
   "cell_type": "code",
   "execution_count": null,
   "metadata": {},
   "outputs": [],
   "source": []
  }
 ],
 "metadata": {
  "kernelspec": {
   "display_name": "Python 3",
   "language": "python",
   "name": "python3"
  },
  "language_info": {
   "codemirror_mode": {
    "name": "ipython",
    "version": 3
   },
   "file_extension": ".py",
   "mimetype": "text/x-python",
   "name": "python",
   "nbconvert_exporter": "python",
   "pygments_lexer": "ipython3",
   "version": "3.6.5"
  }
 },
 "nbformat": 4,
 "nbformat_minor": 2
}
