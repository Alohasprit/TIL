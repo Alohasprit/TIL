{
 "cells": [
  {
   "cell_type": "markdown",
   "metadata": {},
   "source": [
    "### VGG Net\n",
    "\n",
    "[1. VGG Net 논문](https://arxiv.org/pdf/1409.1556.pdf)\n",
    "2. 2014 ILSVRC 2nd Place\n",
    "3. VGG -1 16\n",
    "4. Convolution Layer\n",
    "5. Maxpooling Layer\n",
    "6. Fully Connected Layer\n",
    "![image](https://qph.fs.quoracdn.net/main-qimg-83c7dee9e8b039c3ca27c8dd91cacbb4)"
   ]
  },
  {
   "cell_type": "markdown",
   "metadata": {},
   "source": [
    "### 1. Setting"
   ]
  },
  {
   "cell_type": "markdown",
   "metadata": {},
   "source": [
    "#### 1-1. Import Required Libraries"
   ]
  },
  {
   "cell_type": "code",
   "execution_count": 4,
   "metadata": {
    "collapsed": true
   },
   "outputs": [],
   "source": [
    "import numpy as np\n",
    "import torch  \n",
    "import torch.nn as nn\n",
    "import torch.optim as optim\n",
    "import torch.nn.init as init\n",
    "import torch.utils.data as data\n",
    "import torchvision.datasets as dset\n",
    "import torchvision.transforms as transforms\n",
    "from torch.utils.data import DataLoader\n",
    "from torch.autograd import Variable"
   ]
  },
  {
   "cell_type": "markdown",
   "metadata": {},
   "source": [
    "#### 1-2 Hyperparameters"
   ]
  },
  {
   "cell_type": "code",
   "execution_count": 5,
   "metadata": {
    "collapsed": true
   },
   "outputs": [],
   "source": [
    "batch_size = 1\n",
    "learning_rate = 0.201\n",
    "epoch = 100"
   ]
  },
  {
   "cell_type": "markdown",
   "metadata": {
    "collapsed": true
   },
   "source": [
    "### 2. Data"
   ]
  },
  {
   "cell_type": "markdown",
   "metadata": {},
   "source": [
    "#### 2-1 Download"
   ]
  },
  {
   "cell_type": "code",
   "execution_count": 75,
   "metadata": {},
   "outputs": [
    {
     "name": "stderr",
     "output_type": "stream",
     "text": [
      "C:\\Users\\sktelecom\\AppData\\Local\\Continuum\\Anaconda3\\lib\\site-packages\\torchvision\\transforms\\transforms.py:188: UserWarning: The use of the transforms.Scale transform is deprecated, please use transforms.Resize instead.\n",
      "  \"please use transforms.Resize instead.\")\n",
      "C:\\Users\\sktelecom\\AppData\\Local\\Continuum\\Anaconda3\\lib\\site-packages\\torchvision\\transforms\\transforms.py:563: UserWarning: The use of the transforms.RandomSizedCrop transform is deprecated, please use transforms.RandomResizedCrop instead.\n",
      "  \"please use transforms.RandomResizedCrop instead.\")\n"
     ]
    },
    {
     "name": "stdout",
     "output_type": "stream",
     "text": [
      "Files already downloaded and verified\n"
     ]
    }
   ],
   "source": [
    "img_dir = '../../Desktop/train.csv'\n",
    "train = dset.CIFAR10(img_dir,train =True, download = True,\n",
    "                     transform=transforms.Compose([\n",
    "                         transforms.ToTensor(),\n",
    "                         transforms.Scale(256),\n",
    "                         transforms.RandomSizedCrop(224),\n",
    "                         transforms.RandomHorizontalFlip(),\n",
    "                      \n",
    "                     ])\n",
    "                    )"
   ]
  },
  {
   "cell_type": "code",
   "execution_count": 76,
   "metadata": {},
   "outputs": [
    {
     "data": {
      "text/plain": [
       "50000"
      ]
     },
     "execution_count": 76,
     "metadata": {},
     "output_type": "execute_result"
    }
   ],
   "source": [
    "len(train)"
   ]
  },
  {
   "cell_type": "code",
   "execution_count": 77,
   "metadata": {},
   "outputs": [
    {
     "data": {
      "text/plain": [
       "Dataset CIFAR10\n",
       "    Number of datapoints: 50000\n",
       "    Split: train\n",
       "    Root Location: ../../Desktop/train.csv\n",
       "    Transforms (if any): Compose(\n",
       "                             ToTensor()\n",
       "                             Scale(size=256, interpolation=PIL.Image.BILINEAR)\n",
       "                             RandomSizedCrop(size=(224, 224), scale=(0.08, 1.0), ratio=(0.75, 1.3333), interpolation=PIL.Image.BILINEAR)\n",
       "                             RandomHorizontalFlip(p=0.5)\n",
       "                         )\n",
       "    Target Transforms (if any): None"
      ]
     },
     "execution_count": 77,
     "metadata": {},
     "output_type": "execute_result"
    }
   ],
   "source": [
    "train"
   ]
  },
  {
   "cell_type": "markdown",
   "metadata": {},
   "source": [
    "#### 2-2. Data Batch"
   ]
  },
  {
   "cell_type": "code",
   "execution_count": 78,
   "metadata": {},
   "outputs": [],
   "source": [
    "train_batch = data.DataLoader(img_dir, batch_size=batch_size, shuffle = True, num_workers=2)"
   ]
  },
  {
   "cell_type": "markdown",
   "metadata": {},
   "source": [
    "### 3. Model"
   ]
  },
  {
   "cell_type": "markdown",
   "metadata": {},
   "source": [
    "#### 3-1 Basic Block"
   ]
  },
  {
   "cell_type": "code",
   "execution_count": 81,
   "metadata": {
    "collapsed": true
   },
   "outputs": [],
   "source": [
    "#Conv_2_block\n",
    "def Conv_2_block(in_channel, out_channel):\n",
    "    model=nn.Sequential(\n",
    "            nn.Conv2d(in_channel, out_channel, kerner_size=3, padding=1),\n",
    "            nn.ReLu(),\n",
    "            nn.Conv2d(out_channel, out_channel, kerner_size=3, padding=1),\n",
    "            nn.ReLu(),\n",
    "            nn.MaxPool2d(2,2),\n",
    "    )\n",
    "    \n",
    "    return model\n",
    "\n",
    "#Conv_3_block\n",
    "def Conv_3_block(in_channel, out_channel):\n",
    "    model = nn.Sequential(\n",
    "            nn.Conv2d(in_channel, out_channel, kerner_size=3, padding=1),\n",
    "            nn.ReLu(),\n",
    "            nn.Conv2d(in_channel, out_channel, kerner_size=3, padding=1),\n",
    "            nn.ReLu(),\n",
    "            nn.Conv2d(in_channel, out_channel, kerner_size=3, padding=1),\n",
    "            nn.ReLu(),\n",
    "            nn.MaxPool2d(2,2),\n",
    "    )\n",
    "    \n",
    "    return model\n"
   ]
  },
  {
   "cell_type": "markdown",
   "metadata": {},
   "source": [
    "#### 3-2 VGG Net"
   ]
  },
  {
   "cell_type": "code",
   "execution_count": null,
   "metadata": {
    "collapsed": true
   },
   "outputs": [],
   "source": []
  }
 ],
 "metadata": {
  "kernelspec": {
   "display_name": "Python 3",
   "language": "python",
   "name": "python3"
  },
  "language_info": {
   "codemirror_mode": {
    "name": "ipython",
    "version": 3
   },
   "file_extension": ".py",
   "mimetype": "text/x-python",
   "name": "python",
   "nbconvert_exporter": "python",
   "pygments_lexer": "ipython3",
   "version": "3.6.6"
  }
 },
 "nbformat": 4,
 "nbformat_minor": 2
}
