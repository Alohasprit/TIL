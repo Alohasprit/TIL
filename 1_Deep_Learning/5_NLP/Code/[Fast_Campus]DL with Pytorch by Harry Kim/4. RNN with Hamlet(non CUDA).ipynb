{
 "cells": [
  {
   "cell_type": "markdown",
   "metadata": {},
   "source": [
    "# 19. RNN with Hamlet"
   ]
  },
  {
   "cell_type": "code",
   "execution_count": 1,
   "metadata": {},
   "outputs": [],
   "source": [
    "import torch\n",
    "import torch.nn as nn\n",
    "\n",
    "import nltk\n",
    "\n",
    "import random\n",
    "import numpy as np"
   ]
  },
  {
   "cell_type": "markdown",
   "metadata": {},
   "source": [
    "## 19.1 Prepare Data"
   ]
  },
  {
   "cell_type": "code",
   "execution_count": 2,
   "metadata": {},
   "outputs": [
    {
     "name": "stdout",
     "output_type": "stream",
     "text": [
      "[nltk_data] Downloading package gutenberg to\n",
      "[nltk_data]     /Users/hoyounson/nltk_data...\n",
      "[nltk_data]   Package gutenberg is already up-to-date!\n"
     ]
    },
    {
     "data": {
      "text/plain": [
       "True"
      ]
     },
     "execution_count": 2,
     "metadata": {},
     "output_type": "execute_result"
    }
   ],
   "source": [
    "nltk.download(\"gutenberg\")"
   ]
  },
  {
   "cell_type": "code",
   "execution_count": 3,
   "metadata": {},
   "outputs": [
    {
     "name": "stdout",
     "output_type": "stream",
     "text": [
      "[The Tragedie of Hamlet by William Shakespeare 1599]\n",
      "\n",
      "\n",
      "Actus Primus. Scoena Prima.\n",
      "\n",
      "Enter Barnardo and Francisco two Centinels.\n",
      "\n",
      "  Barnardo. Who's there?\n",
      "  Fran. Nay answer me: Stand & vnfold\n",
      "your selfe\n",
      "\n",
      "   Bar. Long liue the King\n",
      "\n",
      "   Fran. Barnardo?\n",
      "  Bar. He\n",
      "\n",
      "   Fran. You come most carefully vpon your houre\n",
      "\n",
      "   Bar. 'Tis now strook twelue, get thee to bed Francisco\n",
      "\n",
      "   Fran. For this releefe much thankes: 'Tis bitter cold,\n",
      "And I am sicke at heart\n",
      "\n",
      "   Barn. Haue you had quiet Guard?\n",
      "  Fran. Not\n"
     ]
    }
   ],
   "source": [
    "raw = nltk.corpus.gutenberg.raw(\"shakespeare-hamlet.txt\")\n",
    "print(raw[:500])"
   ]
  },
  {
   "cell_type": "markdown",
   "metadata": {},
   "source": [
    "## 19.2 Char to Dic"
   ]
  },
  {
   "cell_type": "code",
   "execution_count": 4,
   "metadata": {},
   "outputs": [],
   "source": [
    "char2index = {}\n",
    "index2char = []"
   ]
  },
  {
   "cell_type": "code",
   "execution_count": 5,
   "metadata": {},
   "outputs": [],
   "source": [
    "for char in raw :\n",
    "    if char not in char2index.keys() :\n",
    "        char2index[char] = len(char2index)\n",
    "        index2char.append(char)"
   ]
  },
  {
   "cell_type": "code",
   "execution_count": 6,
   "metadata": {},
   "outputs": [
    {
     "data": {
      "text/plain": [
       "{'[': 0,\n",
       " 'T': 1,\n",
       " 'h': 2,\n",
       " 'e': 3,\n",
       " ' ': 4,\n",
       " 'r': 5,\n",
       " 'a': 6,\n",
       " 'g': 7,\n",
       " 'd': 8,\n",
       " 'i': 9,\n",
       " 'o': 10,\n",
       " 'f': 11,\n",
       " 'H': 12,\n",
       " 'm': 13,\n",
       " 'l': 14,\n",
       " 't': 15,\n",
       " 'b': 16,\n",
       " 'y': 17,\n",
       " 'W': 18,\n",
       " 'S': 19,\n",
       " 'k': 20,\n",
       " 's': 21,\n",
       " 'p': 22,\n",
       " '1': 23,\n",
       " '5': 24,\n",
       " '9': 25,\n",
       " ']': 26,\n",
       " '\\n': 27,\n",
       " 'A': 28,\n",
       " 'c': 29,\n",
       " 'u': 30,\n",
       " 'P': 31,\n",
       " '.': 32,\n",
       " 'n': 33,\n",
       " 'E': 34,\n",
       " 'B': 35,\n",
       " 'F': 36,\n",
       " 'w': 37,\n",
       " 'C': 38,\n",
       " \"'\": 39,\n",
       " '?': 40,\n",
       " 'N': 41,\n",
       " ':': 42,\n",
       " '&': 43,\n",
       " 'v': 44,\n",
       " 'L': 45,\n",
       " 'K': 46,\n",
       " 'Y': 47,\n",
       " ',': 48,\n",
       " 'I': 49,\n",
       " 'q': 50,\n",
       " 'G': 51,\n",
       " 'M': 52,\n",
       " 'R': 53,\n",
       " '-': 54,\n",
       " 'D': 55,\n",
       " 'O': 56,\n",
       " 'x': 57,\n",
       " ';': 58,\n",
       " 'Q': 59,\n",
       " 'z': 60,\n",
       " '(': 61,\n",
       " ')': 62,\n",
       " 'V': 63,\n",
       " '!': 64,\n",
       " 'j': 65,\n",
       " 'Z': 66}"
      ]
     },
     "execution_count": 6,
     "metadata": {},
     "output_type": "execute_result"
    }
   ],
   "source": [
    "char2index"
   ]
  },
  {
   "cell_type": "code",
   "execution_count": 7,
   "metadata": {
    "scrolled": true
   },
   "outputs": [
    {
     "name": "stdout",
     "output_type": "stream",
     "text": [
      "Dimension of input & output : 67\n"
     ]
    }
   ],
   "source": [
    "dim = len(char2index)\n",
    "print(\"Dimension of input & output :\", dim)"
   ]
  },
  {
   "cell_type": "code",
   "execution_count": 8,
   "metadata": {},
   "outputs": [],
   "source": [
    "char2vec = {}\n",
    "#eye : 행렬에서 대각선만 1인 정뱡행렬 -> one-hot encoding때 사용함\n",
    "eye = np.eye(len(char2index))"
   ]
  },
  {
   "cell_type": "code",
   "execution_count": 9,
   "metadata": {},
   "outputs": [],
   "source": [
    "for item in char2index.keys() :\n",
    "    char2vec[item] = eye[char2index[item],:]"
   ]
  },
  {
   "cell_type": "code",
   "execution_count": 10,
   "metadata": {},
   "outputs": [
    {
     "data": {
      "text/plain": [
       "array([0., 0., 0., 0., 0., 0., 1., 0., 0., 0., 0., 0., 0., 0., 0., 0., 0.,\n",
       "       0., 0., 0., 0., 0., 0., 0., 0., 0., 0., 0., 0., 0., 0., 0., 0., 0.,\n",
       "       0., 0., 0., 0., 0., 0., 0., 0., 0., 0., 0., 0., 0., 0., 0., 0., 0.,\n",
       "       0., 0., 0., 0., 0., 0., 0., 0., 0., 0., 0., 0., 0., 0., 0., 0.])"
      ]
     },
     "execution_count": 10,
     "metadata": {},
     "output_type": "execute_result"
    }
   ],
   "source": [
    "char2vec['a']"
   ]
  },
  {
   "cell_type": "code",
   "execution_count": 11,
   "metadata": {},
   "outputs": [],
   "source": [
    "data = np.array([char2vec[char] for char in raw])"
   ]
  },
  {
   "cell_type": "markdown",
   "metadata": {},
   "source": [
    "## 19.3 Define Model"
   ]
  },
  {
   "cell_type": "code",
   "execution_count": 12,
   "metadata": {},
   "outputs": [],
   "source": [
    "# https://pytorch.org/docs/stable/nn.html#torch.nn.RNN"
   ]
  },
  {
   "cell_type": "code",
   "execution_count": 13,
   "metadata": {},
   "outputs": [],
   "source": [
    "# Parameters:\t\n",
    "# input_size – The number of expected features in the input x\n",
    "# hidden_size – The number of features in the hidden state h\n",
    "# num_layers – Number of recurrent layers. E.g., setting num_layers=2 would mean stacking two RNNs together to form a stacked RNN, with the second RNN taking in outputs of the first RNN and computing the final results. Default: 1\n",
    "# nonlinearity – The non-linearity to use. Can be either ‘tanh’ or ‘relu’. Default: ‘tanh’\n",
    "# bias – If False, then the layer does not use bias weights b_ih and b_hh. Default: True\n",
    "# batch_first – If True, then the input and output tensors are provided as (batch, seq, feature). Default: False\n",
    "# dropout – If non-zero, introduces a Dropout layer on the outputs of each RNN layer except the last layer, with dropout probability equal to dropout. Default: 0\n",
    "# bidirectional – If True, becomes a bidirectional RNN. Default: False"
   ]
  },
  {
   "cell_type": "code",
   "execution_count": 14,
   "metadata": {},
   "outputs": [],
   "source": [
    "class RNN(nn.Module):\n",
    "    def __init__(self, input_size, hidden_size, output_size, num_layers):\n",
    "        super(RNN, self).__init__()\n",
    "        self.input_size = input_size\n",
    "        self.hidden_size = hidden_size\n",
    "        self.output_size = output_size\n",
    "        self.num_layers = num_layers\n",
    "        \n",
    "        self.rnn = nn.RNN(input_size, hidden_size, num_layers)\n",
    "        self.fc = nn.Linear(hidden_size, output_size)\n",
    "        \n",
    "    def forward(self, input, hidden):\n",
    "        out, hidden = self.rnn(input, hidden)\n",
    "        fc_out = self.fc(out)\n",
    "        return fc_out, hidden\n",
    "\n",
    "    def init_hidden(self):\n",
    "        hidden = torch.zeros(self.num_layers, 1, self.hidden_size)\n",
    "        return hidden"
   ]
  },
  {
   "cell_type": "code",
   "execution_count": 15,
   "metadata": {},
   "outputs": [],
   "source": [
    "model = RNN(dim, 500, dim, 1)"
   ]
  },
  {
   "cell_type": "markdown",
   "metadata": {},
   "source": [
    "## 19.4 Train Model"
   ]
  },
  {
   "cell_type": "code",
   "execution_count": 16,
   "metadata": {},
   "outputs": [],
   "source": [
    "optimizer = torch.optim.Adam(model.parameters(), lr=0.001)\n",
    "loss = nn.CrossEntropyLoss()"
   ]
  },
  {
   "cell_type": "code",
   "execution_count": 17,
   "metadata": {},
   "outputs": [],
   "source": [
    "seq_len = 100\n",
    "num_epochs = 5"
   ]
  },
  {
   "cell_type": "code",
   "execution_count": 18,
   "metadata": {
    "scrolled": false
   },
   "outputs": [
    {
     "name": "stdout",
     "output_type": "stream",
     "text": [
      "Epoch [1/5], Iter [100/1627] Loss: 325.5493\n",
      "Epoch [1/5], Iter [200/1627] Loss: 302.4445\n",
      "Epoch [1/5], Iter [300/1627] Loss: 289.0473\n",
      "Epoch [1/5], Iter [400/1627] Loss: 276.7920\n",
      "Epoch [1/5], Iter [500/1627] Loss: 262.9982\n",
      "Epoch [1/5], Iter [600/1627] Loss: 231.0349\n",
      "Epoch [1/5], Iter [700/1627] Loss: 271.1507\n",
      "Epoch [1/5], Iter [800/1627] Loss: 230.7046\n",
      "Epoch [1/5], Iter [900/1627] Loss: 257.7407\n",
      "Epoch [1/5], Iter [1000/1627] Loss: 263.3738\n",
      "Epoch [1/5], Iter [1100/1627] Loss: 253.3081\n",
      "Epoch [1/5], Iter [1200/1627] Loss: 242.2762\n",
      "Epoch [1/5], Iter [1300/1627] Loss: 254.1014\n",
      "Epoch [1/5], Iter [1400/1627] Loss: 237.2729\n",
      "Epoch [1/5], Iter [1500/1627] Loss: 250.7467\n",
      "Epoch [1/5], Iter [1600/1627] Loss: 194.4422\n",
      "Epoch [2/5], Iter [100/1627] Loss: 215.6544\n",
      "Epoch [2/5], Iter [200/1627] Loss: 208.1157\n",
      "Epoch [2/5], Iter [300/1627] Loss: 200.9964\n",
      "Epoch [2/5], Iter [400/1627] Loss: 227.1469\n",
      "Epoch [2/5], Iter [500/1627] Loss: 186.8770\n",
      "Epoch [2/5], Iter [600/1627] Loss: 243.5639\n",
      "Epoch [2/5], Iter [700/1627] Loss: 215.8697\n",
      "Epoch [2/5], Iter [800/1627] Loss: 214.3732\n",
      "Epoch [2/5], Iter [900/1627] Loss: 212.6586\n",
      "Epoch [2/5], Iter [1000/1627] Loss: 232.4420\n",
      "Epoch [2/5], Iter [1100/1627] Loss: 203.0205\n",
      "Epoch [2/5], Iter [1200/1627] Loss: 178.4642\n",
      "Epoch [2/5], Iter [1300/1627] Loss: 217.2614\n",
      "Epoch [2/5], Iter [1400/1627] Loss: 192.1940\n",
      "Epoch [2/5], Iter [1500/1627] Loss: 196.6578\n",
      "Epoch [2/5], Iter [1600/1627] Loss: 165.5538\n",
      "Epoch [3/5], Iter [100/1627] Loss: 184.9906\n",
      "Epoch [3/5], Iter [200/1627] Loss: 192.0015\n",
      "Epoch [3/5], Iter [300/1627] Loss: 247.3045\n",
      "Epoch [3/5], Iter [400/1627] Loss: 165.5137\n",
      "Epoch [3/5], Iter [500/1627] Loss: 201.8244\n",
      "Epoch [3/5], Iter [600/1627] Loss: 213.6159\n",
      "Epoch [3/5], Iter [700/1627] Loss: 210.6237\n",
      "Epoch [3/5], Iter [800/1627] Loss: 177.4588\n",
      "Epoch [3/5], Iter [900/1627] Loss: 215.6063\n",
      "Epoch [3/5], Iter [1000/1627] Loss: 169.5713\n",
      "Epoch [3/5], Iter [1100/1627] Loss: 173.7430\n",
      "Epoch [3/5], Iter [1200/1627] Loss: 181.6656\n",
      "Epoch [3/5], Iter [1300/1627] Loss: 216.3415\n",
      "Epoch [3/5], Iter [1400/1627] Loss: 184.8843\n",
      "Epoch [3/5], Iter [1500/1627] Loss: 217.3929\n",
      "Epoch [3/5], Iter [1600/1627] Loss: 192.1722\n",
      "Epoch [4/5], Iter [100/1627] Loss: 204.6786\n",
      "Epoch [4/5], Iter [200/1627] Loss: 169.0701\n",
      "Epoch [4/5], Iter [300/1627] Loss: 207.6752\n",
      "Epoch [4/5], Iter [400/1627] Loss: 172.7617\n",
      "Epoch [4/5], Iter [500/1627] Loss: 160.1778\n",
      "Epoch [4/5], Iter [600/1627] Loss: 197.9511\n",
      "Epoch [4/5], Iter [700/1627] Loss: 193.6618\n",
      "Epoch [4/5], Iter [800/1627] Loss: 205.1037\n",
      "Epoch [4/5], Iter [900/1627] Loss: 191.6808\n",
      "Epoch [4/5], Iter [1000/1627] Loss: 194.8743\n",
      "Epoch [4/5], Iter [1100/1627] Loss: 172.5871\n",
      "Epoch [4/5], Iter [1200/1627] Loss: 167.6016\n",
      "Epoch [4/5], Iter [1300/1627] Loss: 161.1255\n",
      "Epoch [4/5], Iter [1400/1627] Loss: 160.9482\n",
      "Epoch [4/5], Iter [1500/1627] Loss: 216.4092\n",
      "Epoch [4/5], Iter [1600/1627] Loss: 195.4782\n",
      "Epoch [5/5], Iter [100/1627] Loss: 192.8033\n",
      "Epoch [5/5], Iter [200/1627] Loss: 150.3191\n",
      "Epoch [5/5], Iter [300/1627] Loss: 173.7739\n",
      "Epoch [5/5], Iter [400/1627] Loss: 195.4971\n",
      "Epoch [5/5], Iter [500/1627] Loss: 189.5802\n",
      "Epoch [5/5], Iter [600/1627] Loss: 157.7963\n",
      "Epoch [5/5], Iter [700/1627] Loss: 215.2464\n",
      "Epoch [5/5], Iter [800/1627] Loss: 174.0692\n",
      "Epoch [5/5], Iter [900/1627] Loss: 197.1004\n",
      "Epoch [5/5], Iter [1000/1627] Loss: 222.1006\n",
      "Epoch [5/5], Iter [1100/1627] Loss: 174.8210\n",
      "Epoch [5/5], Iter [1200/1627] Loss: 213.3203\n",
      "Epoch [5/5], Iter [1300/1627] Loss: 184.9817\n",
      "Epoch [5/5], Iter [1400/1627] Loss: 215.2095\n",
      "Epoch [5/5], Iter [1500/1627] Loss: 191.1750\n",
      "Epoch [5/5], Iter [1600/1627] Loss: 202.6241\n"
     ]
    }
   ],
   "source": [
    "for epoch in range(num_epochs):\n",
    "    \n",
    "    sp = list(range(0, len(data) - 2 * seq_len, seq_len))\n",
    "    sp = np.add(sp, random.randint(0, seq_len))\n",
    "    random.shuffle(sp)\n",
    "    \n",
    "    for i in range(len(sp)) :\n",
    "    \n",
    "        hidden = model.init_hidden()\n",
    "\n",
    "        cost = 0\n",
    "            \n",
    "        for pos in range(sp[i], sp[i] + seq_len):\n",
    "            \n",
    "            X = torch.from_numpy(data[pos]).type(torch.FloatTensor).reshape(1, 1, dim)\n",
    "            y = torch.from_numpy(data[pos+1])\n",
    "            \n",
    "            _, y = y.max(dim=0)\n",
    "            \n",
    "            pre, hidden = model(X,hidden)\n",
    "            cost += loss(pre.reshape(1, dim), y.reshape(1))\n",
    "\n",
    "        optimizer.zero_grad()\n",
    "        cost.backward()\n",
    "        \n",
    "        nn.utils.clip_grad_norm_(model.parameters(), 5)\n",
    "        \n",
    "        optimizer.step()\n",
    "\n",
    "        if (i + 1) % 100 == 0 :\n",
    "            print('Epoch [%d/%d], Iter [%d/%d] Loss: %.4f'\n",
    "                     %(epoch+1, num_epochs, i + 1, len(sp), cost.item()))"
   ]
  },
  {
   "cell_type": "markdown",
   "metadata": {},
   "source": [
    "## 19.5 Test Model"
   ]
  },
  {
   "cell_type": "code",
   "execution_count": 21,
   "metadata": {
    "scrolled": false
   },
   "outputs": [
    {
     "name": "stdout",
     "output_type": "stream",
     "text": [
      "* Generated Text : \n",
      "\n",
      " rhese is sures in my somes\n",
      "Where as this very canght\n",
      "\n",
      "   Ham. In the peake it sir: Of so feare of mind haue houle in a ve to he makes of migher Hom thee be see timerees to Enthe to to his connation and mare anke of vispring vnsing of my Lord, and dow a mand for booke in the vering of your she parde, and more as I shead and fithing his buther\n",
      "\n",
      "   Ham. I caue ham his bedse though you sprecherie and with to tee bearth at I haue a vight\n",
      "Of with a dist to En me\n",
      "\n",
      "   Ham. What vimy dod to your Firenclis\n"
     ]
    }
   ],
   "source": [
    "start_num = 5\n",
    "text = index2char[start_num]\n",
    "\n",
    "model.eval()\n",
    "hidden = model.init_hidden()\n",
    "\n",
    "X_test = torch.from_numpy(data[start_num]).type(torch.FloatTensor).reshape(1, 1, dim)\n",
    "    \n",
    "for i in range(500) :\n",
    "\n",
    "    pre, hidden = model(X_test, hidden)\n",
    "\n",
    "    temp = pre.reshape(-1).data.numpy()\n",
    "\n",
    "    best_5 = np.argsort(temp)[::-1][:5]\n",
    "    \n",
    "    temp = np.exp(temp[best_5])\n",
    "    \n",
    "    temp = temp / temp.sum()\n",
    "    \n",
    "    pre = np.random.choice(best_5, 1, p = temp)[0]\n",
    "    \n",
    "    curr_char = index2char[pre]\n",
    "    \n",
    "    text += curr_char\n",
    "    \n",
    "    X_test = torch.from_numpy(char2vec[curr_char]).type(torch.FloatTensor).reshape(1, 1, dim)\n",
    "    \n",
    "print(\"* Generated Text : \\n\\n\", text)"
   ]
  },
  {
   "cell_type": "code",
   "execution_count": null,
   "metadata": {},
   "outputs": [],
   "source": []
  }
 ],
 "metadata": {
  "kernelspec": {
   "display_name": "Python 3",
   "language": "python",
   "name": "python3"
  },
  "language_info": {
   "codemirror_mode": {
    "name": "ipython",
    "version": 3
   },
   "file_extension": ".py",
   "mimetype": "text/x-python",
   "name": "python",
   "nbconvert_exporter": "python",
   "pygments_lexer": "ipython3",
   "version": "3.7.2"
  },
  "varInspector": {
   "cols": {
    "lenName": 16,
    "lenType": 16,
    "lenVar": 40
   },
   "kernels_config": {
    "python": {
     "delete_cmd_postfix": "",
     "delete_cmd_prefix": "del ",
     "library": "var_list.py",
     "varRefreshCmd": "print(var_dic_list())"
    },
    "r": {
     "delete_cmd_postfix": ") ",
     "delete_cmd_prefix": "rm(",
     "library": "var_list.r",
     "varRefreshCmd": "cat(var_dic_list()) "
    }
   },
   "types_to_exclude": [
    "module",
    "function",
    "builtin_function_or_method",
    "instance",
    "_Feature"
   ],
   "window_display": false
  }
 },
 "nbformat": 4,
 "nbformat_minor": 2
}
