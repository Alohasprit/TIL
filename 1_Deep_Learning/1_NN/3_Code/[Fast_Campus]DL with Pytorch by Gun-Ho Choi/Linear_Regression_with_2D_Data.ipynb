{
 "cells": [
  {
   "cell_type": "markdown",
   "metadata": {},
   "source": [
    "# Neural Network with 2D Data"
   ]
  },
  {
   "cell_type": "markdown",
   "metadata": {},
   "source": [
    "* 4-layers\n",
    "* 2D data(Matrix)"
   ]
  },
  {
   "cell_type": "markdown",
   "metadata": {},
   "source": [
    "## 1. Import Libraries"
   ]
  },
  {
   "cell_type": "code",
   "execution_count": 1,
   "metadata": {},
   "outputs": [],
   "source": [
    "import numpy as np\n",
    "import torch\n",
    "import torch.nn as nn\n",
    "import torch.nn.init as init\n",
    "import torch.optim as optim\n",
    "from torch.autograd import Variable"
   ]
  },
  {
   "cell_type": "markdown",
   "metadata": {},
   "source": [
    "# 2. Generate Data"
   ]
  },
  {
   "cell_type": "code",
   "execution_count": 2,
   "metadata": {},
   "outputs": [
    {
     "name": "stderr",
     "output_type": "stream",
     "text": [
      "/anaconda3/lib/python3.6/site-packages/ipykernel_launcher.py:1: UserWarning: nn.init.uniform is now deprecated in favor of nn.init.uniform_.\n",
      "  \"\"\"Entry point for launching an IPython kernel.\n",
      "/anaconda3/lib/python3.6/site-packages/ipykernel_launcher.py:2: UserWarning: nn.init.uniform is now deprecated in favor of nn.init.uniform_.\n",
      "  \n"
     ]
    }
   ],
   "source": [
    "x = init.uniform(torch.FloatTensor(1000,1), -10, 10)\n",
    "y = init.uniform(torch.FloatTensor(1000,1), -10, 10)\n",
    "z = x**2 + y**2\n",
    "\n",
    "input_data = torch.cat([x,y], dim=1)"
   ]
  },
  {
   "cell_type": "markdown",
   "metadata": {},
   "source": [
    "## 3. Model"
   ]
  },
  {
   "cell_type": "code",
   "execution_count": 3,
   "metadata": {},
   "outputs": [],
   "source": [
    "model = nn.Sequential(\n",
    "                nn.Linear(2,20),\n",
    "                nn.ReLU(),\n",
    "                nn.Linear(20,10),\n",
    "                nn.ReLU(),\n",
    "                nn.Linear(10,5),\n",
    "                nn.ReLU(),\n",
    "                nn.Linear(5,5),\n",
    "                nn.ReLU(),\n",
    "                nn.Linear(5,1),\n",
    ")"
   ]
  },
  {
   "cell_type": "markdown",
   "metadata": {},
   "source": [
    "## 4. Loss & Optim"
   ]
  },
  {
   "cell_type": "code",
   "execution_count": 4,
   "metadata": {},
   "outputs": [],
   "source": [
    "loss_func = nn.MSELoss()\n",
    "optim = optim.SGD(model.parameters(), lr=0.01)"
   ]
  },
  {
   "cell_type": "markdown",
   "metadata": {},
   "source": [
    "## 5. Trainning"
   ]
  },
  {
   "cell_type": "code",
   "execution_count": 5,
   "metadata": {},
   "outputs": [
    {
     "name": "stdout",
     "output_type": "stream",
     "text": [
      "0 tensor(6310.4790)\n",
      "100 tensor(2015.9619)\n",
      "200 tensor(1718.5554)\n",
      "300 tensor(1713.3235)\n",
      "400 tensor(1713.2306)\n",
      "500 tensor(1713.2286)\n",
      "600 tensor(1713.2289)\n",
      "700 tensor(1713.2294)\n",
      "800 tensor(1713.2294)\n",
      "900 tensor(1713.2294)\n"
     ]
    }
   ],
   "source": [
    "for epoch in range(1000):\n",
    "    optim.zero_grad()\n",
    "    y_pred = model(Variable(input_data))\n",
    "    loss=loss_func( y_pred,z)\n",
    "    loss.backward()\n",
    "    optim.step()\n",
    "    \n",
    "    if epoch % 100 == 0:\n",
    "        print(epoch, loss)\n",
    "    "
   ]
  },
  {
   "cell_type": "code",
   "execution_count": 6,
   "metadata": {},
   "outputs": [],
   "source": [
    "param_list = list(model.parameters())"
   ]
  },
  {
   "cell_type": "code",
   "execution_count": 9,
   "metadata": {},
   "outputs": [
    {
     "name": "stdout",
     "output_type": "stream",
     "text": [
      "[Parameter containing:\n",
      "tensor([[  4763.4385,   -489.9073],\n",
      "        [  2028.3326,   9911.8643],\n",
      "        [  1503.4407,  -4552.9370],\n",
      "        [  3260.0513,  14470.3652],\n",
      "        [  1957.4141,  10696.7461],\n",
      "        [ -5447.5991,    679.1799],\n",
      "        [ -1734.5466,   3643.6384],\n",
      "        [  1959.7847,  -3250.8335],\n",
      "        [ -1213.4991,  10687.4248],\n",
      "        [  1375.0885,  10900.5898],\n",
      "        [ -6381.7207,    778.6999],\n",
      "        [   752.2842,  10126.5684],\n",
      "        [  3422.5176,  18097.6406],\n",
      "        [   114.8801,  -2682.7898],\n",
      "        [ 16068.1416,  21533.3164],\n",
      "        [ -2215.6077,   1188.6034],\n",
      "        [  2416.8381,  -6226.6387],\n",
      "        [  8960.5947,   3471.4839],\n",
      "        [ -5212.6982,   8610.1592],\n",
      "        [  3098.7319,   1216.7205]]), Parameter containing:\n",
      "tensor([ -975.7941, -1506.3584,  -866.3420, -2318.2849, -1667.9573,\n",
      "        -1046.6221,  -585.4483,  -753.9056, -1712.5466, -1677.8748,\n",
      "        -1202.0878, -1562.5162, -2824.7246,  -416.2567, -4465.1772,\n",
      "         -488.3408, -1218.7147, -1523.4673, -1683.6023,  -485.5922]), Parameter containing:\n",
      "tensor([[-1.2443e+03, -2.1342e+03, -2.1091e+03, -4.7390e+03, -1.9383e+03,\n",
      "         -1.6784e+03, -1.0933e+03, -7.8465e+02, -1.6460e+03, -2.6586e+03,\n",
      "         -1.7010e+03, -4.0751e+03, -6.3316e+03, -3.3300e+02, -8.8558e+03,\n",
      "         -7.9259e+02, -2.6098e+03, -3.4331e+03, -2.0105e+03, -1.1124e+03],\n",
      "        [-1.7491e+02, -1.9946e+02, -4.2248e+02, -4.3063e+02, -2.0299e+02,\n",
      "         -3.5115e+02, -2.1549e+02, -1.4294e+02, -2.8743e+02, -3.3078e+02,\n",
      "         -3.5567e+02, -5.4038e+02, -6.4025e+02, -6.9467e+01, -3.9756e+02,\n",
      "         -1.6548e+02, -5.1360e+02, -2.2204e+02, -3.9617e+02, -6.5020e+01],\n",
      "        [-1.9938e+02, -6.2580e+02, -7.5819e+02, -1.3530e+03, -6.2888e+02,\n",
      "         -9.9873e+02, -6.2830e+02, -2.1314e+02, -8.5045e+02, -1.0094e+03,\n",
      "         -1.0127e+03, -1.6384e+03, -1.9917e+03, -1.5233e+02, -1.0812e+03,\n",
      "         -4.7101e+02, -8.6238e+02, -1.5219e+02, -1.1552e+03, -2.4095e+01],\n",
      "        [-1.2179e+03, -2.0904e+03, -2.0645e+03, -4.6415e+03, -1.8984e+03,\n",
      "         -1.6439e+03, -1.0708e+03, -7.6816e+02, -1.6123e+03, -2.6038e+03,\n",
      "         -1.6662e+03, -3.9913e+03, -6.2012e+03, -3.2617e+02, -8.6731e+03,\n",
      "         -7.7631e+02, -2.5545e+03, -3.3614e+03, -1.9690e+03, -1.0891e+03],\n",
      "        [ 1.2111e-02, -6.0129e-02, -1.8673e-01, -2.2010e-02, -3.0188e-01,\n",
      "         -3.7263e-01, -1.3143e-01, -2.3681e-01, -3.0721e-01, -2.4319e-01,\n",
      "         -6.5934e-01, -1.1290e-01, -4.2771e-01, -2.1279e-01, -2.2683e-01,\n",
      "         -1.9716e-02, -3.1950e-01, -1.4850e-01, -5.0569e-01, -1.3755e-01],\n",
      "        [-4.7933e+02, -1.0362e+03, -7.6538e+02, -2.3011e+03, -9.4118e+02,\n",
      "         -7.9813e+02, -5.3062e+02, -2.8593e+02, -7.9886e+02, -1.2909e+03,\n",
      "         -8.1354e+02, -1.9786e+03, -3.0748e+03, -1.2038e+02, -4.2984e+03,\n",
      "         -3.8451e+02, -9.3675e+02, -1.5251e+03, -9.7609e+02, -5.0664e+02],\n",
      "        [-1.6425e-01, -5.5955e-02, -2.0778e-01, -4.1157e-01, -1.2164e-01,\n",
      "         -4.4654e-01, -2.7060e-01, -2.2047e-01, -3.1987e-01, -3.6616e-01,\n",
      "         -4.0681e-01, -2.7911e-01, -2.6016e-01, -2.7793e-01, -2.8535e-03,\n",
      "         -3.2169e-01, -1.0190e-01, -2.0251e-01, -4.7932e-01, -9.9040e-02],\n",
      "        [-6.4414e+02, -1.1009e+03, -1.0673e+03, -2.4365e+03, -9.8985e+02,\n",
      "         -6.4734e+02, -5.0719e+02, -4.0522e+02, -7.6883e+02, -1.3337e+03,\n",
      "         -6.5169e+02, -2.0191e+03, -3.2401e+03, -1.6610e+02, -4.5856e+03,\n",
      "         -3.2120e+02, -1.3367e+03, -1.7775e+03, -8.9943e+02, -5.7579e+02],\n",
      "        [-1.5490e+03, -2.6553e+03, -2.6279e+03, -5.8964e+03, -2.4118e+03,\n",
      "         -2.0915e+03, -1.3610e+03, -9.7781e+02, -2.0488e+03, -3.3083e+03,\n",
      "         -2.1199e+03, -5.0709e+03, -7.8778e+03, -4.1506e+02, -1.1017e+04,\n",
      "         -9.8705e+02, -3.2517e+03, -4.2722e+03, -2.5026e+03, -1.3840e+03],\n",
      "        [-1.6472e+03, -2.8244e+03, -2.7931e+03, -6.2713e+03, -2.5651e+03,\n",
      "         -2.2230e+03, -1.4470e+03, -1.0391e+03, -2.1792e+03, -3.5184e+03,\n",
      "         -2.2533e+03, -5.3929e+03, -8.3788e+03, -4.4088e+02, -1.1718e+04,\n",
      "         -1.0497e+03, -3.4559e+03, -4.5430e+03, -2.6615e+03, -1.4722e+03]]), Parameter containing:\n",
      "tensor([-1.2396e+03, -1.5877e+02, -3.9848e+02, -1.2136e+03, -1.6311e-01,\n",
      "        -5.6827e+02, -2.1960e-03, -5.9630e+02, -1.5429e+03, -1.6405e+03]), Parameter containing:\n",
      "tensor([[-2.3339e-01,  9.2386e-02, -3.0401e-01, -7.4842e-02, -9.2589e-02,\n",
      "          3.0882e-01,  7.5787e-03,  2.8991e-01, -2.6603e-01,  1.8377e-01],\n",
      "        [-1.1820e+02, -3.8485e+00, -1.8543e+00, -8.9854e+01, -2.9382e-01,\n",
      "         -6.1432e+01,  4.3086e-02, -5.3972e+01, -1.3842e+02, -6.7696e+01],\n",
      "        [-1.5613e+04, -1.7533e+03, -3.7213e+02, -1.1703e+04,  4.4884e-01,\n",
      "         -7.2725e+03,  1.5341e-01, -6.5342e+03, -1.8910e+04, -9.5431e+03],\n",
      "        [-5.7420e+03, -6.4454e+02, -1.3698e+02, -4.3037e+03, -1.1829e-01,\n",
      "         -2.6749e+03,  9.4093e-02, -2.4026e+03, -6.9546e+03, -3.5093e+03],\n",
      "        [-1.5264e-01,  1.6828e-02,  9.7641e-02, -1.7327e-01, -7.6046e-02,\n",
      "         -2.5106e-01,  9.7110e-03,  1.7200e-01, -2.3408e-01, -7.4776e-02]]), Parameter containing:\n",
      "tensor([  -0.3464,   -3.9218, -596.2274, -219.4342,   -0.0770]), Parameter containing:\n",
      "tensor([[ 7.1173e-02, -1.2679e+02, -1.5466e+04, -6.2311e+03, -3.5277e-01],\n",
      "        [ 1.7167e-02, -2.2294e+02, -2.7188e+04, -1.0954e+04,  4.2261e-01],\n",
      "        [-3.6820e-01, -2.0366e+02, -2.4800e+04, -9.9916e+03,  1.0191e-01],\n",
      "        [ 2.2637e-01,  6.0911e-02, -1.3010e-01,  1.2773e-01,  3.0544e-01],\n",
      "        [ 1.0368e-01, -3.6219e-01, -4.3898e-01, -2.4118e-01, -4.0187e-01]]), Parameter containing:\n",
      "tensor([ -71.2207, -124.6759, -113.6986,   -0.3481,   -8.4476]), Parameter containing:\n",
      "tensor([[-1.7031e+04, -2.4975e+04, -2.2325e+04, -2.3327e-01, -8.4856e+00]]), Parameter containing:\n",
      "tensor([ 68.0677])]\n"
     ]
    }
   ],
   "source": [
    "print(param_list)"
   ]
  },
  {
   "cell_type": "code",
   "execution_count": null,
   "metadata": {},
   "outputs": [],
   "source": []
  }
 ],
 "metadata": {
  "kernelspec": {
   "display_name": "Python 3",
   "language": "python",
   "name": "python3"
  },
  "language_info": {
   "codemirror_mode": {
    "name": "ipython",
    "version": 3
   },
   "file_extension": ".py",
   "mimetype": "text/x-python",
   "name": "python",
   "nbconvert_exporter": "python",
   "pygments_lexer": "ipython3",
   "version": "3.6.5"
  }
 },
 "nbformat": 4,
 "nbformat_minor": 2
}
