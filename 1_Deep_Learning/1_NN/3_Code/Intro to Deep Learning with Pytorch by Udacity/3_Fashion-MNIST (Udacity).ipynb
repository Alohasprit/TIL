{
 "cells": [
  {
   "cell_type": "markdown",
   "metadata": {},
   "source": [
    "# Classifying Fashion-MNIST\n",
    "\n",
    "Now it's your turn to build and train a neural network. You'll be using the [Fashion-MNIST dataset](https://github.com/zalandoresearch/fashion-mnist), a drop-in replacement for the MNIST dataset. MNIST is actually quite trivial with neural networks where you can easily achieve better than 97% accuracy. Fashion-MNIST is a set of 28x28 greyscale images of clothes. It's more complex than MNIST, so it's a better representation of the actual performance of your network, and a better representation of datasets you'll use in the real world.\n",
    "\n",
    "<img src='assets/fashion-mnist-sprite.png' width=500px>\n",
    "\n",
    "In this notebook, you'll build your own neural network. For the most part, you could just copy and paste the code from Part 3, but you wouldn't be learning. It's important for you to write the code yourself and get it to work. Feel free to consult the previous notebooks though as you work through this.\n",
    "\n",
    "First off, let's load the dataset through torchvision."
   ]
  },
  {
   "cell_type": "code",
   "execution_count": 7,
   "metadata": {},
   "outputs": [],
   "source": [
    "import torch\n",
    "import torch.nn as nn\n",
    "import torch.optim as optim\n",
    "from torchvision import datasets, transforms\n",
    "import helper\n",
    "\n",
    "# Define a transform to normalize the data\n",
    "transform = transforms.Compose([transforms.ToTensor(),\n",
    "                                transforms.Normalize((0.5, 0.5, 0.5), (0.5, 0.5, 0.5))])\n",
    "# Download and load the training data\n",
    "trainset = datasets.FashionMNIST('~/.pytorch/F_MNIST_data/', download=True, train=True, transform=transform)\n",
    "trainloader = torch.utils.data.DataLoader(trainset, batch_size=64, shuffle=True)\n",
    "\n",
    "# Download and load the test data\n",
    "testset = datasets.FashionMNIST('~/.pytorch/F_MNIST_data/', download=True, train=False, transform=transform)\n",
    "testloader = torch.utils.data.DataLoader(testset, batch_size=64, shuffle=True)"
   ]
  },
  {
   "cell_type": "markdown",
   "metadata": {},
   "source": [
    "Here we can see one of the images."
   ]
  },
  {
   "cell_type": "code",
   "execution_count": 5,
   "metadata": {},
   "outputs": [
    {
     "data": {
      "image/png": "[encoded data removed]",
      "text/plain": [
       "<Figure size 432x288 with 1 Axes>"
      ]
     },
     "metadata": {
      "needs_background": "light"
     },
     "output_type": "display_data"
    }
   ],
   "source": [
    "image, label = next(iter(trainloader))\n",
    "helper.imshow(image[0,:]);"
   ]
  },
  {
   "cell_type": "markdown",
   "metadata": {},
   "source": [
    "## Building the network\n",
    "\n",
    "Here you should define your network. As with MNIST, each image is 28x28 which is a total of 784 pixels, and there are 10 classes. You should include at least one hidden layer. We suggest you use ReLU activations for the layers and to return the logits or log-softmax from the forward pass. It's up to you how many layers you add and the size of those layers."
   ]
  },
  {
   "cell_type": "code",
   "execution_count": 6,
   "metadata": {},
   "outputs": [],
   "source": [
    "# TODO: Define your network architecture here\n",
    "\n",
    "model = nn.Sequential(\n",
    "        nn.Linear(784, 256),\n",
    "        nn.ReLU(),\n",
    "        nn.Linear(256, 128),\n",
    "        nn.ReLU(),\n",
    "        nn.Linear(128, 64),\n",
    "        nn.ReLU(),\n",
    "        nn.Linear(64,10),\n",
    ")"
   ]
  },
  {
   "cell_type": "markdown",
   "metadata": {},
   "source": [
    "# Train the network\n",
    "\n",
    "Now you should create your network and train it. First you'll want to define [the criterion](http://pytorch.org/docs/master/nn.html#loss-functions) ( something like `nn.CrossEntropyLoss`) and [the optimizer](http://pytorch.org/docs/master/optim.html) (typically `optim.SGD` or `optim.Adam`).\n",
    "\n",
    "Then write the training code. Remember the training pass is a fairly straightforward process:\n",
    "\n",
    "* Make a forward pass through the network to get the logits \n",
    "* Use the logits to calculate the loss\n",
    "* Perform a backward pass through the network with `loss.backward()` to calculate the gradients\n",
    "* Take a step with the optimizer to update the weights\n",
    "\n",
    "By adjusting the hyperparameters (hidden units, learning rate, etc), you should be able to get the training loss below 0.4."
   ]
  },
  {
   "cell_type": "code",
   "execution_count": 9,
   "metadata": {},
   "outputs": [],
   "source": [
    "# TODO: Create the network, define the criterion and optimizer\n",
    "\n",
    "criterion = nn.CrossEntropyLoss()\n",
    "optimizer = optim.SGD(model.parameters(), lr=0.001)"
   ]
  },
  {
   "cell_type": "code",
   "execution_count": 32,
   "metadata": {},
   "outputs": [
    {
     "name": "stdout",
     "output_type": "stream",
     "text": [
      "loss of epoch: 0.20995841920375824\n",
      "loss of epoch: 0.20910276472568512\n",
      "loss of epoch: 0.20874042809009552\n",
      "loss of epoch: 0.20797275006771088\n",
      "loss of epoch: 0.20746806263923645\n",
      "loss of epoch: 0.20645703375339508\n",
      "loss of epoch: 0.20567560195922852\n",
      "loss of epoch: 0.2050955593585968\n",
      "loss of epoch: 0.20463444292545319\n",
      "loss of epoch: 0.20362956821918488\n",
      "loss of epoch: 0.20301349461078644\n",
      "loss of epoch: 0.20247714221477509\n",
      "loss of epoch: 0.2010679692029953\n",
      "loss of epoch: 0.2001933753490448\n",
      "loss of epoch: 0.19933916628360748\n",
      "loss of epoch: 0.19865682721138\n",
      "loss of epoch: 0.19790104031562805\n",
      "loss of epoch: 0.19770082831382751\n",
      "loss of epoch: 0.19693925976753235\n",
      "loss of epoch: 0.1961085945367813\n",
      "loss of epoch: 0.1951649934053421\n",
      "loss of epoch: 0.19383911788463593\n",
      "loss of epoch: 0.1939171701669693\n",
      "loss of epoch: 0.1928585320711136\n",
      "loss of epoch: 0.19191667437553406\n",
      "loss of epoch: 0.19168129563331604\n",
      "loss of epoch: 0.19057993590831757\n",
      "loss of epoch: 0.1897534728050232\n",
      "loss of epoch: 0.18976694345474243\n",
      "loss of epoch: 0.18840624392032623\n",
      "loss of epoch: 0.18780291080474854\n",
      "loss of epoch: 0.18655294179916382\n",
      "loss of epoch: 0.18633794784545898\n",
      "loss of epoch: 0.18538589775562286\n",
      "loss of epoch: 0.1845221072435379\n",
      "loss of epoch: 0.18400733172893524\n",
      "loss of epoch: 0.18325676023960114\n",
      "loss of epoch: 0.18241386115550995\n",
      "loss of epoch: 0.18133537471294403\n",
      "loss of epoch: 0.18116600811481476\n",
      "loss of epoch: 0.1799214482307434\n",
      "loss of epoch: 0.17939160764217377\n",
      "loss of epoch: 0.17867326736450195\n",
      "loss of epoch: 0.17842835187911987\n",
      "loss of epoch: 0.17725318670272827\n",
      "loss of epoch: 0.17639930546283722\n",
      "loss of epoch: 0.17601317167282104\n",
      "loss of epoch: 0.17488615214824677\n",
      "loss of epoch: 0.17469127476215363\n",
      "loss of epoch: 0.17350585758686066\n",
      "loss of epoch: 0.17298536002635956\n",
      "loss of epoch: 0.17259733378887177\n",
      "loss of epoch: 0.17146563529968262\n",
      "loss of epoch: 0.1704670488834381\n",
      "loss of epoch: 0.17006410658359528\n",
      "loss of epoch: 0.1692441701889038\n",
      "loss of epoch: 0.16837820410728455\n",
      "loss of epoch: 0.1676587611436844\n",
      "loss of epoch: 0.16673655807971954\n",
      "loss of epoch: 0.16628095507621765\n",
      "loss of epoch: 0.16601473093032837\n",
      "loss of epoch: 0.1643831431865692\n",
      "loss of epoch: 0.16383174061775208\n",
      "loss of epoch: 0.16357247531414032\n",
      "loss of epoch: 0.16280236840248108\n",
      "loss of epoch: 0.1624671071767807\n",
      "loss of epoch: 0.16192269325256348\n",
      "loss of epoch: 0.16055351495742798\n",
      "loss of epoch: 0.15935018658638\n",
      "loss of epoch: 0.15953649580478668\n",
      "loss of epoch: 0.15811562538146973\n",
      "loss of epoch: 0.1578952968120575\n",
      "loss of epoch: 0.15753625333309174\n",
      "loss of epoch: 0.15662743151187897\n",
      "loss of epoch: 0.1558450311422348\n",
      "loss of epoch: 0.15483179688453674\n",
      "loss of epoch: 0.15457159280776978\n",
      "loss of epoch: 0.15313129127025604\n",
      "loss of epoch: 0.15314024686813354\n",
      "loss of epoch: 0.15156729519367218\n",
      "loss of epoch: 0.15166036784648895\n",
      "loss of epoch: 0.15003813803195953\n",
      "loss of epoch: 0.15020641684532166\n",
      "loss of epoch: 0.1498388797044754\n",
      "loss of epoch: 0.14837998151779175\n",
      "loss of epoch: 0.14846821129322052\n",
      "loss of epoch: 0.1478060781955719\n",
      "loss of epoch: 0.14672859013080597\n",
      "loss of epoch: 0.1462128907442093\n",
      "loss of epoch: 0.14490634202957153\n",
      "loss of epoch: 0.1440817266702652\n",
      "loss of epoch: 0.1437881737947464\n",
      "loss of epoch: 0.1431729644536972\n",
      "loss of epoch: 0.14214524626731873\n",
      "loss of epoch: 0.14172962307929993\n",
      "loss of epoch: 0.14203853905200958\n",
      "loss of epoch: 0.14057324826717377\n",
      "loss of epoch: 0.14002816379070282\n",
      "loss of epoch: 0.13965460658073425\n",
      "loss of epoch: 0.1386679857969284\n"
     ]
    }
   ],
   "source": [
    "# TODO: Train the network here\n",
    "\n",
    "epoch = 100\n",
    "\n",
    "for i in range(epoch):\n",
    "    running_loss =0\n",
    "    for images, labels in trainloader:\n",
    "        images = images.view(images.shape[0],-1)\n",
    "        \n",
    "        optimizer.zero_grad()\n",
    "        output = model(images)\n",
    "        loss = criterion(output, labels)\n",
    "        loss.backward()\n",
    "        optimizer.step()\n",
    "        running_loss += loss\n",
    "        \n",
    "    print(f\"loss of epoch: {running_loss/len(trainloader)}\")"
   ]
  },
  {
   "cell_type": "code",
   "execution_count": 37,
   "metadata": {},
   "outputs": [
    {
     "data": {
      "image/png": "[encoded data removed]",
      "text/plain": [
       "<Figure size 432x648 with 2 Axes>"
      ]
     },
     "metadata": {
      "image/png": {
       "height": 204,
       "width": 423
      },
      "needs_background": "light"
     },
     "output_type": "display_data"
    }
   ],
   "source": [
    "%matplotlib inline\n",
    "%config InlineBackend.figure_format = 'retina'\n",
    "\n",
    "import helper\n",
    "import torch.nn.functional as F\n",
    "\n",
    "# Test out your network!\n",
    "\n",
    "dataiter = iter(testloader)\n",
    "images, labels = dataiter.next()\n",
    "img = images[0]\n",
    "# Convert 2D image to 1D vector\n",
    "img = img.resize_(1, 784)\n",
    "\n",
    "# TODO: Calculate the class probabilities (softmax) for img\n",
    "with torch.no_grad():\n",
    "    logits = model(img)\n",
    "\n",
    "ps = F.softmax(logits, dim=1)\n",
    "\n",
    "# Plot the image and probabilities\n",
    "helper.view_classify(img.resize_(1, 28, 28), ps, version='Fashion')"
   ]
  },
  {
   "cell_type": "code",
   "execution_count": null,
   "metadata": {},
   "outputs": [],
   "source": []
  }
 ],
 "metadata": {
  "kernelspec": {
   "display_name": "Python 3",
   "language": "python",
   "name": "python3"
  },
  "language_info": {
   "codemirror_mode": {
    "name": "ipython",
    "version": 3
   },
   "file_extension": ".py",
   "mimetype": "text/x-python",
   "name": "python",
   "nbconvert_exporter": "python",
   "pygments_lexer": "ipython3",
   "version": "3.7.0"
  }
 },
 "nbformat": 4,
 "nbformat_minor": 2
}
