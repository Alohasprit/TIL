{
 "cells": [
  {
   "cell_type": "markdown",
   "metadata": {},
   "source": [
    "# Linear Regression"
   ]
  },
  {
   "cell_type": "markdown",
   "metadata": {},
   "source": [
    "* Linear Data\n",
    "* Linear Model\n",
    "* y=2x+3"
   ]
  },
  {
   "cell_type": "markdown",
   "metadata": {},
   "source": [
    "## 1. Import Required Libraries"
   ]
  },
  {
   "cell_type": "code",
   "execution_count": 1,
   "metadata": {},
   "outputs": [],
   "source": [
    "import numpy as np\n",
    "import torch\n",
    "import torch.nn as nn\n",
    "import torch.optim as optim\n",
    "import torch.nn.init as init\n",
    "from torch.autograd import Variable"
   ]
  },
  {
   "cell_type": "markdown",
   "metadata": {},
   "source": [
    "## 2. Generate Data"
   ]
  },
  {
   "cell_type": "code",
   "execution_count": 2,
   "metadata": {},
   "outputs": [
    {
     "name": "stderr",
     "output_type": "stream",
     "text": [
      "/anaconda3/lib/python3.6/site-packages/ipykernel_launcher.py:4: UserWarning: nn.init.normal is now deprecated in favor of nn.init.normal_.\n",
      "  after removing the cwd from sys.path.\n",
      "/anaconda3/lib/python3.6/site-packages/ipykernel_launcher.py:5: UserWarning: nn.init.uniform is now deprecated in favor of nn.init.uniform_.\n",
      "  \"\"\"\n"
     ]
    }
   ],
   "source": [
    "num_data = 1000\n",
    "num_epoch = 1000\n",
    "\n",
    "noise = init.normal(torch.FloatTensor(num_data,1), mean =0, std=1)\n",
    "x = init.uniform(torch.FloatTensor(num_data, 1), -10, 10)\n",
    "\n",
    "y=2*x + 3\n",
    "y_noise = 2*x+3+noise"
   ]
  },
  {
   "cell_type": "markdown",
   "metadata": {},
   "source": [
    "## 3. Model & Optimizer"
   ]
  },
  {
   "cell_type": "code",
   "execution_count": 3,
   "metadata": {},
   "outputs": [],
   "source": [
    "model = nn.Linear(1,1)\n",
    "output = model(Variable(x))\n",
    "\n",
    "loss_func = nn.MSELoss()\n",
    "optimizer = optim.SGD(model.parameters(), lr=0.01)"
   ]
  },
  {
   "cell_type": "markdown",
   "metadata": {},
   "source": [
    "## 4. Train"
   ]
  },
  {
   "cell_type": "code",
   "execution_count": 4,
   "metadata": {},
   "outputs": [
    {
     "name": "stdout",
     "output_type": "stream",
     "text": [
      "tensor(202.5872)\n",
      "tensor(11.2723)\n",
      "tensor(7.8759)\n",
      "tensor(5.6071)\n",
      "tensor(4.0915)\n",
      "tensor(3.0790)\n",
      "tensor(2.4027)\n",
      "tensor(1.9509)\n",
      "tensor(1.6491)\n",
      "tensor(1.4475)\n",
      "tensor(1.3128)\n",
      "tensor(1.2228)\n",
      "tensor(1.1627)\n",
      "tensor(1.1226)\n",
      "tensor(1.0958)\n",
      "tensor(1.0778)\n",
      "tensor(1.0659)\n",
      "tensor(1.0579)\n",
      "tensor(1.0525)\n",
      "tensor(1.0490)\n",
      "tensor(1.0466)\n",
      "tensor(1.0450)\n",
      "tensor(1.0439)\n",
      "tensor(1.0432)\n",
      "tensor(1.0428)\n",
      "tensor(1.0424)\n",
      "tensor(1.0422)\n",
      "tensor(1.0421)\n",
      "tensor(1.0420)\n",
      "tensor(1.0419)\n",
      "tensor(1.0419)\n",
      "tensor(1.0419)\n",
      "tensor(1.0418)\n",
      "tensor(1.0418)\n",
      "tensor(1.0418)\n",
      "tensor(1.0418)\n",
      "tensor(1.0418)\n",
      "tensor(1.0418)\n",
      "tensor(1.0418)\n",
      "tensor(1.0418)\n",
      "tensor(1.0418)\n",
      "tensor(1.0418)\n",
      "tensor(1.0418)\n",
      "tensor(1.0418)\n",
      "tensor(1.0418)\n",
      "tensor(1.0418)\n",
      "tensor(1.0418)\n",
      "tensor(1.0418)\n",
      "tensor(1.0418)\n",
      "tensor(1.0418)\n",
      "tensor(1.0418)\n",
      "tensor(1.0418)\n",
      "tensor(1.0418)\n",
      "tensor(1.0418)\n",
      "tensor(1.0418)\n",
      "tensor(1.0418)\n",
      "tensor(1.0418)\n",
      "tensor(1.0418)\n",
      "tensor(1.0418)\n",
      "tensor(1.0418)\n",
      "tensor(1.0418)\n",
      "tensor(1.0418)\n",
      "tensor(1.0418)\n",
      "tensor(1.0418)\n",
      "tensor(1.0418)\n",
      "tensor(1.0418)\n",
      "tensor(1.0418)\n",
      "tensor(1.0418)\n",
      "tensor(1.0418)\n",
      "tensor(1.0418)\n",
      "tensor(1.0418)\n",
      "tensor(1.0418)\n",
      "tensor(1.0418)\n",
      "tensor(1.0418)\n",
      "tensor(1.0418)\n",
      "tensor(1.0418)\n",
      "tensor(1.0418)\n",
      "tensor(1.0418)\n",
      "tensor(1.0418)\n",
      "tensor(1.0418)\n",
      "tensor(1.0418)\n",
      "tensor(1.0418)\n",
      "tensor(1.0418)\n",
      "tensor(1.0418)\n",
      "tensor(1.0418)\n",
      "tensor(1.0418)\n",
      "tensor(1.0418)\n",
      "tensor(1.0418)\n",
      "tensor(1.0418)\n",
      "tensor(1.0418)\n",
      "tensor(1.0418)\n",
      "tensor(1.0418)\n",
      "tensor(1.0418)\n",
      "tensor(1.0418)\n",
      "tensor(1.0418)\n",
      "tensor(1.0418)\n",
      "tensor(1.0418)\n",
      "tensor(1.0418)\n",
      "tensor(1.0418)\n",
      "tensor(1.0418)\n"
     ]
    }
   ],
   "source": [
    "loss_arr =[]\n",
    "label = Variable(y_noise)\n",
    "\n",
    "for i in range(num_epoch):\n",
    "    optimizer.zero_grad()\n",
    "    output = model(Variable(x))\n",
    "    \n",
    "    loss=loss_func(output, label)\n",
    "    loss.backward()\n",
    "    optimizer.step()\n",
    "    \n",
    "    if i % 10 ==0:\n",
    "        print(loss)\n",
    "        loss_arr.append(loss.data.numpy())\n",
    "\n",
    "\n",
    "\n",
    "\n",
    "\n",
    "\n"
   ]
  },
  {
   "cell_type": "markdown",
   "metadata": {},
   "source": [
    "## 5. Check Trained Parameters"
   ]
  },
  {
   "cell_type": "code",
   "execution_count": 5,
   "metadata": {},
   "outputs": [
    {
     "name": "stdout",
     "output_type": "stream",
     "text": [
      "tensor([[ 1.9964]]) tensor([ 3.0207])\n"
     ]
    }
   ],
   "source": [
    "param_list = list(model.parameters())\n",
    "print(param_list[0].data, param_list[1].data)"
   ]
  },
  {
   "cell_type": "code",
   "execution_count": null,
   "metadata": {},
   "outputs": [],
   "source": []
  }
 ],
 "metadata": {
  "kernelspec": {
   "display_name": "Python 3",
   "language": "python",
   "name": "python3"
  },
  "language_info": {
   "codemirror_mode": {
    "name": "ipython",
    "version": 3
   },
   "file_extension": ".py",
   "mimetype": "text/x-python",
   "name": "python",
   "nbconvert_exporter": "python",
   "pygments_lexer": "ipython3",
   "version": "3.6.5"
  }
 },
 "nbformat": 4,
 "nbformat_minor": 2
}
