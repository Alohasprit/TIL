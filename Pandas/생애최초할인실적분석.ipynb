{
 "cells": [
  {
   "cell_type": "markdown",
   "metadata": {},
   "source": [
    "# 생애최초할인 실적"
   ]
  },
  {
   "cell_type": "code",
   "execution_count": null,
   "metadata": {},
   "outputs": [],
   "source": [
    "import pandas as pd"
   ]
  },
  {
   "cell_type": "markdown",
   "metadata": {},
   "source": [
    "## 1. 8월 로밍 기본료 요금제 가입자 Loading"
   ]
  },
  {
   "cell_type": "code",
   "execution_count": null,
   "metadata": {},
   "outputs": [],
   "source": [
    "가입자_8월 = pd.read_csv(\"20180801-20180827.csv\")"
   ]
  },
  {
   "cell_type": "code",
   "execution_count": null,
   "metadata": {},
   "outputs": [],
   "source": [
    "가입자_8월.head(5)"
   ]
  },
  {
   "cell_type": "markdown",
   "metadata": {},
   "source": [
    "## 2. 8월 로밍 가입건수 "
   ]
  },
  {
   "cell_type": "code",
   "execution_count": null,
   "metadata": {},
   "outputs": [],
   "source": [
    "가입자_8월.shape"
   ]
  },
  {
   "cell_type": "markdown",
   "metadata": {},
   "source": [
    "## 3. 생애최초할인 대상 요금제 가입건만 추출"
   ]
  },
  {
   "cell_type": "code",
   "execution_count": null,
   "metadata": {},
   "outputs": [],
   "source": [
    "가입자_8월['요금제명'].unique()"
   ]
  },
  {
   "cell_type": "code",
   "execution_count": null,
   "metadata": {},
   "outputs": [],
   "source": [
    "A = ['T로밍LongPass2GB','T로밍LongPass2GB-2', 'T로밍LongPass5GB', 'T로밍LongPass3GB', 'T로밍LongPass3GB-2','T로밍LongPass5GB-2', 'T로밍아시아패스', 'T로밍아시아패스2',\n",
    "       'T로밍아시아패스YT', 'T로밍아시아패스YT2''T로밍한중일패스', 'T로밍한중일패스2', 'T로밍한중일패스YT', 'T로밍한중일패스YT2','T로밍미주패스3GB','T로밍미주패스3GB2', 'T로밍미주패스6GB', 'T로밍미주패스6GB2', 'T로밍미주패스YT4GB','T로밍미주패스YT4GB2', 'T로밍미주패스YT7GB', 'T로밍유럽패스3GB', 'T로밍유럽패스3GB2',\n",
    "       'T로밍유럽패스6GB', 'T로밍유럽패스6GB2','T로밍유럽패스YT4GB','T로밍유럽패스YT4GB2','T로밍유럽패스YT7GB','T로밍유럽패스YT7GB2','T로밍미주패스YT7GB2']"
   ]
  },
  {
   "cell_type": "code",
   "execution_count": null,
   "metadata": {},
   "outputs": [],
   "source": [
    "A"
   ]
  },
  {
   "cell_type": "markdown",
   "metadata": {},
   "source": [
    "# 4. 생애첫대상요금제 가입건 "
   ]
  },
  {
   "cell_type": "code",
   "execution_count": null,
   "metadata": {},
   "outputs": [],
   "source": [
    "생애첫대상요금제가입건_8월 = 가입자_8월[가입자_8월['요금제명'].isin(A)]"
   ]
  },
  {
   "cell_type": "code",
   "execution_count": null,
   "metadata": {},
   "outputs": [],
   "source": [
    "생애첫대상요금제가입건_8월.shape"
   ]
  },
  {
   "cell_type": "code",
   "execution_count": null,
   "metadata": {},
   "outputs": [],
   "source": [
    "생애첫대상요금제가입건_8월['요금제명'].unique()"
   ]
  },
  {
   "cell_type": "code",
   "execution_count": null,
   "metadata": {},
   "outputs": [],
   "source": [
    "생애첫대상요금제가입건_8월.head()"
   ]
  },
  {
   "cell_type": "markdown",
   "metadata": {},
   "source": [
    "# 5. 8월 생애최초대상자 모수 loading"
   ]
  },
  {
   "cell_type": "code",
   "execution_count": null,
   "metadata": {},
   "outputs": [],
   "source": [
    "생애최초대상자_8월=pd.read_table(\"20180725_data_1.dat\", names=['서비스관리번호'])"
   ]
  },
  {
   "cell_type": "code",
   "execution_count": null,
   "metadata": {},
   "outputs": [],
   "source": [
    "생애최초대상자_8월.head()"
   ]
  },
  {
   "cell_type": "markdown",
   "metadata": {},
   "source": [
    "# 6. 생애최초대상자 실적 8월 "
   ]
  },
  {
   "cell_type": "code",
   "execution_count": null,
   "metadata": {},
   "outputs": [],
   "source": [
    "생애최초대상자실적_8월 = 생애최초대상자_8월.merge(생애첫대상요금제가입건_8월,on='서비스관리번호',how='inner')"
   ]
  },
  {
   "cell_type": "code",
   "execution_count": null,
   "metadata": {},
   "outputs": [],
   "source": [
    "생애최초대상자실적_8월.shape"
   ]
  },
  {
   "cell_type": "code",
   "execution_count": null,
   "metadata": {},
   "outputs": [],
   "source": [
    "생애최초대상자실적_8월"
   ]
  }
 ],
 "metadata": {
  "kernelspec": {
   "display_name": "Python 3",
   "language": "python",
   "name": "python3"
  },
  "language_info": {
   "codemirror_mode": {
    "name": "ipython",
    "version": 3
   },
   "file_extension": ".py",
   "mimetype": "text/x-python",
   "name": "python",
   "nbconvert_exporter": "python",
   "pygments_lexer": "ipython3",
   "version": "3.6.4"
  }
 },
 "nbformat": 4,
 "nbformat_minor": 2
}
