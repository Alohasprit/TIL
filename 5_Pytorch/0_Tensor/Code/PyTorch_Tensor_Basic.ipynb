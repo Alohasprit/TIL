{
 "cells": [
  {
   "cell_type": "markdown",
   "metadata": {},
   "source": [
    "# PyTorch Tensor Basic Useage"
   ]
  },
  {
   "cell_type": "markdown",
   "metadata": {},
   "source": [
    "* Create Tensor\n",
    "* Indexing, Joining, Slicing\n",
    "* Initialization\n",
    "* Math Operations"
   ]
  },
  {
   "cell_type": "markdown",
   "metadata": {},
   "source": [
    "## 1. Create Tensor"
   ]
  },
  {
   "cell_type": "markdown",
   "metadata": {},
   "source": [
    "### 1-1 Random Numbers"
   ]
  },
  {
   "cell_type": "code",
   "execution_count": 15,
   "metadata": {},
   "outputs": [
    {
     "data": {
      "text/plain": [
       "tensor([[ 0.1106,  0.2431,  0.6100],\n",
       "        [ 0.3003,  0.9838,  0.5618]])"
      ]
     },
     "execution_count": 15,
     "metadata": {},
     "output_type": "execute_result"
    }
   ],
   "source": [
    "import torch\n",
    "# torch.rand(size) : 0~1 미만 사이의 값을 갖는 tensor를 생성\n",
    "x = torch.rand(2,3)\n",
    "x"
   ]
  },
  {
   "cell_type": "code",
   "execution_count": 16,
   "metadata": {},
   "outputs": [
    {
     "data": {
      "text/plain": [
       "tensor([[ 1.2367,  0.7469, -0.2597],\n",
       "        [ 2.3327,  0.3218,  0.6509]])"
      ]
     },
     "execution_count": 16,
     "metadata": {},
     "output_type": "execute_result"
    }
   ],
   "source": [
    "#torch.randn(size) : 0을 평균으로 갖는 normal distribution 값을 갖는 tensor를 생성\n",
    "x=torch.randn(2,3)\n",
    "x"
   ]
  },
  {
   "cell_type": "code",
   "execution_count": 17,
   "metadata": {},
   "outputs": [
    {
     "data": {
      "text/plain": [
       "tensor([ 2,  0,  1,  4,  3])"
      ]
     },
     "execution_count": 17,
     "metadata": {},
     "output_type": "execute_result"
    }
   ],
   "source": [
    "# torch.randperm(n) : 0 ~ n-1 까지 random 정수 무작위 배열\n",
    "x = torch.randperm(5)\n",
    "x"
   ]
  },
  {
   "cell_type": "markdown",
   "metadata": {},
   "source": [
    "### 1-2 Zeros, Ones, Range"
   ]
  },
  {
   "cell_type": "code",
   "execution_count": 18,
   "metadata": {},
   "outputs": [
    {
     "data": {
      "text/plain": [
       "tensor([[ 0.,  0.,  0.],\n",
       "        [ 0.,  0.,  0.]])"
      ]
     },
     "execution_count": 18,
     "metadata": {},
     "output_type": "execute_result"
    }
   ],
   "source": [
    "x = torch.zeros(2,3)\n",
    "x"
   ]
  },
  {
   "cell_type": "code",
   "execution_count": 19,
   "metadata": {},
   "outputs": [
    {
     "data": {
      "text/plain": [
       "tensor([[ 1.,  1.,  1.],\n",
       "        [ 1.,  1.,  1.]])"
      ]
     },
     "execution_count": 19,
     "metadata": {},
     "output_type": "execute_result"
    }
   ],
   "source": [
    "x = torch.ones(2,3)\n",
    "x"
   ]
  },
  {
   "cell_type": "code",
   "execution_count": 20,
   "metadata": {},
   "outputs": [
    {
     "data": {
      "text/plain": [
       "tensor([ 0.0000,  0.5000,  1.0000,  1.5000,  2.0000,  2.5000,  3.0000])"
      ]
     },
     "execution_count": 20,
     "metadata": {},
     "output_type": "execute_result"
    }
   ],
   "source": [
    "x = torch.range(0,3, step=0.5)\n",
    "x"
   ]
  },
  {
   "cell_type": "markdown",
   "metadata": {},
   "source": [
    "### 1-3 Tensor Data Type"
   ]
  },
  {
   "cell_type": "code",
   "execution_count": 21,
   "metadata": {},
   "outputs": [
    {
     "data": {
      "text/plain": [
       "tensor(1.00000e-19 *\n",
       "       [[ 0.0000, -0.0000,  0.0000],\n",
       "        [ 1.0845,  0.0000,  0.0000]])"
      ]
     },
     "execution_count": 21,
     "metadata": {},
     "output_type": "execute_result"
    }
   ],
   "source": [
    "x = torch.FloatTensor(2,3)\n",
    "x"
   ]
  },
  {
   "cell_type": "code",
   "execution_count": 22,
   "metadata": {},
   "outputs": [
    {
     "data": {
      "text/plain": [
       "tensor([ 2.,  3.])"
      ]
     },
     "execution_count": 22,
     "metadata": {},
     "output_type": "execute_result"
    }
   ],
   "source": [
    "#torch.FloatTensor(size or list): 사이즈 또는 리스트 형태의 실제 텐서 값을 표시\n",
    "x = torch.FloatTensor([2,3])\n",
    "x"
   ]
  },
  {
   "cell_type": "code",
   "execution_count": 23,
   "metadata": {},
   "outputs": [
    {
     "data": {
      "text/plain": [
       "tensor([[ 2.,  3.],\n",
       "        [ 3.,  5.]])"
      ]
     },
     "execution_count": 23,
     "metadata": {},
     "output_type": "execute_result"
    }
   ],
   "source": [
    "x = torch.FloatTensor([[2,3],[3,5]])\n",
    "x"
   ]
  },
  {
   "cell_type": "code",
   "execution_count": 24,
   "metadata": {},
   "outputs": [
    {
     "data": {
      "text/plain": [
       "tensor([[ 0.0000e+00,  0.0000e+00,  0.0000e+00],\n",
       "        [-2.1475e+09,  0.0000e+00,  0.0000e+00]], dtype=torch.int32)"
      ]
     },
     "execution_count": 24,
     "metadata": {},
     "output_type": "execute_result"
    }
   ],
   "source": [
    "x = torch.FloatTensor(2,3)\n",
    "x= x.type_as(torch.IntTensor())\n",
    "x"
   ]
  },
  {
   "cell_type": "markdown",
   "metadata": {},
   "source": [
    "### 1-4 Numpy to Tensor, Tensor to Numpy"
   ]
  },
  {
   "cell_type": "code",
   "execution_count": 25,
   "metadata": {},
   "outputs": [
    {
     "data": {
      "text/plain": [
       "tensor([[ 1,  2,  3],\n",
       "        [ 4,  5,  6]])"
      ]
     },
     "execution_count": 25,
     "metadata": {},
     "output_type": "execute_result"
    }
   ],
   "source": [
    "import numpy as np\n",
    "\n",
    "x1 = np.ndarray(shape=(2,3), dtype=int, buffer=np.array([1,2,3,4,5,6]))\n",
    "x2 = torch.from_numpy(x1)\n",
    "x2"
   ]
  },
  {
   "cell_type": "code",
   "execution_count": 26,
   "metadata": {},
   "outputs": [
    {
     "data": {
      "text/plain": [
       "array([[1, 2, 3],\n",
       "       [4, 5, 6]])"
      ]
     },
     "execution_count": 26,
     "metadata": {},
     "output_type": "execute_result"
    }
   ],
   "source": [
    "x3 = x2.numpy()\n",
    "x3"
   ]
  },
  {
   "cell_type": "markdown",
   "metadata": {},
   "source": [
    "### 1-5 Tensor on GPU & CPU"
   ]
  },
  {
   "cell_type": "code",
   "execution_count": 27,
   "metadata": {},
   "outputs": [
    {
     "data": {
      "text/plain": [
       "tensor([[ 1.,  2.,  3.],\n",
       "        [ 4.,  5.,  6.]])"
      ]
     },
     "execution_count": 27,
     "metadata": {},
     "output_type": "execute_result"
    }
   ],
   "source": [
    "x = torch.FloatTensor([[1,2,3],[4,5,6]])\n",
    "x"
   ]
  },
  {
   "cell_type": "code",
   "execution_count": 28,
   "metadata": {},
   "outputs": [
    {
     "ename": "RuntimeError",
     "evalue": "torch.cuda.FloatTensor is not enabled.",
     "output_type": "error",
     "traceback": [
      "\u001b[0;31m---------------------------------------------------------------------------\u001b[0m",
      "\u001b[0;31mRuntimeError\u001b[0m                              Traceback (most recent call last)",
      "\u001b[0;32m<ipython-input-28-81e0cf4fbe9e>\u001b[0m in \u001b[0;36m<module>\u001b[0;34m()\u001b[0m\n\u001b[0;32m----> 1\u001b[0;31m \u001b[0mx_gpu\u001b[0m\u001b[0;34m=\u001b[0m \u001b[0mx\u001b[0m\u001b[0;34m.\u001b[0m\u001b[0mcuda\u001b[0m\u001b[0;34m(\u001b[0m\u001b[0;34m)\u001b[0m\u001b[0;34m\u001b[0m\u001b[0m\n\u001b[0m\u001b[1;32m      2\u001b[0m \u001b[0mx_gpu\u001b[0m\u001b[0;34m\u001b[0m\u001b[0m\n",
      "\u001b[0;31mRuntimeError\u001b[0m: torch.cuda.FloatTensor is not enabled."
     ]
    }
   ],
   "source": [
    "x_gpu= x.cuda()\n",
    "x_gpu"
   ]
  },
  {
   "cell_type": "code",
   "execution_count": 29,
   "metadata": {},
   "outputs": [
    {
     "ename": "NameError",
     "evalue": "name 'x_gpu' is not defined",
     "output_type": "error",
     "traceback": [
      "\u001b[0;31m---------------------------------------------------------------------------\u001b[0m",
      "\u001b[0;31mNameError\u001b[0m                                 Traceback (most recent call last)",
      "\u001b[0;32m<ipython-input-29-84687d4dd779>\u001b[0m in \u001b[0;36m<module>\u001b[0;34m()\u001b[0m\n\u001b[0;32m----> 1\u001b[0;31m \u001b[0mx_cpu\u001b[0m \u001b[0;34m=\u001b[0m \u001b[0mx_gpu\u001b[0m\u001b[0;34m.\u001b[0m\u001b[0mcpu\u001b[0m\u001b[0;34m(\u001b[0m\u001b[0;34m)\u001b[0m\u001b[0;34m\u001b[0m\u001b[0m\n\u001b[0m\u001b[1;32m      2\u001b[0m \u001b[0mx_cpu\u001b[0m\u001b[0;34m\u001b[0m\u001b[0m\n",
      "\u001b[0;31mNameError\u001b[0m: name 'x_gpu' is not defined"
     ]
    }
   ],
   "source": [
    "x_cpu = x_gpu.cpu()\n",
    "x_cpu"
   ]
  },
  {
   "cell_type": "markdown",
   "metadata": {},
   "source": [
    "## 2. Indexing, Joining, Slicing, Reshaping"
   ]
  },
  {
   "cell_type": "markdown",
   "metadata": {},
   "source": [
    "### 2-1 Indexing"
   ]
  },
  {
   "cell_type": "code",
   "execution_count": 30,
   "metadata": {},
   "outputs": [
    {
     "data": {
      "text/plain": [
       "(tensor([[ 0.7779,  0.9854,  0.5303],\n",
       "         [ 0.9620,  0.6227,  0.7694],\n",
       "         [ 0.9260,  0.0400,  0.4925],\n",
       "         [ 0.1519,  0.7610,  0.1049]]), tensor([[ 0.7779,  0.9854,  0.5303],\n",
       "         [ 0.9260,  0.0400,  0.4925]]))"
      ]
     },
     "execution_count": 30,
     "metadata": {},
     "output_type": "execute_result"
    }
   ],
   "source": [
    "# torch.index_select(input, dim, index)\n",
    "x = torch.rand(4,3)\n",
    "out = torch.index_select(x,0,torch.LongTensor([0,2]))\n",
    "x, out"
   ]
  },
  {
   "cell_type": "code",
   "execution_count": 31,
   "metadata": {},
   "outputs": [
    {
     "data": {
      "text/plain": [
       "tensor([ 0.7779,  0.9620,  0.9260,  0.1519])"
      ]
     },
     "execution_count": 31,
     "metadata": {},
     "output_type": "execute_result"
    }
   ],
   "source": [
    "x[:,0]"
   ]
  },
  {
   "cell_type": "code",
   "execution_count": 32,
   "metadata": {},
   "outputs": [
    {
     "data": {
      "text/plain": [
       "tensor([ 0.7779,  0.9854,  0.5303])"
      ]
     },
     "execution_count": 32,
     "metadata": {},
     "output_type": "execute_result"
    }
   ],
   "source": [
    "x[0,:]"
   ]
  },
  {
   "cell_type": "code",
   "execution_count": 33,
   "metadata": {},
   "outputs": [
    {
     "data": {
      "text/plain": [
       "tensor([[ 0.7779],\n",
       "        [ 0.9620]])"
      ]
     },
     "execution_count": 33,
     "metadata": {},
     "output_type": "execute_result"
    }
   ],
   "source": [
    "x[0:2,0:1]"
   ]
  },
  {
   "cell_type": "code",
   "execution_count": 34,
   "metadata": {},
   "outputs": [
    {
     "data": {
      "text/plain": [
       "(tensor([[ 0.9105,  0.4859,  0.5874],\n",
       "         [ 0.2995,  0.6916,  0.2644]]), tensor([[ 0,  1,  1],\n",
       "         [ 0,  1,  0]], dtype=torch.uint8), tensor([ 0.4859,  0.5874,  0.6916]))"
      ]
     },
     "execution_count": 34,
     "metadata": {},
     "output_type": "execute_result"
    }
   ],
   "source": [
    "# torch.masked_select(input, mask)\n",
    "x=torch.rand(2,3)\n",
    "mask = torch.ByteTensor([[0,1,1],[0,1,0]])\n",
    "out = torch.masked_select(x,mask)\n",
    "x, mask, out"
   ]
  },
  {
   "cell_type": "markdown",
   "metadata": {},
   "source": [
    "### 2-2 Joining"
   ]
  },
  {
   "cell_type": "code",
   "execution_count": 35,
   "metadata": {},
   "outputs": [
    {
     "data": {
      "text/plain": [
       "(tensor([[ 1,  2,  3],\n",
       "         [ 4,  5,  6]], dtype=torch.int32), tensor([[-1, -2, -3],\n",
       "         [-4, -5, -6]], dtype=torch.int32), tensor([[ 1,  2,  3],\n",
       "         [ 4,  5,  6],\n",
       "         [-1, -2, -3],\n",
       "         [-4, -5, -6]], dtype=torch.int32), tensor([[ 1,  2,  3, -1, -2, -3],\n",
       "         [ 4,  5,  6, -4, -5, -6]], dtype=torch.int32))"
      ]
     },
     "execution_count": 35,
     "metadata": {},
     "output_type": "execute_result"
    }
   ],
   "source": [
    "x=torch.IntTensor([[1,2,3],[4,5,6]])\n",
    "y=torch.IntTensor([[-1,-2,-3],[-4,-5,-6]])\n",
    "z1=torch.cat([x,y], dim=0)\n",
    "z2=torch.cat([x,y], dim=1)\n",
    "x,y,z1,z2"
   ]
  },
  {
   "cell_type": "markdown",
   "metadata": {},
   "source": [
    "### 2-3 Slicing"
   ]
  },
  {
   "cell_type": "code",
   "execution_count": 44,
   "metadata": {},
   "outputs": [
    {
     "data": {
      "text/plain": [
       "(tensor([[ 1,  2,  3],\n",
       "         [ 4,  5,  6],\n",
       "         [-1, -2, -3],\n",
       "         [-4, -5, -6]], dtype=torch.int32), tensor([[ 1,  2,  3],\n",
       "         [ 4,  5,  6]], dtype=torch.int32), tensor([[-1, -2, -3],\n",
       "         [-4, -5, -6]], dtype=torch.int32), tensor([[ 1],\n",
       "         [ 4],\n",
       "         [-1],\n",
       "         [-4]], dtype=torch.int32), tensor([[ 2],\n",
       "         [ 5],\n",
       "         [-2],\n",
       "         [-5]], dtype=torch.int32), tensor([[ 3],\n",
       "         [ 6],\n",
       "         [-3],\n",
       "         [-6]], dtype=torch.int32))"
      ]
     },
     "execution_count": 44,
     "metadata": {},
     "output_type": "execute_result"
    }
   ],
   "source": [
    "# torch.chunk(input, chunks, dim=0 or 1)\n",
    "x_1, x_2 = torch.chunk(z1,2,dim=0)\n",
    "y_1, y_2, y_3=torch.chunk(z1,3,dim=1)\n",
    "z1, x_1, x_2 ,y_1, y_2, y_3"
   ]
  },
  {
   "cell_type": "code",
   "execution_count": 48,
   "metadata": {},
   "outputs": [
    {
     "data": {
      "text/plain": [
       "(tensor([[ 1,  2,  3],\n",
       "         [ 4,  5,  6],\n",
       "         [-1, -2, -3],\n",
       "         [-4, -5, -6]], dtype=torch.int32), (tensor([[ 1,  2,  3],\n",
       "          [ 4,  5,  6]], dtype=torch.int32), tensor([[-1, -2, -3],\n",
       "          [-4, -5, -6]], dtype=torch.int32)), (tensor([[ 1,  2],\n",
       "          [ 4,  5],\n",
       "          [-1, -2],\n",
       "          [-4, -5]], dtype=torch.int32), tensor([[ 3],\n",
       "          [ 6],\n",
       "          [-3],\n",
       "          [-6]], dtype=torch.int32)))"
      ]
     },
     "execution_count": 48,
     "metadata": {},
     "output_type": "execute_result"
    }
   ],
   "source": [
    "x_1= torch.split(z1,2,dim=0)\n",
    "y_1=torch.split(z1,2,dim=1)\n",
    "z1, x_1,y_1"
   ]
  },
  {
   "cell_type": "code",
   "execution_count": 56,
   "metadata": {},
   "outputs": [
    {
     "data": {
      "text/plain": [
       "(torch.Size([10, 1, 3, 1, 4]), torch.Size([10, 3, 4]))"
      ]
     },
     "execution_count": 56,
     "metadata": {},
     "output_type": "execute_result"
    }
   ],
   "source": [
    "#torch.squeeze()와 torch.unsqueeze()는 서로 상반된 역할을 합니다. \n",
    "#‘쥐어짜다’라는 느낌에서 어떤 역할을 할지 감이 오지 않으신가요? 맞습니다. \n",
    "#torch.squeeze()를 할경우 차원의 사이즈가 ‘1’인 차원을 없애주며, \n",
    "#반대로 torch.unsqueeze()는 차원의 사이즈가 ‘1’인 차원을 원하는 차원에 생성을 해줍니다.\n",
    "x1=torch.FloatTensor(10,1,3,1,4)\n",
    "x2 = torch.squeeze(x1)\n",
    "x1.size(), x2.size()"
   ]
  },
  {
   "cell_type": "code",
   "execution_count": 62,
   "metadata": {},
   "outputs": [
    {
     "data": {
      "text/plain": [
       "torch.Size([10, 1, 3, 1])"
      ]
     },
     "execution_count": 62,
     "metadata": {},
     "output_type": "execute_result"
    }
   ],
   "source": [
    "x1=torch.FloatTensor(10,1,3)\n",
    "x2=torch.unsqueeze(x1, dim=3)\n",
    "x2.size()"
   ]
  },
  {
   "cell_type": "markdown",
   "metadata": {},
   "source": [
    "## 3.Initialization"
   ]
  },
  {
   "cell_type": "code",
   "execution_count": 63,
   "metadata": {},
   "outputs": [],
   "source": [
    "import torch.nn.init as init"
   ]
  },
  {
   "cell_type": "code",
   "execution_count": 68,
   "metadata": {},
   "outputs": [
    {
     "name": "stderr",
     "output_type": "stream",
     "text": [
      "/anaconda3/lib/python3.6/site-packages/ipykernel_launcher.py:1: UserWarning: nn.init.uniform is now deprecated in favor of nn.init.uniform_.\n",
      "  \"\"\"Entry point for launching an IPython kernel.\n",
      "/anaconda3/lib/python3.6/site-packages/ipykernel_launcher.py:2: UserWarning: nn.init.normal is now deprecated in favor of nn.init.normal_.\n",
      "  \n",
      "/anaconda3/lib/python3.6/site-packages/ipykernel_launcher.py:3: UserWarning: nn.init.constant is now deprecated in favor of nn.init.constant_.\n",
      "  This is separate from the ipykernel package so we can avoid doing imports until\n"
     ]
    },
    {
     "data": {
      "text/plain": [
       "(tensor([[ 1.4800,  0.6521,  1.6379,  1.1624],\n",
       "         [ 0.7764,  0.1513,  0.1985,  0.9169],\n",
       "         [ 1.4594,  1.8564,  0.1031,  0.0738]]),\n",
       " tensor([[ 0.0351,  0.2481, -0.1464, -0.0681],\n",
       "         [-0.2935, -0.0119, -0.0848,  0.0514],\n",
       "         [ 0.0039,  0.0834, -0.3169, -0.3104]]),\n",
       " tensor([[ 3.1415,  3.1415,  3.1415,  3.1415],\n",
       "         [ 3.1415,  3.1415,  3.1415,  3.1415],\n",
       "         [ 3.1415,  3.1415,  3.1415,  3.1415]]))"
      ]
     },
     "execution_count": 68,
     "metadata": {},
     "output_type": "execute_result"
    }
   ],
   "source": [
    "x1 = init.uniform(torch.FloatTensor(3,4), a=0, b=2)\n",
    "x2= init.normal(torch.FloatTensor(3,4), std=0.2)\n",
    "x3 = init.constant(torch.FloatTensor(3,4), 3.1415)\n",
    "\n",
    "x1,x2,x3"
   ]
  },
  {
   "cell_type": "markdown",
   "metadata": {},
   "source": [
    "## 4. Math Operation"
   ]
  },
  {
   "cell_type": "markdown",
   "metadata": {},
   "source": [
    "### 4-1 Arithmetic operations"
   ]
  },
  {
   "cell_type": "code",
   "execution_count": 71,
   "metadata": {},
   "outputs": [
    {
     "data": {
      "text/plain": [
       "(tensor([[ 1.,  1.,  1.],\n",
       "         [ 1.,  1.,  1.]]), tensor([[ 1.,  1.,  1.],\n",
       "         [ 1.,  1.,  1.]]), tensor([[ 2.,  2.,  2.],\n",
       "         [ 2.,  2.,  2.]]), tensor([[ 2.,  2.,  2.],\n",
       "         [ 2.,  2.,  2.]]), tensor([[ 0.,  0.,  0.],\n",
       "         [ 0.,  0.,  0.]]))"
      ]
     },
     "execution_count": 71,
     "metadata": {},
     "output_type": "execute_result"
    }
   ],
   "source": [
    "# torch.add(tensor1, tensor2)\n",
    "x1= torch.FloatTensor([[1,1,1],[1,1,1]])\n",
    "x2=torch.FloatTensor([[1,1,1],[1,1,1]])\n",
    "add = torch.add(x1,x2)\n",
    "x1, x2,add,x1+x2,x1-x2"
   ]
  },
  {
   "cell_type": "code",
   "execution_count": 74,
   "metadata": {},
   "outputs": [
    {
     "data": {
      "text/plain": [
       "(tensor([[ 11.,  11.,  11.],\n",
       "         [ 11.,  11.,  11.]]), tensor([[ 11.,  11.,  11.],\n",
       "         [ 11.,  11.,  11.]]))"
      ]
     },
     "execution_count": 74,
     "metadata": {},
     "output_type": "execute_result"
    }
   ],
   "source": [
    "# torch.add() broadcasting\n",
    "x1 = torch.FloatTensor([[1,1,1],[1,1,1]])\n",
    "add = torch.add(x1, 10)\n",
    "add, x1+10"
   ]
  },
  {
   "cell_type": "code",
   "execution_count": 76,
   "metadata": {},
   "outputs": [
    {
     "data": {
      "text/plain": [
       "(tensor([[ 6.,  6.,  6.],\n",
       "         [ 6.,  6.,  6.]]), tensor([[ 6.,  6.,  6.],\n",
       "         [ 6.,  6.,  6.]]))"
      ]
     },
     "execution_count": 76,
     "metadata": {},
     "output_type": "execute_result"
    }
   ],
   "source": [
    "x1=torch.FloatTensor([[2,2,2],[2,2,2]])\n",
    "x2=torch.FloatTensor([[3,3,3],[3,3,3]])\n",
    "x3=torch.mul(x1,x2)\n",
    "x3, x1 * 3"
   ]
  },
  {
   "cell_type": "code",
   "execution_count": 78,
   "metadata": {},
   "outputs": [
    {
     "data": {
      "text/plain": [
       "(tensor([[ 1.,  1.,  1.],\n",
       "         [ 1.,  1.,  1.]]), tensor([[ 1.,  1.,  1.],\n",
       "         [ 1.,  1.,  1.]]))"
      ]
     },
     "execution_count": 78,
     "metadata": {},
     "output_type": "execute_result"
    }
   ],
   "source": [
    "x1=torch.FloatTensor([[2,2,2],[2,2,2]])\n",
    "x2=torch.FloatTensor([[2,2,2],[2,2,2]])\n",
    "x3 = torch.div(x1, x2)\n",
    "x3, x1/2"
   ]
  },
  {
   "cell_type": "markdown",
   "metadata": {},
   "source": [
    "### 4-2 Other Math Operations"
   ]
  },
  {
   "cell_type": "code",
   "execution_count": 83,
   "metadata": {},
   "outputs": [
    {
     "data": {
      "text/plain": [
       "(tensor([[ 4.,  4.,  4.],\n",
       "         [ 9.,  9.,  9.]]), tensor([[ 4.,  4.,  4.],\n",
       "         [ 9.,  9.,  9.]]))"
      ]
     },
     "execution_count": 83,
     "metadata": {},
     "output_type": "execute_result"
    }
   ],
   "source": [
    "# torch.pow(tensor, exponent)\n",
    "x1 = torch.FloatTensor([[2,2,2],[3,3,3]])\n",
    "x2 = torch.pow(x1, 2)\n",
    "x2, x1**2"
   ]
  },
  {
   "cell_type": "code",
   "execution_count": 84,
   "metadata": {},
   "outputs": [
    {
     "data": {
      "text/plain": [
       "tensor([[  7.3891,   7.3891,   7.3891],\n",
       "        [ 20.0855,  20.0855,  20.0855]])"
      ]
     },
     "execution_count": 84,
     "metadata": {},
     "output_type": "execute_result"
    }
   ],
   "source": [
    "x1 = torch.FloatTensor([[2,2,2],[3,3,3]])\n",
    "x2 = torch.exp(x1)\n",
    "x2"
   ]
  },
  {
   "cell_type": "code",
   "execution_count": 85,
   "metadata": {},
   "outputs": [
    {
     "data": {
      "text/plain": [
       "tensor([[ 0.6931,  0.6931,  0.6931],\n",
       "        [ 1.0986,  1.0986,  1.0986]])"
      ]
     },
     "execution_count": 85,
     "metadata": {},
     "output_type": "execute_result"
    }
   ],
   "source": [
    "x1 = torch.FloatTensor([[2,2,2],[3,3,3]])\n",
    "x2 = torch.log(x1)\n",
    "x2"
   ]
  },
  {
   "cell_type": "markdown",
   "metadata": {},
   "source": [
    "### 4-3 Matrix operations"
   ]
  },
  {
   "cell_type": "code",
   "execution_count": 92,
   "metadata": {},
   "outputs": [
    {
     "data": {
      "text/plain": [
       "tensor(1.00000e-35 *\n",
       "       [[ 0.0000, -1.6833,  0.0000],\n",
       "        [ 0.0000, -1.6833,  0.0000],\n",
       "        [ 0.0000,  0.0000,  0.0000]])"
      ]
     },
     "execution_count": 92,
     "metadata": {},
     "output_type": "execute_result"
    }
   ],
   "source": [
    "#torch.mm(tensor, tensor) tensor matrix muliplication\n",
    "x1= torch.FloatTensor(3,4)\n",
    "x2 = torch.FloatTensor(4,3)\n",
    "x3=torch.mm(x1, x2)\n",
    "x3"
   ]
  },
  {
   "cell_type": "code",
   "execution_count": 95,
   "metadata": {},
   "outputs": [
    {
     "data": {
      "text/plain": [
       "torch.Size([10, 3, 3])"
      ]
     },
     "execution_count": 95,
     "metadata": {},
     "output_type": "execute_result"
    }
   ],
   "source": [
    "#Performs a batch matrix-matrix product of matrices stored in batch1 and batch2.\n",
    "#batch1 and batch2 must be 3-D tensors each containing the same number of matrices.\n",
    "#If batch1 is a (b×n×m) tensor, batch2 is a (b×m×p) tensor, out will be a (b×n×p) tensor.\n",
    "x1= torch.FloatTensor(10,3,4)\n",
    "x2 = torch.FloatTensor(10,4,3)\n",
    "x3=torch.bmm(x1, x2)\n",
    "x3.size()\n"
   ]
  },
  {
   "cell_type": "code",
   "execution_count": 98,
   "metadata": {},
   "outputs": [
    {
     "data": {
      "text/plain": [
       "tensor(18.)"
      ]
     },
     "execution_count": 98,
     "metadata": {},
     "output_type": "execute_result"
    }
   ],
   "source": [
    "# torch.dot(1dim tensor, 1dim tensor) 벡터의 내적\n",
    "x1=torch.FloatTensor([2,2,2])\n",
    "x2=torch.FloatTensor([3,3,3])\n",
    "x3=torch.dot(x1, x2)\n",
    "x3"
   ]
  },
  {
   "cell_type": "code",
   "execution_count": 102,
   "metadata": {},
   "outputs": [
    {
     "data": {
      "text/plain": [
       "(tensor([[ 0.0000e+00, -1.8790e+09,  0.0000e+00, -1.8790e+09],\n",
       "         [ 6.0000e+00,  0.0000e+00,  0.0000e+00,  0.0000e+00],\n",
       "         [ 0.0000e+00,  0.0000e+00,  0.0000e+00,  0.0000e+00]], dtype=torch.int32),\n",
       " tensor([[ 0.0000e+00,  6.0000e+00,  0.0000e+00],\n",
       "         [-1.8790e+09,  0.0000e+00,  0.0000e+00],\n",
       "         [ 0.0000e+00,  0.0000e+00,  0.0000e+00],\n",
       "         [-1.8790e+09,  0.0000e+00,  0.0000e+00]], dtype=torch.int32))"
      ]
     },
     "execution_count": 102,
     "metadata": {},
     "output_type": "execute_result"
    }
   ],
   "source": [
    "#torch.t(matrix) : transposed matrix\n",
    "x1 = torch.IntTensor(3,4)\n",
    "x1, x1.t()"
   ]
  },
  {
   "cell_type": "code",
   "execution_count": 110,
   "metadata": {},
   "outputs": [
    {
     "data": {
      "text/plain": [
       "(torch.Size([10, 2, 3]), torch.Size([10, 3, 2]), torch.Size([2, 10, 3]))"
      ]
     },
     "execution_count": 110,
     "metadata": {},
     "output_type": "execute_result"
    }
   ],
   "source": [
    "x1 = torch.FloatTensor(10,2,3)\n",
    "x1.size(), torch.transpose(x1, 1,2).size(), x1.transpose(0,1).size()"
   ]
  },
  {
   "cell_type": "code",
   "execution_count": null,
   "metadata": {},
   "outputs": [],
   "source": []
  }
 ],
 "metadata": {
  "kernelspec": {
   "display_name": "Python 3",
   "language": "python",
   "name": "python3"
  },
  "language_info": {
   "codemirror_mode": {
    "name": "ipython",
    "version": 3
   },
   "file_extension": ".py",
   "mimetype": "text/x-python",
   "name": "python",
   "nbconvert_exporter": "python",
   "pygments_lexer": "ipython3",
   "version": "3.6.5"
  }
 },
 "nbformat": 4,
 "nbformat_minor": 2
}
