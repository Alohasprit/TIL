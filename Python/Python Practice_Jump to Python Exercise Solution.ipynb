{
 "cells": [
  {
   "cell_type": "markdown",
   "metadata": {},
   "source": [
    "### Jump to Python Exercise \n"
   ]
  },
  {
   "cell_type": "markdown",
   "metadata": {},
   "source": [
    "#### 1. 숫자형"
   ]
  },
  {
   "cell_type": "code",
   "execution_count": 1,
   "metadata": {},
   "outputs": [
    {
     "name": "stdout",
     "output_type": "stream",
     "text": [
      "70.0\n"
     ]
    }
   ],
   "source": [
    "#평균 계산\n",
    "a = 80\n",
    "b = 75\n",
    "c = 55\n",
    "d = (a+b+c)/3\n",
    "print (d)"
   ]
  },
  {
   "cell_type": "code",
   "execution_count": 2,
   "metadata": {},
   "outputs": [
    {
     "data": {
      "text/plain": [
       "5"
      ]
     },
     "execution_count": 2,
     "metadata": {},
     "output_type": "execute_result"
    }
   ],
   "source": [
    "#나눗셈의 몫\n",
    "a = 17//3\n",
    "a"
   ]
  },
  {
   "cell_type": "code",
   "execution_count": 3,
   "metadata": {},
   "outputs": [
    {
     "data": {
      "text/plain": [
       "2"
      ]
     },
     "execution_count": 3,
     "metadata": {},
     "output_type": "execute_result"
    }
   ],
   "source": [
    "#나눗셈의 나머지\n",
    "a = 17%3\n",
    "a"
   ]
  },
  {
   "cell_type": "code",
   "execution_count": 4,
   "metadata": {},
   "outputs": [
    {
     "data": {
      "text/plain": [
       "'odd'"
      ]
     },
     "execution_count": 4,
     "metadata": {},
     "output_type": "execute_result"
    }
   ],
   "source": [
    "#주어진 자연수가 홀짝인지 구분\n",
    "def odd_or_even(a):\n",
    "    if a % 2 ==0:\n",
    "        return 'even'\n",
    "    else:\n",
    "        return 'odd'\n",
    "odd_or_even(33)"
   ]
  },
  {
   "cell_type": "markdown",
   "metadata": {},
   "source": [
    "#### 2 문자열 자료형"
   ]
  },
  {
   "cell_type": "code",
   "execution_count": 5,
   "metadata": {},
   "outputs": [
    {
     "name": "stdout",
     "output_type": "stream",
     "text": [
      "점프 투 파이썬\n"
     ]
    }
   ],
   "source": [
    "#문자 출력\n",
    "print('점프 투 파이썬')"
   ]
  },
  {
   "cell_type": "code",
   "execution_count": 6,
   "metadata": {},
   "outputs": [
    {
     "name": "stdout",
     "output_type": "stream",
     "text": [
      "Life is too short\n",
      "You need Python\n"
     ]
    }
   ],
   "source": [
    "#문자 출력\n",
    "print('Life is too short\\nYou need Python')"
   ]
  },
  {
   "cell_type": "code",
   "execution_count": 7,
   "metadata": {},
   "outputs": [
    {
     "name": "stdout",
     "output_type": "stream",
     "text": [
      "                        PYTHON\n"
     ]
    }
   ],
   "source": [
    "#이 \"PYTHON\"이라는 문자열 앞에 공백 24개를 추가하여 다음과 같은 형태의 30자리의 문자열로 만드시오.\n",
    "print(' '*24 +'PYTHON')\n"
   ]
  },
  {
   "cell_type": "code",
   "execution_count": null,
   "metadata": {},
   "outputs": [],
   "source": [
    "#홍길동 씨의 주민등록번호는 881120-1068234이다. 홍길동씨의 주민등록번호를 연월일(YYYYMMDD) 부분과 그 뒤의 숫자 부분으로 나누어 출력해 보자.\n",
    "a = \"881120-1068234\"\n",
    "연월일 = a[:6]\n",
    "뒷부분 = a[-7:]\n",
    "연월일, 뒷부분"
   ]
  },
  {
   "cell_type": "code",
   "execution_count": null,
   "metadata": {},
   "outputs": [],
   "source": [
    "#주민등록번호 뒷자리의 맨 첫 번째 숫자는 성별을 나타낸다. 주민등록번호에서 성별을 나타내는 숫자를 출력해 보자.\n",
    "def gender(pin):\n",
    "    a = pin[7]\n",
    "    if a == '1':\n",
    "        return \"남\"\n",
    "    else: \n",
    "        return \"여\"\n",
    "gender('881120-1068234')"
   ]
  },
  {
   "cell_type": "code",
   "execution_count": null,
   "metadata": {},
   "outputs": [],
   "source": [
    "#문자열 변경\n",
    "a = '1980M1120'\n",
    "b = a[4]+a[:4]+a[-4:]\n",
    "b"
   ]
  },
  {
   "cell_type": "code",
   "execution_count": null,
   "metadata": {},
   "outputs": [],
   "source": [
    "#다음의 문자열에서 \"short\"라는 문자열이 시작되는 인덱스를 구하시오.\n",
    "a = 'Life is too short, you need python'\n",
    "b= a.find('t')\n",
    "b, a[b]"
   ]
  },
  {
   "cell_type": "code",
   "execution_count": null,
   "metadata": {},
   "outputs": [],
   "source": [
    "#문자열의 replace 함수를 이용하여 위 문자열을 다음(a#b#c#d)과 같이 고치시오.\n",
    "a = 'a:b:c:d'\n",
    "b = a.replace(':', '#')\n",
    "b"
   ]
  },
  {
   "cell_type": "code",
   "execution_count": null,
   "metadata": {},
   "outputs": [],
   "source": [
    "#문자열의 split와 join 함수를 이용하여 위 문자열을 다음(a#b#c#d)과 같이 고치시오.\n",
    "a = 'a:b:c:d'\n",
    "b = a.split(':')\n",
    "b"
   ]
  },
  {
   "cell_type": "code",
   "execution_count": null,
   "metadata": {},
   "outputs": [],
   "source": [
    "c='#'.join(b)\n",
    "c"
   ]
  },
  {
   "cell_type": "markdown",
   "metadata": {},
   "source": [
    "#### 3. 리스트 자료형"
   ]
  },
  {
   "cell_type": "code",
   "execution_count": null,
   "metadata": {},
   "outputs": [],
   "source": [
    "#a = ['Life', 'is', 'too', 'short', 'you', 'need', 'python'] a 리스트를 이용하여 다음과 같은 문자열을 출력하시오.\n",
    "a = ['Life', 'is', 'too', 'short', 'you', 'need', 'python'] \n",
    "b=a[4]+\" \"+a[2]\n",
    "b"
   ]
  },
  {
   "cell_type": "code",
   "execution_count": null,
   "metadata": {},
   "outputs": [],
   "source": [
    "#['Life', 'is', 'too', 'short'] 라는 리스트를 Life is too short라는 문자열로 만들어 출력해 보자.\n",
    "a=['Life', 'is', 'too', 'short'] \n",
    "b = \" \".join(a)\n",
    "b"
   ]
  },
  {
   "cell_type": "code",
   "execution_count": null,
   "metadata": {},
   "outputs": [],
   "source": [
    "#이 리스트의 갯수(사이즈)를 구하시오.\n",
    "a = [1, 2, 3]\n",
    "len(a)"
   ]
  },
  {
   "cell_type": "code",
   "execution_count": null,
   "metadata": {},
   "outputs": [],
   "source": [
    "#리스트 a에 [4, 5]를 append 했을 때와 extend했을 때의 차이점은 무엇인가?\n",
    "a = [1, 2, 3]\n",
    "b=[4,5]\n",
    "a.append(b)\n",
    "a\n"
   ]
  },
  {
   "cell_type": "code",
   "execution_count": null,
   "metadata": {},
   "outputs": [],
   "source": [
    "a = [1, 2, 3]\n",
    "b=[4,5]\n",
    "a.extend(b)\n",
    "a\n"
   ]
  },
  {
   "cell_type": "code",
   "execution_count": null,
   "metadata": {},
   "outputs": [],
   "source": [
    "#[1, 3, 5, 4, 2]라는 리스트를 [5, 4, 3, 2, 1]로 만들어보자. (힌트. 리스트의 내장함수인 sort와 reverse를 활용해 보자.)\n",
    "a=[1, 3, 5, 4, 2]\n",
    "a.sort()\n",
    "a.reverse()\n",
    "a"
   ]
  },
  {
   "cell_type": "code",
   "execution_count": null,
   "metadata": {},
   "outputs": [],
   "source": [
    "#[1, 2, 3, 4, 5]라는 리스트를 [1, 3, 5]로 만들어 보자.\n",
    "\n",
    "a= [1, 2, 3, 4, 5]\n",
    "del a[1]\n",
    "del a[2]\n",
    "a"
   ]
  },
  {
   "cell_type": "markdown",
   "metadata": {},
   "source": [
    "#### 4 튜플 자료형"
   ]
  },
  {
   "cell_type": "code",
   "execution_count": null,
   "metadata": {},
   "outputs": [],
   "source": [
    "#숫자 3만을 요소값으로 가지는 튜플을 작성하라.\n",
    "#한개의 값을 가지는 튜플은 반드시 콤마 , 를 표기 해줘야 한다\n",
    "a = (3,)\n",
    "a"
   ]
  },
  {
   "cell_type": "code",
   "execution_count": null,
   "metadata": {},
   "outputs": [],
   "source": [
    "#다음은 튜플 (1, 2, 3)을 (1, 4, 3)과 같이 변경하려고 시도했을 경우이다. 오류의 원인에 대해서 설명하시오.\n",
    ">>> a = (1, 2, 3)\n",
    ">>> a[1] = 4\n",
    "Traceback (most recent call last):\n",
    "  File \"<stdin>\", line 1, in <module>\n",
    "TypeError: 'tuple' object does not support item assignment\n",
    "    \n",
    "#튜플은 값의 수정 및 삭제가 안됨"
   ]
  },
  {
   "cell_type": "code",
   "execution_count": null,
   "metadata": {},
   "outputs": [],
   "source": [
    "#(1,2,3)이라는 튜플에 4라는 값을 추가하여 (1,2,3,4)처럼 만들어 출력해 보자.\n",
    "\n",
    "a = (1,2,3)\n",
    "a = a+(4,)\n",
    "a"
   ]
  },
  {
   "cell_type": "markdown",
   "metadata": {},
   "source": [
    "#### 5. 딕셔너리 자료형"
   ]
  },
  {
   "cell_type": "code",
   "execution_count": null,
   "metadata": {},
   "outputs": [],
   "source": [
    "#다음 표를 딕셔너리로 만드시오.\n",
    "\n",
    "a={'name':'홍길동',\n",
    "   'birth':1128,\n",
    "   'age':30\n",
    "}\n",
    "print(a.get('age'))\n",
    "print(a.keys())\n",
    "print(a.values())"
   ]
  },
  {
   "cell_type": "code",
   "execution_count": null,
   "metadata": {},
   "outputs": [],
   "source": [
    "#딕셔너리 a에서 'age'에 해당되는 값을 추출하고 삭제해 보자.\n",
    "a={'name':'홍길동',\n",
    "   'birth':1128,\n",
    "   'age':30\n",
    "}\n",
    "del a['age']\n",
    "a"
   ]
  },
  {
   "cell_type": "code",
   "execution_count": null,
   "metadata": {},
   "outputs": [],
   "source": [
    "#딕셔너리 a의 value중에서 최소 값을 출력하시오\n",
    "a = {'A':90, 'B':80, 'C':70}\n",
    "\n",
    "print(min(a.values()))\n",
    "min(a)"
   ]
  },
  {
   "cell_type": "code",
   "execution_count": null,
   "metadata": {},
   "outputs": [],
   "source": [
    "#위 딕셔너리 a를 다음과 같은 리스트로 만들어보자.\n",
    "a = {'A':90, 'B':80, 'C':70}\n",
    "\n",
    "b = list(a.items())\n",
    "b"
   ]
  },
  {
   "cell_type": "markdown",
   "metadata": {},
   "source": [
    "#### 7. 집합 자료형"
   ]
  },
  {
   "cell_type": "code",
   "execution_count": null,
   "metadata": {},
   "outputs": [],
   "source": [
    "#['a', 'b', 'c'] 라는 리스트를 집합 자료형으로 만드시오.\n",
    "\n",
    "a=['a', 'b', 'c']\n",
    "b=set(a)\n",
    "b"
   ]
  },
  {
   "cell_type": "code",
   "execution_count": null,
   "metadata": {},
   "outputs": [],
   "source": [
    "#중복을 허용하지 않는 집합 자료형의 특징을 이용하여 다음 a 리스트에서 중복된 숫자들을 제거해 보자.\n",
    "\n",
    "a = [1, 1, 1, 2, 2, 3, 3, 3, 4, 4, 5]\n",
    "a = list(set(a))\n",
    "a"
   ]
  },
  {
   "cell_type": "code",
   "execution_count": null,
   "metadata": {},
   "outputs": [],
   "source": [
    "#s1 집합의 항목 중 s2 집합에 포함된 항목을 제거 해 보자.\n",
    "\n",
    "s1 = set(['a', 'b', 'c', 'd', 'e'])\n",
    "s2 = set(['c', 'd', 'e', 'f', 'g'])\n",
    "\n",
    "a = list(s1-s2)\n",
    "a"
   ]
  },
  {
   "cell_type": "code",
   "execution_count": null,
   "metadata": {},
   "outputs": [],
   "source": [
    "#a 에 {'d', 'e', 'f'} 를 추가하시오.\n",
    "\n",
    "a = {'a', 'b', 'c'}\n",
    "a.update(['d', 'e', 'f'])\n",
    "a"
   ]
  },
  {
   "cell_type": "markdown",
   "metadata": {},
   "source": [
    "#### 8. 불 자료형"
   ]
  },
  {
   "cell_type": "code",
   "execution_count": null,
   "metadata": {},
   "outputs": [],
   "source": [
    "#다음은 불 자료형을 리턴하는 조건문들이다. 각 각의 예제의 결과가 어떻게 나오는지 예상해 보자.\n",
    "print(1 != 1)\n",
    "print(3 > 1)\n",
    "print('a' in 'abc')\n",
    "print('a' not in [1, 2, 3])\n",
    "\n"
   ]
  },
  {
   "cell_type": "markdown",
   "metadata": {},
   "source": [
    "#### 9. 자료형의 값을 저장하는 공간, 변수"
   ]
  },
  {
   "cell_type": "code",
   "execution_count": null,
   "metadata": {},
   "outputs": [],
   "source": [
    "#다음 예제를 실행하고 그 결과를 설명하시오.\n",
    "a = [1, 2, 3]\n",
    "b = [1, 2, 3]\n",
    "a is b"
   ]
  },
  {
   "cell_type": "code",
   "execution_count": null,
   "metadata": {},
   "outputs": [],
   "source": [
    "#객체의 값은 동일해 보이지만 변수는 다른 상황임\n",
    "id(a), id(b)"
   ]
  },
  {
   "cell_type": "code",
   "execution_count": null,
   "metadata": {},
   "outputs": [],
   "source": [
    "a = [1, 2, 3]\n",
    "b = a\n",
    "a is b"
   ]
  },
  {
   "cell_type": "code",
   "execution_count": null,
   "metadata": {},
   "outputs": [],
   "source": [
    "id(a), id(b)"
   ]
  },
  {
   "cell_type": "code",
   "execution_count": null,
   "metadata": {},
   "outputs": [],
   "source": [
    "a = b = [1, 2, 3]\n",
    "a[1] = 4\n",
    "print(b)"
   ]
  },
  {
   "cell_type": "code",
   "execution_count": null,
   "metadata": {},
   "outputs": [],
   "source": [
    "id(a), id(b)"
   ]
  },
  {
   "cell_type": "code",
   "execution_count": null,
   "metadata": {},
   "outputs": [],
   "source": [
    "a = [1, 2, 3]\n",
    "b = a[:]\n",
    "a is b"
   ]
  },
  {
   "cell_type": "code",
   "execution_count": null,
   "metadata": {},
   "outputs": [],
   "source": [
    "id(a), id(b)"
   ]
  },
  {
   "cell_type": "code",
   "execution_count": null,
   "metadata": {},
   "outputs": [],
   "source": [
    "a = [1, 2, 3]\n",
    "b = a[:]\n",
    "a[1] = 4\n",
    "print(a)\n",
    "print(b)"
   ]
  },
  {
   "cell_type": "code",
   "execution_count": null,
   "metadata": {},
   "outputs": [],
   "source": [
    "id(a), id(b)"
   ]
  },
  {
   "cell_type": "code",
   "execution_count": null,
   "metadata": {},
   "outputs": [],
   "source": [
    "#기호를 이용하여 더한것과 extend한 것의 차이점이 있을까? 있다면 그 차이점에 대해서 얘기해 보자.\n",
    "a = [1, 2, 3]\n",
    "print(id(a))\n",
    "a = a + [4,5]\n",
    "id(a)\n"
   ]
  },
  {
   "cell_type": "code",
   "execution_count": null,
   "metadata": {},
   "outputs": [],
   "source": [
    "a = [1, 2, 3]\n",
    "print(id(a))\n",
    "a.extend([4, 5])\n",
    "id(a)\n"
   ]
  },
  {
   "cell_type": "markdown",
   "metadata": {
    "collapsed": true
   },
   "source": [
    "#### 10. if 조건 문"
   ]
  },
  {
   "cell_type": "code",
   "execution_count": null,
   "metadata": {},
   "outputs": [],
   "source": [
    "score = 30\n",
    "if score >= 60:\n",
    "    message = \"success\"\n",
    "else:\n",
    "    message = \"failure\"\n",
    "message"
   ]
  },
  {
   "cell_type": "code",
   "execution_count": null,
   "metadata": {},
   "outputs": [],
   "source": [
    "#조건부 표현식\n",
    "#조건문이_참인_경우 if 조건문 else 조건문이_거짓인_경우\n",
    "score = 70\n",
    "message = 'success' if score >=60 else \"failuer\"\n",
    "message"
   ]
  },
  {
   "cell_type": "code",
   "execution_count": null,
   "metadata": {},
   "outputs": [],
   "source": [
    "#홍길동씨는 택시를 타고 목적지까지 가려고 한다. 목적지까지 가기 위해서는 카드를 소유하고 있거나 4,000원 이상의 현금을 가지고 있어야 한다고 한다. 홍길동씨는 택시를 탈 수 있는지를 판별할 수 있는 조건식을 작성하고 그 결과를 출력하시오.\n",
    "money = 5000\n",
    "card = False\n",
    "if money>=4000 or card:  \n",
    "    print(\"택시를 탈 수 있다\")\n",
    "else:\n",
    "    print(\"택시를 탈 수 없다\")\n",
    "    \n",
    "\n",
    "    "
   ]
  },
  {
   "cell_type": "code",
   "execution_count": null,
   "metadata": {},
   "outputs": [],
   "source": [
    "lucky_list = [1, 9, 23, 46]\n",
    "n = 23\n",
    "\n",
    "if n in lucky_list:\n",
    "    print(\"야호\")"
   ]
  },
  {
   "cell_type": "code",
   "execution_count": null,
   "metadata": {},
   "outputs": [],
   "source": [
    "a = \"Life is too short, you need python\"\n",
    "if 'wife' in a:\n",
    "     print('wife')\n",
    "elif 'python' in a and 'you' not in a:\n",
    "    print('python')\n",
    "elif 'shirt' not in a:\n",
    "    print('shirt')\n",
    "elif 'need' in a:\n",
    "    print('need')\n",
    "else:\n",
    "    print('none')"
   ]
  },
  {
   "cell_type": "markdown",
   "metadata": {
    "collapsed": true
   },
   "source": [
    "#### 11. While 문"
   ]
  },
  {
   "cell_type": "code",
   "execution_count": null,
   "metadata": {},
   "outputs": [],
   "source": [
    "treeHit = 0\n",
    "while treeHit < 10:\n",
    "    treeHit = treeHit + 1\n",
    "    print('나무를 %d번 찍었습니다.' % treeHit)\n",
    "    if treeHit == 10:\n",
    "        print('나무 넘어갑니다.')"
   ]
  },
  {
   "cell_type": "code",
   "execution_count": null,
   "metadata": {},
   "outputs": [],
   "source": [
    "#1부터 100까지의 자연수를 모두 더하고 그 결과를 출력하시오.\n",
    "number = 1\n",
    "result = 0\n",
    "while number <=100:\n",
    "    result += number\n",
    "    number +=1\n",
    "\n",
    "%time \n",
    "print(result)"
   ]
  },
  {
   "cell_type": "code",
   "execution_count": null,
   "metadata": {},
   "outputs": [],
   "source": [
    "#1부터 1000까지의 자연수 중 3의 배수의 합을 구하시오.\n",
    "i = 3\n",
    "result = 0\n",
    "while i <= 1000:\n",
    "    result +=i\n",
    "    i += 3\n",
    "    \n",
    "print(result)"
   ]
  },
  {
   "cell_type": "code",
   "execution_count": null,
   "metadata": {},
   "outputs": [],
   "source": [
    "#다음은 A학급 학생의 점수를 나타내는 리스트이다. 다음 리스트에서 50점 이상의 점수들의 총합을 구하시오.\n",
    "A = [20, 55, 67, 82, 45, 33, 90, 87, 100, 25]\n",
    "result = 0\n",
    "\n",
    "for i in A:\n",
    "    if i >= 50:\n",
    "        result += i\n",
    "\n",
    "print(result)"
   ]
  },
  {
   "cell_type": "code",
   "execution_count": null,
   "metadata": {},
   "outputs": [],
   "source": [
    "#while문을 이용하여 아래와 같이 별(*)을 표시하는 프로그램을 작성해 보자.\n",
    "s = '*'\n",
    "i = 1\n",
    "\n",
    "while i < 5:\n",
    "    print(s * i)\n",
    "    i += 1"
   ]
  },
  {
   "cell_type": "code",
   "execution_count": null,
   "metadata": {},
   "outputs": [],
   "source": [
    "#while문을 이용하여 아래와 같이 별(*)을 표시하는 프로그램을 작성해 보자.\n",
    "star = 7\n",
    "space = 0\n",
    "\n",
    "while space <= 3:\n",
    "    print(' '*space + '*'* star + ' '*space)\n",
    "    space +=1\n",
    "    star -= 2\n",
    "    \n"
   ]
  },
  {
   "cell_type": "code",
   "execution_count": null,
   "metadata": {},
   "outputs": [],
   "source": [
    "#1부터 100까지의 숫자를 for문을 이용하여 출력하시오.\n",
    "\n",
    "for i in range(1,101):\n",
    "    print (i)"
   ]
  },
  {
   "cell_type": "code",
   "execution_count": null,
   "metadata": {},
   "outputs": [],
   "source": [
    "#for문을 이용하여 1부터 1000까지의 자연수 중 5의 배수에 해당되는 자연수들의 총합을 구하시오.\n",
    "\n",
    "result = 0\n",
    "\n",
    "for i in range(1, 1001):\n",
    "    if i %5 ==0:\n",
    "        result += i\n",
    "        \n",
    "print(result)"
   ]
  },
  {
   "cell_type": "code",
   "execution_count": null,
   "metadata": {},
   "outputs": [],
   "source": [
    "#for문을 이용하여 A 학급의 평균 점수를 구해 보자.\n",
    "\n",
    "A = [70, 60, 55, 75, 95, 90, 80, 80, 85, 100]\n",
    "\n",
    "result = 0\n",
    "\n",
    "for i in A:\n",
    "    result += i\n",
    "\n",
    "print(result/len(A))"
   ]
  },
  {
   "cell_type": "code",
   "execution_count": null,
   "metadata": {},
   "outputs": [],
   "source": [
    "#다음은 학생들의 혈액형(A, B, AB, O)에 대한 데이터이다.\n",
    "#for 문을 이용하여 각 혈액형 별 학생수의 합계를 구하시오.\n",
    "\n",
    "data = ['A', 'B', 'A', 'O', 'AB', 'AB', 'O', 'A', 'B', 'O', 'B', 'AB']\n",
    "\n",
    "result = {}\n",
    "\n",
    "for i in data:\n",
    "    if i in result:\n",
    "        result[i] +=1\n",
    "    else:\n",
    "        result[i] =1\n",
    "        \n",
    "print(result)\n"
   ]
  },
  {
   "cell_type": "code",
   "execution_count": null,
   "metadata": {},
   "outputs": [],
   "source": [
    "#리스트 중에서 홀수에만 2를 곱하여 저장하는 다음과 같은 코드가 있다.\n",
    "#위 코드를 리스트 내포(list comprehension)를 이용하여 표현하시오.\n",
    "\n"
   ]
  },
  {
   "cell_type": "code",
   "execution_count": null,
   "metadata": {},
   "outputs": [],
   "source": []
  },
  {
   "cell_type": "code",
   "execution_count": null,
   "metadata": {},
   "outputs": [],
   "source": []
  },
  {
   "cell_type": "code",
   "execution_count": null,
   "metadata": {},
   "outputs": [],
   "source": []
  }
 ],
 "metadata": {
  "kernelspec": {
   "display_name": "Python 3",
   "language": "python",
   "name": "python3"
  },
  "language_info": {
   "codemirror_mode": {
    "name": "ipython",
    "version": 3
   },
   "file_extension": ".py",
   "mimetype": "text/x-python",
   "name": "python",
   "nbconvert_exporter": "python",
   "pygments_lexer": "ipython3",
   "version": "3.6.5"
  }
 },
 "nbformat": 4,
 "nbformat_minor": 2
}
