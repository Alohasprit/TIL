{
 "cells": [
  {
   "cell_type": "code",
   "execution_count": 2,
   "metadata": {},
   "outputs": [],
   "source": [
    "import pandas as pd\n",
    "import numpy as np\n",
    "\n",
    "import matplotlib.pyplot as plt\n",
    "import seaborn as sns\n",
    "\n",
    "import mglearn\n",
    "\n",
    "import warnings\n",
    "warnings.filterwarnings(action='ignore')\n",
    "\n",
    "%matplotlib inline"
   ]
  },
  {
   "cell_type": "code",
   "execution_count": 3,
   "metadata": {},
   "outputs": [
    {
     "name": "stdout",
     "output_type": "stream",
     "text": [
      "w[0]: 0.393906  b: -0.031804\n"
     ]
    },
    {
     "data": {
      "image/png": "[encoded data removed]",
      "text/plain": [
       "<Figure size 576x576 with 1 Axes>"
      ]
     },
     "metadata": {
      "needs_background": "light"
     },
     "output_type": "display_data"
    }
   ],
   "source": [
    "mglearn.plots.plot_linear_regression_wave()"
   ]
  },
  {
   "cell_type": "code",
   "execution_count": 9,
   "metadata": {},
   "outputs": [],
   "source": [
    "from sklearn.linear_model import LinearRegression\n",
    "from sklearn.model_selection import train_test_split"
   ]
  },
  {
   "cell_type": "code",
   "execution_count": 30,
   "metadata": {},
   "outputs": [],
   "source": [
    "X, y = mglearn.datasets.make_wave(n_samples=60)\n",
    "X_train, X_test, y_train, y_test = train_test_split(X, y, random_state=0)"
   ]
  },
  {
   "cell_type": "code",
   "execution_count": 31,
   "metadata": {},
   "outputs": [
    {
     "data": {
      "text/plain": [
       "((45, 1), (45,))"
      ]
     },
     "execution_count": 31,
     "metadata": {},
     "output_type": "execute_result"
    }
   ],
   "source": [
    "X_train.shape, y_train.shape"
   ]
  },
  {
   "cell_type": "code",
   "execution_count": 32,
   "metadata": {},
   "outputs": [
    {
     "data": {
      "text/plain": [
       "(numpy.ndarray, numpy.ndarray)"
      ]
     },
     "execution_count": 32,
     "metadata": {},
     "output_type": "execute_result"
    }
   ],
   "source": [
    "type(X), type(y)"
   ]
  },
  {
   "cell_type": "code",
   "execution_count": 36,
   "metadata": {},
   "outputs": [
    {
     "data": {
      "text/plain": [
       "LinearRegression(copy_X=True, fit_intercept=True, n_jobs=None, normalize=False)"
      ]
     },
     "execution_count": 36,
     "metadata": {},
     "output_type": "execute_result"
    }
   ],
   "source": [
    "lr = LinearRegression().fit(X_train, y_train)\n",
    "lr"
   ]
  },
  {
   "cell_type": "code",
   "execution_count": 40,
   "metadata": {},
   "outputs": [
    {
     "name": "stdout",
     "output_type": "stream",
     "text": [
      "lr.coef_: [0.44153666]\n",
      "lr.intercept_: -0.01711124414733381\n"
     ]
    }
   ],
   "source": [
    "print(\"lr.coef_:\", lr.coef_)\n",
    "print(\"lr.intercept_:\", lr.intercept_)"
   ]
  },
  {
   "cell_type": "code",
   "execution_count": 42,
   "metadata": {},
   "outputs": [
    {
     "name": "stdout",
     "output_type": "stream",
     "text": [
      "훈련세트점수:0.66\n",
      "테스트세트점수:0.69\n"
     ]
    }
   ],
   "source": [
    "\n",
    "print(\"훈련세트점수:{:.2f}\".format(lr.score(X_train, y_train)))\n",
    "print(\"테스트세트점수:{:.2f}\".format(lr.score(X_test, y_test)))"
   ]
  },
  {
   "cell_type": "code",
   "execution_count": 43,
   "metadata": {},
   "outputs": [],
   "source": [
    "#feature값이 많은 데이터 셋을 활용하여 linear regression 모델을 운영해 보자\n",
    "\n",
    "X, y = mglearn.datasets.load_extended_boston()"
   ]
  },
  {
   "cell_type": "code",
   "execution_count": 44,
   "metadata": {},
   "outputs": [
    {
     "data": {
      "text/plain": [
       "((506, 104), (506,))"
      ]
     },
     "execution_count": 44,
     "metadata": {},
     "output_type": "execute_result"
    }
   ],
   "source": [
    "X.shape, y.shape"
   ]
  },
  {
   "cell_type": "code",
   "execution_count": 45,
   "metadata": {},
   "outputs": [
    {
     "data": {
      "text/plain": [
       "((379, 104), (127, 104), (379,), (127,))"
      ]
     },
     "execution_count": 45,
     "metadata": {},
     "output_type": "execute_result"
    }
   ],
   "source": [
    "X_train, X_test, y_train, y_test = train_test_split(X, y, random_state=42)\n",
    "X_train.shape, X_test.shape, y_train.shape, y_test.shape"
   ]
  },
  {
   "cell_type": "code",
   "execution_count": 47,
   "metadata": {},
   "outputs": [
    {
     "data": {
      "text/plain": [
       "LinearRegression(copy_X=True, fit_intercept=True, n_jobs=None, normalize=False)"
      ]
     },
     "execution_count": 47,
     "metadata": {},
     "output_type": "execute_result"
    }
   ],
   "source": [
    "lr = LinearRegression().fit(X_train, y_train)\n",
    "lr"
   ]
  },
  {
   "cell_type": "code",
   "execution_count": 56,
   "metadata": {},
   "outputs": [
    {
     "name": "stdout",
     "output_type": "stream",
     "text": [
      "lr_coef: [-5.11126504e+02  4.02559787e+00 -9.45778613e+01  1.34720251e+01\n",
      "  3.48176257e+01  6.03611391e+01  3.49707471e+01  2.94114542e+00\n",
      "  3.14525465e+00  8.20792132e+01  1.24254396e+01  3.86676075e+01\n",
      " -9.38409521e-01  1.32936334e+01  7.60317098e+02  1.42274855e+03\n",
      "  2.29220565e+02 -7.79405429e+01  8.79429261e+01  1.39813973e+01\n",
      "  1.02565346e+02  7.52178879e+02 -1.82071934e+03  5.34143172e+02\n",
      " -2.41122305e+01  1.11848898e+02 -4.38177813e+00 -1.23079894e+01\n",
      " -3.63360790e+00 -5.64878037e+01  4.60395879e-01  8.18005986e+00\n",
      " -2.06294404e+01 -3.49659791e+01  4.31717988e+01 -2.92220843e+00\n",
      "  1.45250942e+01 -3.24346333e+01  3.66984591e+01 -2.75859278e+00\n",
      "  6.27805740e+00  4.98379104e+01  6.55060318e+00  3.91047481e+01\n",
      " -1.14826290e+01 -8.00990322e-01 -3.68662287e+00  3.36483260e+01\n",
      " -1.49103502e+01  1.34720251e+01 -1.80244019e+01 -2.90956806e+01\n",
      " -2.78115796e+00 -1.10315060e+01  1.15584830e+00 -8.37313259e-01\n",
      " -7.89905136e+00  6.27950290e+00 -1.09538327e+01 -2.48389637e+01\n",
      " -1.16316264e+01 -3.00228631e+00  6.83518378e+01 -1.76428626e+01\n",
      "  6.10371772e+01 -6.12936496e+01 -1.14748321e+01  2.09075528e+01\n",
      "  3.32421356e+01 -4.11743268e+01 -2.19312422e+01 -2.08881337e+01\n",
      " -5.05858326e+01 -2.14714962e+01 -1.11593182e+01 -6.16458839e-01\n",
      " -1.12569338e+00 -1.40290786e-01  3.17622544e+01 -2.57159897e+01\n",
      "  5.51837314e-01 -1.33768644e+01 -3.25170630e+01  5.20806824e+01\n",
      "  1.08614313e-01 -3.62670514e+01 -2.68217433e+01 -3.42720513e+01\n",
      "  1.41341012e+01 -6.56371258e+01  8.64151127e+01 -3.08281756e+01\n",
      "  3.61562583e+01 -2.56736318e+01 -1.69118913e+01  3.35683331e+01\n",
      " -7.48792540e+01 -2.02885460e+01  3.35543349e+00  1.07705825e+01\n",
      "  3.50306579e+00 -5.10021527e+00  2.46929457e+00  2.55749022e+01]\n",
      "lr_intercept: -34.70752210387279\n"
     ]
    },
    {
     "data": {
      "text/plain": [
       "(104,)"
      ]
     },
     "execution_count": 56,
     "metadata": {},
     "output_type": "execute_result"
    }
   ],
   "source": [
    "print(\"lr_coef:\", lr.coef_)\n",
    "print(\"lr_intercept:\", lr.intercept_)\n",
    "lr.coef_.shape"
   ]
  },
  {
   "cell_type": "code",
   "execution_count": 60,
   "metadata": {},
   "outputs": [
    {
     "name": "stdout",
     "output_type": "stream",
     "text": [
      "훈련데이터점수:0.94\n",
      "테스트데이터점수:0.78\n"
     ]
    }
   ],
   "source": [
    "print(\"훈련데이터점수:{:.2f}\".format(lr.score(X_train, y_train)))\n",
    "print(\"테스트데이터점수:{:.2f}\".format(lr.score(X_test, y_test)))\n",
    "\n",
    "# 아래 수치는 훈련과 테스트 데이터 셋의 스코어 차이가 많이 남. 이는 과대적합 되었다는 신호임\n",
    "# 단순 linear 모델은 과대적합을 컨트롤 할 수 있는 매개변수(parameter)가 없음\n",
    "# 이러한 과대적합 문제를 해결하기 위해 모델의 복잡도를 제외 하기 위한 하나의 방법으로 리지 라소 회귀(과대적합 방지를 위한 매개변수 포함)를 사용함"
   ]
  },
  {
   "cell_type": "markdown",
   "metadata": {},
   "source": [
    "### 2. Ridge Regression"
   ]
  },
  {
   "cell_type": "code",
   "execution_count": 67,
   "metadata": {},
   "outputs": [
    {
     "name": "stdout",
     "output_type": "stream",
     "text": [
      "리즈 훈련 세트 점수:0.87\n",
      "리즈 테스트 세트 점수:0.81\n"
     ]
    }
   ],
   "source": [
    "from sklearn.linear_model import Ridge\n",
    "ridge = Ridge().fit(X_train, y_train)\n",
    "print(\"리즈 훈련 세트 점수:{:.2f}\".format(ridge.score(X_train, y_train)))\n",
    "print(\"리즈 테스트 세트 점수:{:.2f}\".format(ridge.score(X_test, y_test)))"
   ]
  },
  {
   "cell_type": "code",
   "execution_count": 72,
   "metadata": {},
   "outputs": [],
   "source": [
    "# ridge 모델을 사용하면 테스트 셋의 예측 정확도가 더욱 높아진다.\n",
    "# ridge 모델을 그냥 사용하면 alpha값이 1.0으로 세팅 되어 있는데 \n",
    "# alpha값을 더욱 상승 시키면 계수 값이 0에 더욱 가깝게 만들어서 일반화에 조금 더 도움이 될 수 있다\n",
    "# ||y - Xw||^2_2 + alpha * ||w||^2_2"
   ]
  },
  {
   "cell_type": "code",
   "execution_count": 73,
   "metadata": {},
   "outputs": [
    {
     "name": "stdout",
     "output_type": "stream",
     "text": [
      "리즈 훈련 세트 점수:0.77\n",
      "리즈 테스트 세트 점수:0.73\n"
     ]
    }
   ],
   "source": [
    "ridge10 = Ridge(alpha=10).fit(X_train, y_train)\n",
    "print(\"리즈 훈련 세트 점수:{:.2f}\".format(ridge10.score(X_train, y_train)))\n",
    "print(\"리즈 테스트 세트 점수:{:.2f}\".format(ridge10.score(X_test, y_test)))"
   ]
  },
  {
   "cell_type": "code",
   "execution_count": 74,
   "metadata": {},
   "outputs": [
    {
     "name": "stdout",
     "output_type": "stream",
     "text": [
      "리즈 훈련 세트 점수:0.94\n",
      "리즈 테스트 세트 점수:0.81\n"
     ]
    }
   ],
   "source": [
    "ridge0_001 = Ridge(alpha=0.001).fit(X_train, y_train)\n",
    "print(\"리즈 훈련 세트 점수:{:.2f}\".format(ridge0_001.score(X_train, y_train)))\n",
    "print(\"리즈 테스트 세트 점수:{:.2f}\".format(ridge0_001.score(X_test, y_test)))"
   ]
  },
  {
   "cell_type": "code",
   "execution_count": 91,
   "metadata": {},
   "outputs": [
    {
     "data": {
      "text/plain": [
       "<matplotlib.legend.Legend at 0x1c2642b4e0>"
      ]
     },
     "execution_count": 91,
     "metadata": {},
     "output_type": "execute_result"
    },
    {
     "data": {
      "image/png": "[encoded data removed]",
      "text/plain": [
       "<Figure size 864x576 with 1 Axes>"
      ]
     },
     "metadata": {
      "needs_background": "light"
     },
     "output_type": "display_data"
    }
   ],
   "source": [
    "# alpha값과 coef값의 관계는 alpha가 커질수록 coef의 절대값이 작아진다.\n",
    "# # ||y - Xw||^2_2 + alpha * ||w||^2_2\n",
    "# 이를 확인해보자 \n",
    "\n",
    "fig=plt.figure(figsize=(12,8))\n",
    "plt.plot(ridge10.coef_, '^', label=\"Ridge alpha=10\")\n",
    "plt.plot(ridge.coef_, 's', label=\"Ridge alpha=1\")\n",
    "plt.plot(ridge0_001.coef_, 'v', label=\"Ridge alpha=0.001\")\n",
    "\n",
    "plt.plot(lr.coef_, 'o', label=\"LinearRegression\")\n",
    "plt.xlabel(\"계수 목록\")\n",
    "plt.ylabel(\"계수 크기\")\n",
    "xlims = plt.xlim()\n",
    "plt.hlines(0, xlims[0], xlims[1])\n",
    "plt.xlim(xlims)\n",
    "plt.ylim(-25,25)\n",
    "plt.legend(loc='best')"
   ]
  },
  {
   "cell_type": "code",
   "execution_count": 92,
   "metadata": {},
   "outputs": [
    {
     "data": {
      "text/plain": [
       "(104,)"
      ]
     },
     "execution_count": 92,
     "metadata": {},
     "output_type": "execute_result"
    }
   ],
   "source": [
    "ridge10.coef_.shape"
   ]
  },
  {
   "cell_type": "code",
   "execution_count": 93,
   "metadata": {},
   "outputs": [],
   "source": [
    "# 데이터 셋의 크기를 달리 하며서 learning curve를 살펴보자"
   ]
  },
  {
   "cell_type": "code",
   "execution_count": 96,
   "metadata": {},
   "outputs": [
    {
     "data": {
      "image/png": "[encoded data removed]",
      "text/plain": [
       "<Figure size 864x288 with 1 Axes>"
      ]
     },
     "metadata": {
      "needs_background": "light"
     },
     "output_type": "display_data"
    }
   ],
   "source": [
    "# 일반 linear 모델의 경우 데이터 셋이 작으면 트래이닝의 오버피팅은 잘 되지만, 테스트 데이터에 대한 정확도는 매우 낮음.\n",
    "# 반면, ridge 모델의 경우 데이터 셋이 작더라도 상대적으로 테스트 셋에 대한 정확도가 확보되며 데이터가 많아 질수록 정확도는 증가한다\n",
    "plt.figure(figsize=(12,4))\n",
    "mglearn.plots.plot_ridge_n_samples()"
   ]
  },
  {
   "cell_type": "markdown",
   "metadata": {},
   "source": [
    "### 3 Lasso Regression"
   ]
  },
  {
   "cell_type": "code",
   "execution_count": 97,
   "metadata": {},
   "outputs": [],
   "source": [
    "# L1 regularization Ridge와 달리 실제 계수(coef)가 0이 될 수도 있음 \n",
    "# 이말인 즉 슨, feature selection이 자동으로 이뤄진다고 볼 수 있음"
   ]
  },
  {
   "cell_type": "code",
   "execution_count": 98,
   "metadata": {},
   "outputs": [],
   "source": [
    "from sklearn.linear_model import Lasso"
   ]
  },
  {
   "cell_type": "code",
   "execution_count": 99,
   "metadata": {},
   "outputs": [],
   "source": [
    "lasso = Lasso().fit(X_train, y_train)"
   ]
  },
  {
   "cell_type": "code",
   "execution_count": 101,
   "metadata": {},
   "outputs": [
    {
     "name": "stdout",
     "output_type": "stream",
     "text": [
      "훈련세트점수:0.27\n",
      "테스트세트점수:0.26\n",
      "사용한 특성의 개수: 3\n"
     ]
    }
   ],
   "source": [
    "print(\"훈련세트점수:{:.2f}\".format(lasso.score(X_train, y_train)))\n",
    "print(\"테스트세트점수:{:.2f}\".format(lasso.score(X_test, y_test)))\n",
    "print(\"사용한 특성의 개수:\", np.sum(lasso.coef_ !=0))"
   ]
  },
  {
   "cell_type": "code",
   "execution_count": 106,
   "metadata": {},
   "outputs": [
    {
     "name": "stdout",
     "output_type": "stream",
     "text": [
      "훈련세트점수:0.93\n",
      "테스트세트점수:0.82\n",
      "사용한 특성의 개수: 72\n"
     ]
    }
   ],
   "source": [
    "# 점수를 보아서 좀더 과대적합을 해도 될 것 같음 즉, alpha값을 줄여도 될 듯\n",
    "lasso001 = Lasso(alpha=0.001, max_iter=10000).fit(X_train, y_train)\n",
    "print(\"훈련세트점수:{:.2f}\".format(lasso001.score(X_train, y_train)))\n",
    "print(\"테스트세트점수:{:.2f}\".format(lasso001.score(X_test, y_test)))\n",
    "print(\"사용한 특성의 개수:\", np.sum(lasso001.coef_ !=0))"
   ]
  },
  {
   "cell_type": "code",
   "execution_count": 108,
   "metadata": {},
   "outputs": [
    {
     "data": {
      "text/plain": [
       "array([-0.00000000e+00, -1.88497545e-01, -9.50068923e+00,  1.46397332e+01,\n",
       "        5.84467995e+00,  4.52705291e+01,  1.85304677e+01, -1.14032116e-01,\n",
       "        2.13711056e+01, -0.00000000e+00,  0.00000000e+00,  2.73513302e+01,\n",
       "       -0.00000000e+00,  6.66980727e+00, -0.00000000e+00, -0.00000000e+00,\n",
       "        1.50049303e+02, -0.00000000e+00,  7.57098310e+00, -1.70461584e+01,\n",
       "       -0.00000000e+00, -4.86855364e+00, -0.00000000e+00, -0.00000000e+00,\n",
       "        0.00000000e+00,  0.00000000e+00,  2.95932018e+00, -0.00000000e+00,\n",
       "        1.68264822e+00,  0.00000000e+00,  0.00000000e+00, -1.12898415e+00,\n",
       "       -5.04426249e+00, -7.76530978e+00,  1.21523780e+01,  1.74971269e+00,\n",
       "       -0.00000000e+00, -1.57814528e+01,  9.00910289e+00,  8.22215498e-01,\n",
       "        2.15611864e+01,  1.20868802e+01,  2.77491512e+00,  0.00000000e+00,\n",
       "        5.05900982e+00,  5.59342170e+00, -1.21116764e+01, -0.00000000e+00,\n",
       "       -2.05927156e+01,  2.43114854e+00, -1.42920596e+01, -2.30480667e+01,\n",
       "        1.57177301e+00, -6.52777842e+00, -0.00000000e+00,  1.19707942e+00,\n",
       "       -1.89987730e+00,  3.23683102e+00, -1.21345527e+01, -6.76141257e+00,\n",
       "       -0.00000000e+00, -1.01014317e+01,  8.59559277e+00, -5.12468071e+00,\n",
       "       -0.00000000e+00, -5.57461456e+00, -5.29552507e+00,  5.68574159e+00,\n",
       "        2.33758189e+01, -1.86722530e+01, -0.00000000e+00, -2.30891758e+01,\n",
       "       -2.62867206e+01, -1.95345050e+01, -3.14542964e+00, -0.00000000e+00,\n",
       "       -0.00000000e+00,  2.96146444e+00,  1.86755098e+01, -7.10675060e+00,\n",
       "        0.00000000e+00, -1.16333373e+01, -1.70015976e+01,  1.72926474e+01,\n",
       "       -0.00000000e+00, -3.33667030e+00,  0.00000000e+00, -2.49549882e+01,\n",
       "        0.00000000e+00, -2.54911790e+01,  1.71406212e+01,  0.00000000e+00,\n",
       "        0.00000000e+00, -2.08836837e+01, -0.00000000e+00,  2.37434460e+01,\n",
       "       -5.16433652e+00, -1.40035195e+01,  3.49459850e+00,  0.00000000e+00,\n",
       "        1.04067879e-01, -7.07351265e-01, -4.55907941e+00,  3.31693886e+01])"
      ]
     },
     "execution_count": 108,
     "metadata": {},
     "output_type": "execute_result"
    }
   ],
   "source": [
    "# 실제 계수(coef)가 0이 되는 경우도 존재 = feature selection 역할을 함\n",
    "lasso001.coef_"
   ]
  },
  {
   "cell_type": "code",
   "execution_count": 110,
   "metadata": {},
   "outputs": [
    {
     "name": "stdout",
     "output_type": "stream",
     "text": [
      "훈련세트점수:0.94\n",
      "테스트세트점수:0.79\n",
      "사용한 특성의 개수: 103\n"
     ]
    }
   ],
   "source": [
    "# alpha를 너무 낮춰면 과대적합이 일어남\n",
    "lasso00001 = Lasso(alpha=0.00001, max_iter=10000).fit(X_train, y_train)\n",
    "print(\"훈련세트점수:{:.2f}\".format(lasso00001.score(X_train, y_train)))\n",
    "print(\"테스트세트점수:{:.2f}\".format(lasso00001.score(X_test, y_test)))\n",
    "print(\"사용한 특성의 개수:\", np.sum(lasso00001.coef_ !=0))"
   ]
  },
  {
   "cell_type": "code",
   "execution_count": 114,
   "metadata": {},
   "outputs": [
    {
     "data": {
      "text/plain": [
       "<matplotlib.legend.Legend at 0x1c26b98c18>"
      ]
     },
     "execution_count": 114,
     "metadata": {},
     "output_type": "execute_result"
    },
    {
     "data": {
      "image/png": "[encoded data removed]",
      "text/plain": [
       "<Figure size 864x576 with 1 Axes>"
      ]
     },
     "metadata": {
      "needs_background": "light"
     },
     "output_type": "display_data"
    }
   ],
   "source": [
    "fig=plt.figure(figsize=(12,8))\n",
    "plt.plot(lasso.coef_, '^', label=\"lasso alpha=1\")\n",
    "plt.plot(lasso001.coef_, 's', label=\"lasso alpha=0.001\")\n",
    "plt.plot(lasso00001.coef_, 'v', label=\"lasso alpha=0.00001\")\n",
    "\n",
    "plt.plot(ridge0_001.coef_, 'o', label=\"ridge alpha=0.001\")\n",
    "plt.xlabel(\"계수 목록\")\n",
    "plt.ylabel(\"계수 크기\")\n",
    "xlims = plt.xlim()\n",
    "plt.hlines(0, xlims[0], xlims[1])\n",
    "plt.xlim(xlims)\n",
    "plt.ylim(-25,25)\n",
    "plt.legend(loc='best')"
   ]
  },
  {
   "cell_type": "code",
   "execution_count": null,
   "metadata": {},
   "outputs": [],
   "source": []
  }
 ],
 "metadata": {
  "kernelspec": {
   "display_name": "Python 3",
   "language": "python",
   "name": "python3"
  },
  "language_info": {
   "codemirror_mode": {
    "name": "ipython",
    "version": 3
   },
   "file_extension": ".py",
   "mimetype": "text/x-python",
   "name": "python",
   "nbconvert_exporter": "python",
   "pygments_lexer": "ipython3",
   "version": "3.7.2"
  }
 },
 "nbformat": 4,
 "nbformat_minor": 2
}
