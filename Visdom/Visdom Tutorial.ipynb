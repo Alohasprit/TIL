{
 "cells": [
  {
   "cell_type": "markdown",
   "metadata": {},
   "source": [
    "# Visdom Tutorial"
   ]
  },
  {
   "cell_type": "markdown",
   "metadata": {},
   "source": [
    "* test\n",
    "* image\n",
    "* scatter plot\n",
    "* bar plot\n",
    "* Contour & Surface Plot\n",
    "* Line Plot\n",
    "* Pie Chart Plot"
   ]
  },
  {
   "cell_type": "code",
   "execution_count": 1,
   "metadata": {},
   "outputs": [
    {
     "name": "stderr",
     "output_type": "stream",
     "text": [
      "'>' not supported between instances of 'float' and 'NoneType'\n",
      "'>' not supported between instances of 'float' and 'NoneType'\n",
      "'>' not supported between instances of 'float' and 'NoneType'\n",
      "Visdom python client failed to establish socket to get messages from the server. This feature is optional and can be disabled by initializing Visdom with `use_incoming_socket=False`, which will prevent waiting for this request to timeout.\n"
     ]
    }
   ],
   "source": [
    "from visdom import Visdom\n",
    "import numpy as np\n",
    "import math\n",
    "import os.path\n",
    "\n",
    "viz = Visdom()"
   ]
  },
  {
   "cell_type": "markdown",
   "metadata": {},
   "source": [
    "## Text Window"
   ]
  },
  {
   "cell_type": "code",
   "execution_count": 2,
   "metadata": {},
   "outputs": [],
   "source": [
    "textwindow = viz.text(\"Hellow Pytorch\")"
   ]
  },
  {
   "cell_type": "markdown",
   "metadata": {},
   "source": [
    "## Image Window\n"
   ]
  },
  {
   "cell_type": "code",
   "execution_count": 3,
   "metadata": {},
   "outputs": [],
   "source": [
    "image_window = viz.image(\n",
    "                           np.random.rand(3,256,256),\n",
    "                            opts=dict(\n",
    "                                    title = \"random\",\n",
    "                                    caption = \"random noise\"))"
   ]
  },
  {
   "cell_type": "code",
   "execution_count": 4,
   "metadata": {},
   "outputs": [],
   "source": [
    "images_window = viz.images(\n",
    "np.random.rand(10,3,64,64),\n",
    "opts=dict(\n",
    "title = \"random\",\n",
    "caption=\"random noise\"\n",
    "))"
   ]
  },
  {
   "cell_type": "markdown",
   "metadata": {},
   "source": [
    "# 2D Scatter Plot"
   ]
  },
  {
   "cell_type": "code",
   "execution_count": 6,
   "metadata": {},
   "outputs": [
    {
     "name": "stderr",
     "output_type": "stream",
     "text": [
      "'>' not supported between instances of 'float' and 'NoneType'\n",
      "'>' not supported between instances of 'float' and 'NoneType'\n",
      "'>' not supported between instances of 'float' and 'NoneType'\n",
      "'>' not supported between instances of 'float' and 'NoneType'\n",
      "'>' not supported between instances of 'float' and 'NoneType'\n",
      "'>' not supported between instances of 'float' and 'NoneType'\n",
      "'>' not supported between instances of 'float' and 'NoneType'\n",
      "'>' not supported between instances of 'float' and 'NoneType'\n",
      "'>' not supported between instances of 'float' and 'NoneType'\n",
      "'>' not supported between instances of 'float' and 'NoneType'\n",
      "'>' not supported between instances of 'float' and 'NoneType'\n",
      "'>' not supported between instances of 'float' and 'NoneType'\n",
      "'>' not supported between instances of 'float' and 'NoneType'\n",
      "'>' not supported between instances of 'float' and 'NoneType'\n",
      "'>' not supported between instances of 'float' and 'NoneType'\n",
      "'>' not supported between instances of 'float' and 'NoneType'\n",
      "'>' not supported between instances of 'float' and 'NoneType'\n",
      "'>' not supported between instances of 'float' and 'NoneType'\n",
      "'>' not supported between instances of 'float' and 'NoneType'\n",
      "'>' not supported between instances of 'float' and 'NoneType'\n",
      "'>' not supported between instances of 'float' and 'NoneType'\n",
      "'>' not supported between instances of 'float' and 'NoneType'\n",
      "'>' not supported between instances of 'float' and 'NoneType'\n",
      "'>' not supported between instances of 'float' and 'NoneType'\n",
      "'>' not supported between instances of 'float' and 'NoneType'\n",
      "'>' not supported between instances of 'float' and 'NoneType'\n",
      "'>' not supported between instances of 'float' and 'NoneType'\n",
      "'>' not supported between instances of 'float' and 'NoneType'\n",
      "'>' not supported between instances of 'float' and 'NoneType'\n",
      "'>' not supported between instances of 'float' and 'NoneType'\n",
      "'>' not supported between instances of 'float' and 'NoneType'\n",
      "'>' not supported between instances of 'float' and 'NoneType'\n",
      "'>' not supported between instances of 'float' and 'NoneType'\n",
      "'>' not supported between instances of 'float' and 'NoneType'\n",
      "'>' not supported between instances of 'float' and 'NoneType'\n",
      "'>' not supported between instances of 'float' and 'NoneType'\n",
      "'>' not supported between instances of 'float' and 'NoneType'\n",
      "'>' not supported between instances of 'float' and 'NoneType'\n",
      "'>' not supported between instances of 'float' and 'NoneType'\n",
      "'>' not supported between instances of 'float' and 'NoneType'\n",
      "'>' not supported between instances of 'float' and 'NoneType'\n",
      "'>' not supported between instances of 'float' and 'NoneType'\n",
      "'>' not supported between instances of 'float' and 'NoneType'\n",
      "'>' not supported between instances of 'float' and 'NoneType'\n",
      "'>' not supported between instances of 'float' and 'NoneType'\n",
      "'>' not supported between instances of 'float' and 'NoneType'\n",
      "'>' not supported between instances of 'float' and 'NoneType'\n",
      "'>' not supported between instances of 'float' and 'NoneType'\n",
      "'>' not supported between instances of 'float' and 'NoneType'\n",
      "'>' not supported between instances of 'float' and 'NoneType'\n",
      "'>' not supported between instances of 'float' and 'NoneType'\n",
      "'>' not supported between instances of 'float' and 'NoneType'\n"
     ]
    }
   ],
   "source": [
    "Y = np.random.rand(100)\n",
    "scatter_window=viz.scatter(\n",
    "                            X=np.random.rand(100,2),\n",
    "                            Y=(Y+1.5).astype(int),\n",
    "                            opts=dict(\n",
    "                                    legend=['Apples','pears'],\n",
    "                                    xtickmin=0,\n",
    "                                    xtickmax=2,\n",
    "                                    xtickstep=0.5,\n",
    "                                    ytickmin=0,\n",
    "                                    ytickmax=2,\n",
    "                                    ytickstep=0.5,\n",
    "                                    markersymbol='cross-thin-open',),)"
   ]
  },
  {
   "cell_type": "markdown",
   "metadata": {},
   "source": [
    "## Update Scatter Plota\n"
   ]
  },
  {
   "cell_type": "code",
   "execution_count": 8,
   "metadata": {},
   "outputs": [
    {
     "ename": "AttributeError",
     "evalue": "'Visdom' object has no attribute 'updateTrace'",
     "output_type": "error",
     "traceback": [
      "\u001b[0;31m---------------------------------------------------------------------------\u001b[0m",
      "\u001b[0;31mAttributeError\u001b[0m                            Traceback (most recent call last)",
      "\u001b[0;32m<ipython-input-8-989e1a527413>\u001b[0m in \u001b[0;36m<module>\u001b[0;34m()\u001b[0m\n\u001b[0;32m----> 1\u001b[0;31m viz.updateTrace(\n\u001b[0m\u001b[1;32m      2\u001b[0m         \u001b[0mX\u001b[0m\u001b[0;34m=\u001b[0m\u001b[0mnp\u001b[0m\u001b[0;34m.\u001b[0m\u001b[0mrandom\u001b[0m\u001b[0;34m.\u001b[0m\u001b[0mrand\u001b[0m\u001b[0;34m(\u001b[0m\u001b[0;36m100\u001b[0m\u001b[0;34m)\u001b[0m\u001b[0;34m,\u001b[0m\u001b[0;34m\u001b[0m\u001b[0m\n\u001b[1;32m      3\u001b[0m         \u001b[0mY\u001b[0m\u001b[0;34m=\u001b[0m\u001b[0mnp\u001b[0m\u001b[0;34m.\u001b[0m\u001b[0mrandom\u001b[0m\u001b[0;34m.\u001b[0m\u001b[0mrand\u001b[0m\u001b[0;34m(\u001b[0m\u001b[0;36m100\u001b[0m\u001b[0;34m)\u001b[0m\u001b[0;34m,\u001b[0m\u001b[0;34m\u001b[0m\u001b[0m\n\u001b[1;32m      4\u001b[0m         \u001b[0mwin\u001b[0m\u001b[0;34m=\u001b[0m\u001b[0mscatter_window\u001b[0m\u001b[0;34m,\u001b[0m\u001b[0;34m\u001b[0m\u001b[0m\n\u001b[1;32m      5\u001b[0m         name='bananas',)\n",
      "\u001b[0;31mAttributeError\u001b[0m: 'Visdom' object has no attribute 'updateTrace'"
     ]
    },
    {
     "name": "stderr",
     "output_type": "stream",
     "text": [
      "'>' not supported between instances of 'float' and 'NoneType'\n",
      "'>' not supported between instances of 'float' and 'NoneType'\n",
      "'>' not supported between instances of 'float' and 'NoneType'\n",
      "'>' not supported between instances of 'float' and 'NoneType'\n",
      "'>' not supported between instances of 'float' and 'NoneType'\n",
      "'>' not supported between instances of 'float' and 'NoneType'\n",
      "'>' not supported between instances of 'float' and 'NoneType'\n",
      "'>' not supported between instances of 'float' and 'NoneType'\n",
      "'>' not supported between instances of 'float' and 'NoneType'\n",
      "'>' not supported between instances of 'float' and 'NoneType'\n",
      "'>' not supported between instances of 'float' and 'NoneType'\n",
      "'>' not supported between instances of 'float' and 'NoneType'\n",
      "'>' not supported between instances of 'float' and 'NoneType'\n",
      "'>' not supported between instances of 'float' and 'NoneType'\n",
      "'>' not supported between instances of 'float' and 'NoneType'\n",
      "'>' not supported between instances of 'float' and 'NoneType'\n",
      "'>' not supported between instances of 'float' and 'NoneType'\n",
      "'>' not supported between instances of 'float' and 'NoneType'\n",
      "'>' not supported between instances of 'float' and 'NoneType'\n",
      "'>' not supported between instances of 'float' and 'NoneType'\n",
      "'>' not supported between instances of 'float' and 'NoneType'\n",
      "'>' not supported between instances of 'float' and 'NoneType'\n",
      "'>' not supported between instances of 'float' and 'NoneType'\n",
      "'>' not supported between instances of 'float' and 'NoneType'\n",
      "'>' not supported between instances of 'float' and 'NoneType'\n",
      "'>' not supported between instances of 'float' and 'NoneType'\n",
      "'>' not supported between instances of 'float' and 'NoneType'\n",
      "'>' not supported between instances of 'float' and 'NoneType'\n",
      "'>' not supported between instances of 'float' and 'NoneType'\n",
      "'>' not supported between instances of 'float' and 'NoneType'\n",
      "'>' not supported between instances of 'float' and 'NoneType'\n",
      "'>' not supported between instances of 'float' and 'NoneType'\n",
      "'>' not supported between instances of 'float' and 'NoneType'\n",
      "'>' not supported between instances of 'float' and 'NoneType'\n",
      "'>' not supported between instances of 'float' and 'NoneType'\n",
      "'>' not supported between instances of 'float' and 'NoneType'\n",
      "'>' not supported between instances of 'float' and 'NoneType'\n",
      "'>' not supported between instances of 'float' and 'NoneType'\n"
     ]
    }
   ],
   "source": [
    "viz.updateTrace(\n",
    "        X=np.random.rand(100),\n",
    "        Y=np.random.rand(100),\n",
    "        win=scatter_window,\n",
    "        name='bananas',)"
   ]
  },
  {
   "cell_type": "code",
   "execution_count": null,
   "metadata": {},
   "outputs": [],
   "source": []
  }
 ],
 "metadata": {
  "kernelspec": {
   "display_name": "Python 3",
   "language": "python",
   "name": "python3"
  },
  "language_info": {
   "codemirror_mode": {
    "name": "ipython",
    "version": 3
   },
   "file_extension": ".py",
   "mimetype": "text/x-python",
   "name": "python",
   "nbconvert_exporter": "python",
   "pygments_lexer": "ipython3",
   "version": "3.6.5"
  }
 },
 "nbformat": 4,
 "nbformat_minor": 2
}
