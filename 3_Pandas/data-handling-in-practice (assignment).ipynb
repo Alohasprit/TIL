{
 "cells": [
  {
   "cell_type": "markdown",
   "metadata": {},
   "source": [
    "## TKX 피트니스에 오신 것을 환영합니다!\n",
    "\n",
    "안녕하세요! TKX 피트니스 데이터분석팀에 오신 것을 환영합니다.\n",
    "\n",
    "TKX는 국내 최대의 프렌차이즈 피트니스 센터로서, 매월 수 천명에 달하는 신규 회원을 받아 데이터를 분석하고 있습니다.\n",
    "\n",
    "TKX 피트니스의 장점은 프로그래밍 언어 파이썬(Python)과 데이터 분석 프레임워크 판다스(Pandas)를 활용한 면밀한 데이터 분석입니다. 이 데이터 분석을 바탕으로 KTX의 오퍼레이션 팀 / 코칭 팀은 피트니스 센터에 방문하는 고객 분들, 그리고 방문하지 않는 고객 분들에게도 최선의 맞춤 서비스를 제공해 드리고 있습니다.\n",
    "\n",
    "오늘 이 노트북을 받은 분이 해주셔야 하는 일은 2016년도 1월부터 2017년도 12월까지의 신규 가입 고객 데이터를 받아와, 차후에 데이터분석을 더 용이하게 할 수 있도록 데이터를 정리해주는 작업, 일명 데이터 클리닝(Data Cleaning) 작업입니다.\n",
    "\n",
    "저희 TKX 피트니스는 언제나 잘 정리되어 있는 고객 정보를 받아서 데이터 분석팀에게 맡길려고 노력하고 있으나, (이 노트북을 받은 분들도 아시겠지만) 현실은 언제나 100% 잘 정리되어있는 데이터를 받아오기가 어렵습니다.\n",
    "\n",
    "때문에 이번 시간에는 신규 가입 고객 데이터를 분석하여, 데이터에 몇몇 누락된 부분이나 잘못 기입된 부분 등을 판다스로 정리하고 그 결과를 분석하는 일을 해주셨으면 합니다.\n",
    "\n",
    "데이터는 다음의 URL [https://goo.gl/8XGH4T](https://goo.gl/8XGH4T) 에서 다운받을 수 있습니다. 데이터를 다운받아 읽어온 뒤, 하기에 적어놓은 내용대로 데이터를 분석 및 정리를 해주세요.\n",
    "\n",
    "\n"
   ]
  },
  {
   "cell_type": "code",
   "execution_count": 1,
   "metadata": {},
   "outputs": [],
   "source": [
    "import pandas as pd\n",
    "import numpy as np\n",
    "import seaborn as sns\n",
    "import matplotlib.pyplot as plt\n",
    "%matplotlib inline"
   ]
  },
  {
   "cell_type": "markdown",
   "metadata": {},
   "source": [
    "## Load Dataset"
   ]
  },
  {
   "cell_type": "code",
   "execution_count": 2,
   "metadata": {},
   "outputs": [
    {
     "name": "stdout",
     "output_type": "stream",
     "text": [
      "(106839, 13)\n"
     ]
    },
    {
     "data": {
      "text/html": [
       "<div>\n",
       "<style scoped>\n",
       "    .dataframe tbody tr th:only-of-type {\n",
       "        vertical-align: middle;\n",
       "    }\n",
       "\n",
       "    .dataframe tbody tr th {\n",
       "        vertical-align: top;\n",
       "    }\n",
       "\n",
       "    .dataframe thead th {\n",
       "        text-align: right;\n",
       "    }\n",
       "</style>\n",
       "<table border=\"1\" class=\"dataframe\">\n",
       "  <thead>\n",
       "    <tr style=\"text-align: right;\">\n",
       "      <th></th>\n",
       "      <th>이름</th>\n",
       "      <th>성별</th>\n",
       "      <th>전화번호</th>\n",
       "      <th>나이</th>\n",
       "      <th>현재 체중</th>\n",
       "      <th>목표 체중</th>\n",
       "      <th>키</th>\n",
       "      <th>회원 가입일</th>\n",
       "      <th>회원 정보 갱신일</th>\n",
       "      <th>흡연 여부</th>\n",
       "      <th>음주 여부</th>\n",
       "      <th>가입 개월 수</th>\n",
       "      <th>개인상담 요청</th>\n",
       "    </tr>\n",
       "  </thead>\n",
       "  <tbody>\n",
       "    <tr>\n",
       "      <th>0</th>\n",
       "      <td>안원준</td>\n",
       "      <td>남성</td>\n",
       "      <td>010-2292-6251</td>\n",
       "      <td>31세</td>\n",
       "      <td>78</td>\n",
       "      <td>68</td>\n",
       "      <td>176</td>\n",
       "      <td>2016년 07월 05일</td>\n",
       "      <td>2016년 07월 05일</td>\n",
       "      <td>아니오</td>\n",
       "      <td>주 1회</td>\n",
       "      <td>0개월</td>\n",
       "      <td>아니요</td>\n",
       "    </tr>\n",
       "    <tr>\n",
       "      <th>1</th>\n",
       "      <td>유세아</td>\n",
       "      <td>여성</td>\n",
       "      <td>01045795881</td>\n",
       "      <td>39</td>\n",
       "      <td>56kg</td>\n",
       "      <td>51kg</td>\n",
       "      <td>172</td>\n",
       "      <td>2016년 10월 02일</td>\n",
       "      <td>2016년 11월 29일</td>\n",
       "      <td>예</td>\n",
       "      <td>월 1회</td>\n",
       "      <td>0개월</td>\n",
       "      <td>아니요</td>\n",
       "    </tr>\n",
       "    <tr>\n",
       "      <th>2</th>\n",
       "      <td>송솔은</td>\n",
       "      <td>여성</td>\n",
       "      <td>010-7719-8346</td>\n",
       "      <td>0</td>\n",
       "      <td>29</td>\n",
       "      <td>21</td>\n",
       "      <td>167</td>\n",
       "      <td>2017년 09월 06일</td>\n",
       "      <td>2017년 09월 06일</td>\n",
       "      <td>예</td>\n",
       "      <td>주 1회</td>\n",
       "      <td>0개월</td>\n",
       "      <td>아니요</td>\n",
       "    </tr>\n",
       "    <tr>\n",
       "      <th>3</th>\n",
       "      <td>백서원</td>\n",
       "      <td>여성</td>\n",
       "      <td>01011947169</td>\n",
       "      <td>36</td>\n",
       "      <td>67</td>\n",
       "      <td>65</td>\n",
       "      <td>0</td>\n",
       "      <td>2017년 06월 02일</td>\n",
       "      <td>2017년 07월 28일</td>\n",
       "      <td>예</td>\n",
       "      <td>안 마심</td>\n",
       "      <td>0개월</td>\n",
       "      <td>아니요</td>\n",
       "    </tr>\n",
       "    <tr>\n",
       "      <th>4</th>\n",
       "      <td>박서은</td>\n",
       "      <td>여성</td>\n",
       "      <td>010-2575-6398</td>\n",
       "      <td>42</td>\n",
       "      <td>60</td>\n",
       "      <td>57</td>\n",
       "      <td>167</td>\n",
       "      <td>2017년 05월 07일</td>\n",
       "      <td>2017년 05월 07일</td>\n",
       "      <td>아니오</td>\n",
       "      <td>안 마심</td>\n",
       "      <td>0개월</td>\n",
       "      <td>예</td>\n",
       "    </tr>\n",
       "  </tbody>\n",
       "</table>\n",
       "</div>"
      ],
      "text/plain": [
       "    이름  성별           전화번호   나이 현재 체중 목표 체중    키         회원 가입일      회원 정보 갱신일  \\\n",
       "0  안원준  남성  010-2292-6251  31세    78    68  176  2016년 07월 05일  2016년 07월 05일   \n",
       "1  유세아  여성    01045795881   39  56kg  51kg  172  2016년 10월 02일  2016년 11월 29일   \n",
       "2  송솔은  여성  010-7719-8346    0    29    21  167  2017년 09월 06일  2017년 09월 06일   \n",
       "3  백서원  여성    01011947169   36    67    65    0  2017년 06월 02일  2017년 07월 28일   \n",
       "4  박서은  여성  010-2575-6398   42    60    57  167  2017년 05월 07일  2017년 05월 07일   \n",
       "\n",
       "  흡연 여부 음주 여부 가입 개월 수 개인상담 요청  \n",
       "0   아니오  주 1회     0개월     아니요  \n",
       "1     예  월 1회     0개월     아니요  \n",
       "2     예  주 1회     0개월     아니요  \n",
       "3     예  안 마심     0개월     아니요  \n",
       "4   아니오  안 마심     0개월       예  "
      ]
     },
     "execution_count": 2,
     "metadata": {},
     "output_type": "execute_result"
    }
   ],
   "source": [
    "data = pd.read_csv(\"./tkx-user-data.csv\")\n",
    "\n",
    "print(data.shape)\n",
    "data.head()"
   ]
  },
  {
   "cell_type": "code",
   "execution_count": 3,
   "metadata": {},
   "outputs": [
    {
     "name": "stdout",
     "output_type": "stream",
     "text": [
      "<class 'pandas.core.frame.DataFrame'>\n",
      "RangeIndex: 106839 entries, 0 to 106838\n",
      "Data columns (total 13 columns):\n",
      "이름           106839 non-null object\n",
      "성별           106839 non-null object\n",
      "전화번호         106839 non-null object\n",
      "나이           106839 non-null object\n",
      "현재 체중        106839 non-null object\n",
      "목표 체중        106839 non-null object\n",
      "키            106839 non-null object\n",
      "회원 가입일       106839 non-null object\n",
      "회원 정보 갱신일    106839 non-null object\n",
      "흡연 여부        106839 non-null object\n",
      "음주 여부        106839 non-null object\n",
      "가입 개월 수      106839 non-null object\n",
      "개인상담 요청      106839 non-null object\n",
      "dtypes: object(13)\n",
      "memory usage: 10.6+ MB\n"
     ]
    }
   ],
   "source": [
    "data.info()"
   ]
  },
  {
   "cell_type": "markdown",
   "metadata": {},
   "source": [
    "## 실습"
   ]
  },
  {
   "cell_type": "markdown",
   "metadata": {},
   "source": [
    "** 1. 텍스트로 된 흡연 여부(예/아니오)를 True/False 로 바꾸기 **"
   ]
  },
  {
   "cell_type": "code",
   "execution_count": 4,
   "metadata": {},
   "outputs": [],
   "source": [
    "data.loc[data['흡연 여부']=='아니오', '흡연 여부(bool)']=False\n",
    "data.loc[data['흡연 여부']=='아니요', '흡연 여부(bool)']=False\n",
    "data.loc[data['흡연 여부']=='예', '흡연 여부(bool)']=True"
   ]
  },
  {
   "cell_type": "code",
   "execution_count": 5,
   "metadata": {},
   "outputs": [
    {
     "data": {
      "text/plain": [
       "0.20002995160943102"
      ]
     },
     "execution_count": 5,
     "metadata": {},
     "output_type": "execute_result"
    }
   ],
   "source": [
    "data['흡연 여부(bool)'].mean()"
   ]
  },
  {
   "cell_type": "markdown",
   "metadata": {},
   "source": [
    "** 2. 나이에서 0세라고 되어있는 것을 NaN으로 바꾸기 **"
   ]
  },
  {
   "cell_type": "code",
   "execution_count": 6,
   "metadata": {},
   "outputs": [
    {
     "data": {
      "text/plain": [
       "0    10640\n",
       "Name: 나이, dtype: int64"
      ]
     },
     "execution_count": 6,
     "metadata": {},
     "output_type": "execute_result"
    }
   ],
   "source": [
    "data.loc[(data['나이']=='0')|(data['나이']=='0세'), '나이'].value_counts()"
   ]
  },
  {
   "cell_type": "markdown",
   "metadata": {},
   "source": [
    "** 3. 나이 컬럼을 정리하기 **"
   ]
  },
  {
   "cell_type": "code",
   "execution_count": 7,
   "metadata": {},
   "outputs": [
    {
     "data": {
      "text/plain": [
       "array(['31', '39', '0', '36', '42', '32', '27', '29', '37', '34', '40',\n",
       "       '33 ', '35', '30', '28', '50', '43', '20', '22', '33', '25', '38',\n",
       "       '23', '38 ', '26', '34 ', '2', '31 ', '35 ', '49', '41', '24',\n",
       "       '44', '105', '118', '36 ', '5', '28 ', '37 ', '19', '32 ', '21',\n",
       "       '25 ', '46', '24 ', '85', '26 ', '39 ', '47', '82', '45', '30 ',\n",
       "       '116', '6', '6 ', '16', '81', '18', '20 ', '42 ', '27 ', '110',\n",
       "       '4', '8', '21 ', '115', '7', '80', '3', '96 ', '23 ', '15', '119',\n",
       "       '14', '29 ', '91', '44 ', '112', '40 ', '109', '17', '92', '51',\n",
       "       '94', '22 ', '5 ', '41 ', '48', '102', '114', '84', '106', '96',\n",
       "       '87', '95', '8 ', '111', '101', '97', '7 ', '113', '86', '43 ',\n",
       "       '107', '46 ', '45 ', '19 ', '90', '103', '4 ', '117', '92 ', '88',\n",
       "       '100', '108', '13', '107 ', '50 ', '99', '104', '47 ', '93', '98',\n",
       "       '108 ', '3 ', '87 ', '52', '109 ', '18 ', '16 ', '83', '2 ', '80 ',\n",
       "       '103 ', '53', '110 ', '89', '91 ', '84 ', '17 ', '119 ', '49 ',\n",
       "       '102 ', '13 ', '48 ', '101 ', '94 ', '11', '54', '104 ', '89 ',\n",
       "       '12', '90 ', '106 ', '97 ', '112 ', '81 ', '100 ', '85 ', '105 ',\n",
       "       '116 ', '111 ', '98 ', '88 '], dtype=object)"
      ]
     },
     "execution_count": 7,
     "metadata": {},
     "output_type": "execute_result"
    }
   ],
   "source": [
    "a = data['나이'].apply(lambda x: x.find('세'))\n",
    "\n",
    "for i, x in enumerate(a):\n",
    "    if x != -1:\n",
    "        data['나이'][i]=data['나이'][i][:x]\n",
    "        \n",
    "data['나이'].unique()"
   ]
  },
  {
   "cell_type": "code",
   "execution_count": 8,
   "metadata": {},
   "outputs": [
    {
     "data": {
      "text/plain": [
       "array(['31', '39', nan, '36', '42', '32', '27', '29', '37', '34', '40',\n",
       "       '33 ', '35', '30', '28', '50', '43', '20', '22', '33', '25', '38',\n",
       "       '23', '38 ', '26', '34 ', '2', '31 ', '35 ', '49', '41', '24',\n",
       "       '44', '105', '118', '36 ', '5', '28 ', '37 ', '19', '32 ', '21',\n",
       "       '25 ', '46', '24 ', '85', '26 ', '39 ', '47', '82', '45', '30 ',\n",
       "       '116', '6', '6 ', '16', '81', '18', '20 ', '42 ', '27 ', '110',\n",
       "       '4', '8', '21 ', '115', '7', '80', '3', '96 ', '23 ', '15', '119',\n",
       "       '14', '29 ', '91', '44 ', '112', '40 ', '109', '17', '92', '51',\n",
       "       '94', '22 ', '5 ', '41 ', '48', '102', '114', '84', '106', '96',\n",
       "       '87', '95', '8 ', '111', '101', '97', '7 ', '113', '86', '43 ',\n",
       "       '107', '46 ', '45 ', '19 ', '90', '103', '4 ', '117', '92 ', '88',\n",
       "       '100', '108', '13', '107 ', '50 ', '99', '104', '47 ', '93', '98',\n",
       "       '108 ', '3 ', '87 ', '52', '109 ', '18 ', '16 ', '83', '2 ', '80 ',\n",
       "       '103 ', '53', '110 ', '89', '91 ', '84 ', '17 ', '119 ', '49 ',\n",
       "       '102 ', '13 ', '48 ', '101 ', '94 ', '11', '54', '104 ', '89 ',\n",
       "       '12', '90 ', '106 ', '97 ', '112 ', '81 ', '100 ', '85 ', '105 ',\n",
       "       '116 ', '111 ', '98 ', '88 '], dtype=object)"
      ]
     },
     "execution_count": 8,
     "metadata": {},
     "output_type": "execute_result"
    }
   ],
   "source": [
    "data.loc[data['나이']=='0', '나이']=np.nan\n",
    "data['나이'].unique()"
   ]
  },
  {
   "cell_type": "markdown",
   "metadata": {},
   "source": [
    "** 4. 평균(mean) / 최소(min) / 최대(max) 나이 구하기 **"
   ]
  },
  {
   "cell_type": "code",
   "execution_count": 9,
   "metadata": {},
   "outputs": [
    {
     "data": {
      "text/html": [
       "<div>\n",
       "<style scoped>\n",
       "    .dataframe tbody tr th:only-of-type {\n",
       "        vertical-align: middle;\n",
       "    }\n",
       "\n",
       "    .dataframe tbody tr th {\n",
       "        vertical-align: top;\n",
       "    }\n",
       "\n",
       "    .dataframe thead th {\n",
       "        text-align: right;\n",
       "    }\n",
       "</style>\n",
       "<table border=\"1\" class=\"dataframe\">\n",
       "  <thead>\n",
       "    <tr style=\"text-align: right;\">\n",
       "      <th></th>\n",
       "      <th>이름</th>\n",
       "      <th>성별</th>\n",
       "      <th>전화번호</th>\n",
       "      <th>나이</th>\n",
       "      <th>현재 체중</th>\n",
       "      <th>목표 체중</th>\n",
       "      <th>키</th>\n",
       "      <th>회원 가입일</th>\n",
       "      <th>회원 정보 갱신일</th>\n",
       "      <th>흡연 여부</th>\n",
       "      <th>음주 여부</th>\n",
       "      <th>가입 개월 수</th>\n",
       "      <th>개인상담 요청</th>\n",
       "      <th>흡연 여부(bool)</th>\n",
       "    </tr>\n",
       "  </thead>\n",
       "  <tbody>\n",
       "    <tr>\n",
       "      <th>count</th>\n",
       "      <td>106839</td>\n",
       "      <td>106839</td>\n",
       "      <td>106839</td>\n",
       "      <td>96199</td>\n",
       "      <td>106839</td>\n",
       "      <td>106839</td>\n",
       "      <td>106839</td>\n",
       "      <td>106839</td>\n",
       "      <td>106839</td>\n",
       "      <td>106839</td>\n",
       "      <td>106839</td>\n",
       "      <td>106839</td>\n",
       "      <td>106839</td>\n",
       "      <td>106839</td>\n",
       "    </tr>\n",
       "    <tr>\n",
       "      <th>unique</th>\n",
       "      <td>11365</td>\n",
       "      <td>10</td>\n",
       "      <td>95189</td>\n",
       "      <td>163</td>\n",
       "      <td>273</td>\n",
       "      <td>330</td>\n",
       "      <td>361</td>\n",
       "      <td>731</td>\n",
       "      <td>830</td>\n",
       "      <td>2</td>\n",
       "      <td>5</td>\n",
       "      <td>4</td>\n",
       "      <td>2</td>\n",
       "      <td>2</td>\n",
       "    </tr>\n",
       "    <tr>\n",
       "      <th>top</th>\n",
       "      <td>조슬은</td>\n",
       "      <td>남성</td>\n",
       "      <td>unknown</td>\n",
       "      <td>33</td>\n",
       "      <td>0</td>\n",
       "      <td>0</td>\n",
       "      <td>0</td>\n",
       "      <td>2016년 05월 19일</td>\n",
       "      <td>2016년 12월 24일</td>\n",
       "      <td>아니오</td>\n",
       "      <td>월 2회</td>\n",
       "      <td>0개월</td>\n",
       "      <td>아니요</td>\n",
       "      <td>False</td>\n",
       "    </tr>\n",
       "    <tr>\n",
       "      <th>freq</th>\n",
       "      <td>47</td>\n",
       "      <td>31316</td>\n",
       "      <td>10640</td>\n",
       "      <td>6660</td>\n",
       "      <td>10649</td>\n",
       "      <td>10649</td>\n",
       "      <td>10698</td>\n",
       "      <td>182</td>\n",
       "      <td>199</td>\n",
       "      <td>85468</td>\n",
       "      <td>32214</td>\n",
       "      <td>74955</td>\n",
       "      <td>96260</td>\n",
       "      <td>85468</td>\n",
       "    </tr>\n",
       "  </tbody>\n",
       "</table>\n",
       "</div>"
      ],
      "text/plain": [
       "            이름      성별     전화번호     나이   현재 체중   목표 체중       키         회원 가입일  \\\n",
       "count   106839  106839   106839  96199  106839  106839  106839         106839   \n",
       "unique   11365      10    95189    163     273     330     361            731   \n",
       "top        조슬은      남성  unknown     33       0       0       0  2016년 05월 19일   \n",
       "freq        47   31316    10640   6660   10649   10649   10698            182   \n",
       "\n",
       "            회원 정보 갱신일   흡연 여부   음주 여부 가입 개월 수 개인상담 요청 흡연 여부(bool)  \n",
       "count          106839  106839  106839  106839  106839      106839  \n",
       "unique            830       2       5       4       2           2  \n",
       "top     2016년 12월 24일     아니오    월 2회     0개월     아니요       False  \n",
       "freq              199   85468   32214   74955   96260       85468  "
      ]
     },
     "execution_count": 9,
     "metadata": {},
     "output_type": "execute_result"
    }
   ],
   "source": [
    "data.describe()"
   ]
  },
  {
   "cell_type": "markdown",
   "metadata": {},
   "source": [
    "** 5. 컬럼의 순서를 조금 더 직관적으로 바꾸기 **"
   ]
  },
  {
   "cell_type": "code",
   "execution_count": 10,
   "metadata": {},
   "outputs": [],
   "source": [
    "# Write code here!"
   ]
  },
  {
   "cell_type": "markdown",
   "metadata": {},
   "source": [
    "## 과제(초급)"
   ]
  },
  {
   "cell_type": "markdown",
   "metadata": {},
   "source": [
    "### 데이터를 사용하기 용이하게 정리하기"
   ]
  },
  {
   "cell_type": "markdown",
   "metadata": {},
   "source": [
    "**6. 컬럼 이름 바꾸기**\n",
    "\n",
    "보통 프로그래밍을 할 때 한글 컬럼을 사용하면 다양한 문제로 불편을 겪을 때가 많습니다.\n",
    "\n",
    "그러므로 컬럼을 전부 한글에서 영어로 바꿔주세요. 컬럼명은 다음과 같이 바꿔주시면 됩니다.\n",
    "\n",
    "* 이름 - Name\n",
    "* 성별 - Gender\n",
    "* 전화번호 - Phone Number\n",
    "* 나이 - Age\n",
    "* 현재 체중 - Current Weight\n",
    "* 목표 체종 - Goal Weight\n",
    "* 키 - Height\n",
    "* 흡연 여부 - Smoking\n",
    "* 음주 여부 - Drinking\n",
    "* 개인상담 요청 - Request Counselling\n",
    "* 회원 가입일 - Joined At\n",
    "* 회원 정보 갱신일 - Updated At\n",
    "* 가입 개월 수 - Paid Plan"
   ]
  },
  {
   "cell_type": "code",
   "execution_count": 11,
   "metadata": {},
   "outputs": [
    {
     "data": {
      "text/html": [
       "<div>\n",
       "<style scoped>\n",
       "    .dataframe tbody tr th:only-of-type {\n",
       "        vertical-align: middle;\n",
       "    }\n",
       "\n",
       "    .dataframe tbody tr th {\n",
       "        vertical-align: top;\n",
       "    }\n",
       "\n",
       "    .dataframe thead th {\n",
       "        text-align: right;\n",
       "    }\n",
       "</style>\n",
       "<table border=\"1\" class=\"dataframe\">\n",
       "  <thead>\n",
       "    <tr style=\"text-align: right;\">\n",
       "      <th></th>\n",
       "      <th>Name</th>\n",
       "      <th>Gender</th>\n",
       "      <th>Phone Number</th>\n",
       "      <th>Age</th>\n",
       "      <th>Current Weight</th>\n",
       "      <th>Goal Weight</th>\n",
       "      <th>Height</th>\n",
       "      <th>Joined At</th>\n",
       "      <th>Updated At</th>\n",
       "      <th>Smoking</th>\n",
       "      <th>Drinking</th>\n",
       "      <th>Paid Plan</th>\n",
       "      <th>Request Counselling</th>\n",
       "      <th>흡연 여부(bool)</th>\n",
       "    </tr>\n",
       "  </thead>\n",
       "  <tbody>\n",
       "    <tr>\n",
       "      <th>0</th>\n",
       "      <td>안원준</td>\n",
       "      <td>남성</td>\n",
       "      <td>010-2292-6251</td>\n",
       "      <td>31</td>\n",
       "      <td>78</td>\n",
       "      <td>68</td>\n",
       "      <td>176</td>\n",
       "      <td>2016년 07월 05일</td>\n",
       "      <td>2016년 07월 05일</td>\n",
       "      <td>아니오</td>\n",
       "      <td>주 1회</td>\n",
       "      <td>0개월</td>\n",
       "      <td>아니요</td>\n",
       "      <td>False</td>\n",
       "    </tr>\n",
       "    <tr>\n",
       "      <th>1</th>\n",
       "      <td>유세아</td>\n",
       "      <td>여성</td>\n",
       "      <td>01045795881</td>\n",
       "      <td>39</td>\n",
       "      <td>56kg</td>\n",
       "      <td>51kg</td>\n",
       "      <td>172</td>\n",
       "      <td>2016년 10월 02일</td>\n",
       "      <td>2016년 11월 29일</td>\n",
       "      <td>예</td>\n",
       "      <td>월 1회</td>\n",
       "      <td>0개월</td>\n",
       "      <td>아니요</td>\n",
       "      <td>True</td>\n",
       "    </tr>\n",
       "    <tr>\n",
       "      <th>2</th>\n",
       "      <td>송솔은</td>\n",
       "      <td>여성</td>\n",
       "      <td>010-7719-8346</td>\n",
       "      <td>NaN</td>\n",
       "      <td>29</td>\n",
       "      <td>21</td>\n",
       "      <td>167</td>\n",
       "      <td>2017년 09월 06일</td>\n",
       "      <td>2017년 09월 06일</td>\n",
       "      <td>예</td>\n",
       "      <td>주 1회</td>\n",
       "      <td>0개월</td>\n",
       "      <td>아니요</td>\n",
       "      <td>True</td>\n",
       "    </tr>\n",
       "    <tr>\n",
       "      <th>3</th>\n",
       "      <td>백서원</td>\n",
       "      <td>여성</td>\n",
       "      <td>01011947169</td>\n",
       "      <td>36</td>\n",
       "      <td>67</td>\n",
       "      <td>65</td>\n",
       "      <td>0</td>\n",
       "      <td>2017년 06월 02일</td>\n",
       "      <td>2017년 07월 28일</td>\n",
       "      <td>예</td>\n",
       "      <td>안 마심</td>\n",
       "      <td>0개월</td>\n",
       "      <td>아니요</td>\n",
       "      <td>True</td>\n",
       "    </tr>\n",
       "    <tr>\n",
       "      <th>4</th>\n",
       "      <td>박서은</td>\n",
       "      <td>여성</td>\n",
       "      <td>010-2575-6398</td>\n",
       "      <td>42</td>\n",
       "      <td>60</td>\n",
       "      <td>57</td>\n",
       "      <td>167</td>\n",
       "      <td>2017년 05월 07일</td>\n",
       "      <td>2017년 05월 07일</td>\n",
       "      <td>아니오</td>\n",
       "      <td>안 마심</td>\n",
       "      <td>0개월</td>\n",
       "      <td>예</td>\n",
       "      <td>False</td>\n",
       "    </tr>\n",
       "  </tbody>\n",
       "</table>\n",
       "</div>"
      ],
      "text/plain": [
       "  Name Gender   Phone Number  Age Current Weight Goal Weight Height  \\\n",
       "0  안원준     남성  010-2292-6251   31             78          68    176   \n",
       "1  유세아     여성    01045795881   39           56kg        51kg    172   \n",
       "2  송솔은     여성  010-7719-8346  NaN             29          21    167   \n",
       "3  백서원     여성    01011947169   36             67          65      0   \n",
       "4  박서은     여성  010-2575-6398   42             60          57    167   \n",
       "\n",
       "       Joined At     Updated At Smoking Drinking Paid Plan  \\\n",
       "0  2016년 07월 05일  2016년 07월 05일     아니오     주 1회       0개월   \n",
       "1  2016년 10월 02일  2016년 11월 29일       예     월 1회       0개월   \n",
       "2  2017년 09월 06일  2017년 09월 06일       예     주 1회       0개월   \n",
       "3  2017년 06월 02일  2017년 07월 28일       예     안 마심       0개월   \n",
       "4  2017년 05월 07일  2017년 05월 07일     아니오     안 마심       0개월   \n",
       "\n",
       "  Request Counselling 흡연 여부(bool)  \n",
       "0                 아니요       False  \n",
       "1                 아니요        True  \n",
       "2                 아니요        True  \n",
       "3                 아니요        True  \n",
       "4                   예       False  "
      ]
     },
     "execution_count": 11,
     "metadata": {},
     "output_type": "execute_result"
    }
   ],
   "source": [
    "data = data.rename(index = str, \n",
    "            columns={'이름' : 'Name',\n",
    "                            '성별':  'Gender',\n",
    "                            '전화번호' : 'Phone Number',\n",
    "                            '나이' : 'Age',\n",
    "                            '현재 체중' : 'Current Weight',\n",
    "                            '목표 체중' : 'Goal Weight',\n",
    "                            '키' : 'Height',\n",
    "                            '흡연 여부' : 'Smoking',\n",
    "                            '음주 여부' : 'Drinking',\n",
    "                            '개인상담 요청' : 'Request Counselling',\n",
    "                            '회원 가입일' : 'Joined At',\n",
    "                            '회원 정보 갱신일' : 'Updated At',\n",
    "                            '가입 개월 수' : 'Paid Plan'})\n",
    "data.head()"
   ]
  },
  {
   "cell_type": "code",
   "execution_count": 12,
   "metadata": {},
   "outputs": [
    {
     "data": {
      "text/plain": [
       "Index(['Name', 'Gender', 'Phone Number', 'Age', 'Current Weight',\n",
       "       'Goal Weight', 'Height', 'Joined At', 'Updated At', 'Smoking',\n",
       "       'Drinking', 'Paid Plan', 'Request Counselling', '흡연 여부(bool)'],\n",
       "      dtype='object')"
      ]
     },
     "execution_count": 12,
     "metadata": {},
     "output_type": "execute_result"
    }
   ],
   "source": [
    "data.columns"
   ]
  },
  {
   "cell_type": "markdown",
   "metadata": {},
   "source": [
    "** 7. '상담 요청' 컬럼을 예/아니오 에서 True/False로 바꿔주세요 **"
   ]
  },
  {
   "cell_type": "code",
   "execution_count": 13,
   "metadata": {},
   "outputs": [
    {
     "data": {
      "text/plain": [
       "아니요    96260\n",
       "예      10579\n",
       "Name: Request Counselling, dtype: int64"
      ]
     },
     "execution_count": 13,
     "metadata": {},
     "output_type": "execute_result"
    }
   ],
   "source": [
    "data['Request Counselling'].value_counts()"
   ]
  },
  {
   "cell_type": "code",
   "execution_count": 14,
   "metadata": {},
   "outputs": [],
   "source": [
    "data.loc[data['Request Counselling']== '예', 'Request Counselling(bool)']=True\n",
    "data.loc[data['Request Counselling']== '아니요', 'Request Counselling(bool)']=False"
   ]
  },
  {
   "cell_type": "code",
   "execution_count": 15,
   "metadata": {},
   "outputs": [
    {
     "data": {
      "text/plain": [
       "array([False, True], dtype=object)"
      ]
     },
     "execution_count": 15,
     "metadata": {},
     "output_type": "execute_result"
    }
   ],
   "source": [
    "data['Request Counselling(bool)'].unique()"
   ]
  },
  {
   "cell_type": "code",
   "execution_count": 16,
   "metadata": {},
   "outputs": [
    {
     "data": {
      "text/plain": [
       "0.0990181488033396"
      ]
     },
     "execution_count": 16,
     "metadata": {},
     "output_type": "execute_result"
    }
   ],
   "source": [
    "data['Request Counselling(bool)'].mean()"
   ]
  },
  {
   "cell_type": "markdown",
   "metadata": {},
   "source": [
    "**8. '가입 개월 수' 컬럼을 분석해서, 무료(0개월)인 경우를 True로, 유료인 경우(3, 6, 9, 12개월)를 False로 보여주는 새로운 컬럼을 만들어주세요.**"
   ]
  },
  {
   "cell_type": "code",
   "execution_count": 17,
   "metadata": {},
   "outputs": [
    {
     "data": {
      "text/plain": [
       "0개월     74955\n",
       "3개월     21250\n",
       "6개월      7291\n",
       "12개월     3343\n",
       "Name: Paid Plan, dtype: int64"
      ]
     },
     "execution_count": 17,
     "metadata": {},
     "output_type": "execute_result"
    }
   ],
   "source": [
    "data['Paid Plan'].value_counts()"
   ]
  },
  {
   "cell_type": "code",
   "execution_count": 18,
   "metadata": {},
   "outputs": [],
   "source": [
    "data.loc[data['Paid Plan']=='0개월', 'Paid Plan(bool)']=True\n",
    "data.loc[data['Paid Plan']=='3개월', 'Paid Plan(bool)']=False\n",
    "data.loc[data['Paid Plan']=='6개월', 'Paid Plan(bool)']=False\n",
    "data.loc[data['Paid Plan']=='12개월', 'Paid Plan(bool)']=False"
   ]
  },
  {
   "cell_type": "code",
   "execution_count": 19,
   "metadata": {},
   "outputs": [
    {
     "data": {
      "text/plain": [
       "True     74955\n",
       "False    31884\n",
       "Name: Paid Plan(bool), dtype: int64"
      ]
     },
     "execution_count": 19,
     "metadata": {},
     "output_type": "execute_result"
    }
   ],
   "source": [
    "data['Paid Plan(bool)'].value_counts()"
   ]
  },
  {
   "cell_type": "markdown",
   "metadata": {},
   "source": [
    "### 컬럼의 형태를 하나로 통일하고, 빈 값이나 outlier들을 NaN으로 바꾸기"
   ]
  },
  {
   "cell_type": "markdown",
   "metadata": {},
   "source": [
    "** 9. 전화번호 컬럼을 정리해주세요. 다음과 같이 정리해주시면 됩니다. **\n",
    "  * unknown 이라고 표시되어 있는 전화번호는 빈 전화번호입니다. 이를 NaN으로 바꿔주세요."
   ]
  },
  {
   "cell_type": "code",
   "execution_count": 20,
   "metadata": {},
   "outputs": [
    {
     "data": {
      "text/plain": [
       "False    96199\n",
       "True     10640\n",
       "Name: Phone Number, dtype: int64"
      ]
     },
     "execution_count": 20,
     "metadata": {},
     "output_type": "execute_result"
    }
   ],
   "source": [
    "data.loc[data['Phone Number']=='unknown', 'Phone Number']=np.nan\n",
    "data['Phone Number'].isnull().value_counts()"
   ]
  },
  {
   "cell_type": "markdown",
   "metadata": {},
   "source": [
    "** 10. 키(cm) 컬럼을 정리해주세요. 다음과 같이 정리해주시면 됩니다.** \n",
    "\n",
    "* 다양한 형태로 표현되어 있는 키 컬럼(?, ?cm, ? cm 등)을 숫자로 통일해주세요.\n",
    "* 키가 0으로 되어있으면 NaN으로 바꿔주세요.\n",
    "* 키가 너무 작거나(140cm 이하) 너무 크면(210cm 이상) 마찬가지로 NaN으로 바꿔주세요."
   ]
  },
  {
   "cell_type": "code",
   "execution_count": 21,
   "metadata": {},
   "outputs": [
    {
     "data": {
      "text/plain": [
       "array(['176', '172', '167', '0', '171', '177', '164', '170', '178', '182',\n",
       "       '184', '217 cm', '159', '169', '175', '173', '121cm', '156', '168',\n",
       "       '166', '165', '206cm', '181', '174', '177 cm', '157', '172cm',\n",
       "       '180 cm', '175cm', '179cm', '179', '161', '183', '132', '185',\n",
       "       '180', '172 cm', '169 cm', '174 cm', '162', '174cm', '170 cm',\n",
       "       '188', '160', '171cm', '126', '158', '176 cm', '173 cm', '167 cm',\n",
       "       '162cm', '180cm', '134cm', '234', '159cm', '163', '155', '182cm',\n",
       "       '178cm', '104', '163 cm', '162 cm', '166 cm', '187', '114', '106',\n",
       "       '164cm', '173cm', '182 cm', '166cm', '181cm', '186 cm', '192',\n",
       "       '165 cm', '139', '160 cm', '181 cm', '170cm', '171 cm', '179 cm',\n",
       "       '186', '201', '243', '168cm', '208', '219', '178 cm', '176cm',\n",
       "       '164 cm', '177cm', '152', '238', '225', '169cm', '211', '184 cm',\n",
       "       '183cm', '155cm', '167cm', '110', '247', '246', '124', '165cm',\n",
       "       '161cm', '109', '183 cm', '222', '191', '125', '175 cm', '206',\n",
       "       '154', '163cm', '212', '230', '218', '159 cm', '119', '168 cm',\n",
       "       '242', '129 cm', '224', '161 cm', '187 cm', '107', '137', '160cm',\n",
       "       '185cm', '189', '210cm', '213', '237', '200', '131', '241', '100',\n",
       "       '187cm', '122 cm', '158cm', '101', '215', '134', '234cm', '209',\n",
       "       '190cm', '185 cm', '130', '231 cm', '129', '127', '214cm', '139cm',\n",
       "       '121', '153', '220', '184cm', '231', '193', '227', '103', '204',\n",
       "       '102', '158 cm', '155 cm', '221', '136', '225cm', '248cm', '205',\n",
       "       '228', '190', '226', '219cm', '236 cm', '117', '115', '127 cm',\n",
       "       '186cm', '214', '195', '138', '235', '205cm', '157cm', '188 cm',\n",
       "       '108', '203', '243cm', '245', '133', '207', '149', '248', '127cm',\n",
       "       '130 cm', '108cm', '101cm', '210', '236', '232', '100cm', '120',\n",
       "       '154cm', '156cm', '128', '233', '239', '115 cm', '216', '151',\n",
       "       '247cm', '122', '112', '249', '234 cm', '223 cm', '105', '202',\n",
       "       '135', '223', '157 cm', '118', '211cm', '226cm', '151cm', '204cm',\n",
       "       '217', '103cm', '229', '189cm', '227cm', '244', '111', '118 cm',\n",
       "       '245 cm', '116', '240', '121 cm', '113', '244cm', '194', '152cm',\n",
       "       '113 cm', '233 cm', '153cm', '229 cm', '208cm', '150', '126cm',\n",
       "       '188cm', '223cm', '123', '212 cm', '246cm', '114cm', '111cm',\n",
       "       '220cm', '153 cm', '224 cm', '216 cm', '136cm', '224cm', '148',\n",
       "       '189 cm', '216cm', '137 cm', '130cm', '154 cm', '138 cm', '135cm',\n",
       "       '125 cm', '100 cm', '209cm', '226 cm', '116cm', '126 cm', '239cm',\n",
       "       '210 cm', '221cm', '232 cm', '106cm', '120cm', '247 cm', '228 cm',\n",
       "       '129cm', '128cm', '124 cm', '229cm', '246 cm', '156 cm', '119 cm',\n",
       "       '117cm', '238 cm', '111 cm', '107 cm', '120 cm', '207cm', '101 cm',\n",
       "       '105cm', '190 cm', '191 cm', '215 cm', '107cm', '123cm', '131 cm',\n",
       "       '204 cm', '136 cm', '104cm', '115cm', '102cm', '117 cm', '193cm',\n",
       "       '108 cm', '209 cm', '218cm', '152 cm', '237 cm', '196', '137cm',\n",
       "       '102 cm', '138cm', '217cm', '114 cm', '197', '110cm', '112 cm',\n",
       "       '240 cm', '236cm', '242cm', '192cm', '139 cm', '132 cm', '194cm',\n",
       "       '222 cm', '241 cm', '106 cm', '104 cm', '221 cm', '230cm', '133cm',\n",
       "       '131cm', '201 cm', '211 cm', '125cm', '249cm', '132cm', '202cm',\n",
       "       '213 cm', '220 cm', '207 cm', '208 cm', '240cm', '200 cm', '237cm',\n",
       "       '206 cm', '151 cm', '212cm', '135 cm', '112cm', '150cm'],\n",
       "      dtype=object)"
      ]
     },
     "execution_count": 21,
     "metadata": {},
     "output_type": "execute_result"
    }
   ],
   "source": [
    "data['Height'].unique()"
   ]
  },
  {
   "cell_type": "code",
   "execution_count": 22,
   "metadata": {},
   "outputs": [],
   "source": [
    "data['Height']=data['Height'].apply(lambda x: x[:3])"
   ]
  },
  {
   "cell_type": "code",
   "execution_count": 23,
   "metadata": {},
   "outputs": [],
   "source": [
    "data.loc[data['Height']=='0','Height'] = np.nan"
   ]
  },
  {
   "cell_type": "code",
   "execution_count": 24,
   "metadata": {},
   "outputs": [],
   "source": [
    "data['Height']=data['Height'].astype(float)"
   ]
  },
  {
   "cell_type": "code",
   "execution_count": 25,
   "metadata": {},
   "outputs": [
    {
     "data": {
      "text/plain": [
       "array([176., 172., 167.,  nan, 171., 177., 164., 170., 178., 182., 184.,\n",
       "       217., 159., 169., 175., 173., 121., 156., 168., 166., 165., 206.,\n",
       "       181., 174., 157., 180., 179., 161., 183., 132., 185., 162., 188.,\n",
       "       160., 126., 158., 134., 234., 163., 155., 104., 187., 114., 106.,\n",
       "       186., 192., 139., 201., 243., 208., 219., 152., 238., 225., 211.,\n",
       "       110., 247., 246., 124., 109., 222., 191., 125., 154., 212., 230.,\n",
       "       218., 119., 242., 129., 224., 107., 137., 189., 210., 213., 237.,\n",
       "       200., 131., 241., 100., 122., 101., 215., 209., 190., 130., 231.,\n",
       "       127., 214., 153., 220., 193., 227., 103., 204., 102., 221., 136.,\n",
       "       248., 205., 228., 226., 236., 117., 115., 195., 138., 235., 108.,\n",
       "       203., 245., 133., 207., 149., 232., 120., 128., 233., 239., 216.,\n",
       "       151., 112., 249., 223., 105., 202., 135., 118., 229., 244., 111.,\n",
       "       116., 240., 113., 194., 150., 123., 148., 196., 197.])"
      ]
     },
     "execution_count": 25,
     "metadata": {},
     "output_type": "execute_result"
    }
   ],
   "source": [
    "data['Height'].unique()"
   ]
  },
  {
   "cell_type": "code",
   "execution_count": 26,
   "metadata": {},
   "outputs": [],
   "source": [
    "a = data['Height']<=140\n",
    "b = data['Height']>=210\n",
    "\n",
    "data.loc[a|b, 'Height']=np.nan"
   ]
  },
  {
   "cell_type": "code",
   "execution_count": 27,
   "metadata": {},
   "outputs": [
    {
     "data": {
      "text/plain": [
       "count    94423.000000\n",
       "mean       172.260911\n",
       "std          6.555064\n",
       "min        148.000000\n",
       "25%        168.000000\n",
       "50%        172.000000\n",
       "75%        177.000000\n",
       "max        209.000000\n",
       "Name: Height, dtype: float64"
      ]
     },
     "execution_count": 27,
     "metadata": {},
     "output_type": "execute_result"
    }
   ],
   "source": [
    "data['Height'].describe()"
   ]
  },
  {
   "cell_type": "markdown",
   "metadata": {},
   "source": [
    "** 11.'현재 체중'과\t'목표 체중' 컬럼을 정리해주세요. 다음과 같이 정리해주시면 됩니다.** \n",
    "\n",
    "* 다양한 형태로 표현되어 있는 몸무게 컬럼(?, ?kg, ? kg 등)을 숫자로 통일해주세요.\n",
    "* 몸무게가 0으로 되어있으면 NaN으로 바꿔주세요.\n",
    "* 몸무게가 너무 작거나(40kg 이하) 너무 크면(150kg 이상) 마찬가지로 NaN으로 바꿔주세요."
   ]
  },
  {
   "cell_type": "code",
   "execution_count": 28,
   "metadata": {},
   "outputs": [
    {
     "data": {
      "text/plain": [
       "dtype('O')"
      ]
     },
     "execution_count": 28,
     "metadata": {},
     "output_type": "execute_result"
    }
   ],
   "source": [
    "data['Current Weight'].dtype"
   ]
  },
  {
   "cell_type": "code",
   "execution_count": 29,
   "metadata": {},
   "outputs": [],
   "source": [
    "data['Current Weight']=data['Current Weight'].apply(lambda x: x.replace('kg', ''))\n",
    "data['Goal Weight']=data['Goal Weight'].apply(lambda x: x.replace('kg', ''))"
   ]
  },
  {
   "cell_type": "code",
   "execution_count": 30,
   "metadata": {},
   "outputs": [
    {
     "data": {
      "text/plain": [
       "(dtype('O'), dtype('O'))"
      ]
     },
     "execution_count": 30,
     "metadata": {},
     "output_type": "execute_result"
    }
   ],
   "source": [
    "data['Current Weight'].dtype, data['Goal Weight'].dtype"
   ]
  },
  {
   "cell_type": "code",
   "execution_count": 31,
   "metadata": {},
   "outputs": [],
   "source": [
    "data.loc[data['Current Weight']=='0', 'Current Weight']=np.nan\n",
    "data.loc[data['Goal Weight']=='0', 'Goal Weight']=np.nan"
   ]
  },
  {
   "cell_type": "code",
   "execution_count": 32,
   "metadata": {},
   "outputs": [
    {
     "data": {
      "text/html": [
       "<div>\n",
       "<style scoped>\n",
       "    .dataframe tbody tr th:only-of-type {\n",
       "        vertical-align: middle;\n",
       "    }\n",
       "\n",
       "    .dataframe tbody tr th {\n",
       "        vertical-align: top;\n",
       "    }\n",
       "\n",
       "    .dataframe thead th {\n",
       "        text-align: right;\n",
       "    }\n",
       "</style>\n",
       "<table border=\"1\" class=\"dataframe\">\n",
       "  <thead>\n",
       "    <tr style=\"text-align: right;\">\n",
       "      <th></th>\n",
       "      <th>Name</th>\n",
       "      <th>Gender</th>\n",
       "      <th>Phone Number</th>\n",
       "      <th>Age</th>\n",
       "      <th>Current Weight</th>\n",
       "      <th>Goal Weight</th>\n",
       "      <th>Height</th>\n",
       "      <th>Joined At</th>\n",
       "      <th>Updated At</th>\n",
       "      <th>Smoking</th>\n",
       "      <th>Drinking</th>\n",
       "      <th>Paid Plan</th>\n",
       "      <th>Request Counselling</th>\n",
       "      <th>흡연 여부(bool)</th>\n",
       "      <th>Request Counselling(bool)</th>\n",
       "      <th>Paid Plan(bool)</th>\n",
       "    </tr>\n",
       "  </thead>\n",
       "  <tbody>\n",
       "    <tr>\n",
       "      <th>0</th>\n",
       "      <td>안원준</td>\n",
       "      <td>남성</td>\n",
       "      <td>010-2292-6251</td>\n",
       "      <td>31</td>\n",
       "      <td>78</td>\n",
       "      <td>68</td>\n",
       "      <td>176.0</td>\n",
       "      <td>2016년 07월 05일</td>\n",
       "      <td>2016년 07월 05일</td>\n",
       "      <td>아니오</td>\n",
       "      <td>주 1회</td>\n",
       "      <td>0개월</td>\n",
       "      <td>아니요</td>\n",
       "      <td>False</td>\n",
       "      <td>False</td>\n",
       "      <td>True</td>\n",
       "    </tr>\n",
       "    <tr>\n",
       "      <th>1</th>\n",
       "      <td>유세아</td>\n",
       "      <td>여성</td>\n",
       "      <td>01045795881</td>\n",
       "      <td>39</td>\n",
       "      <td>56</td>\n",
       "      <td>51</td>\n",
       "      <td>172.0</td>\n",
       "      <td>2016년 10월 02일</td>\n",
       "      <td>2016년 11월 29일</td>\n",
       "      <td>예</td>\n",
       "      <td>월 1회</td>\n",
       "      <td>0개월</td>\n",
       "      <td>아니요</td>\n",
       "      <td>True</td>\n",
       "      <td>False</td>\n",
       "      <td>True</td>\n",
       "    </tr>\n",
       "    <tr>\n",
       "      <th>2</th>\n",
       "      <td>송솔은</td>\n",
       "      <td>여성</td>\n",
       "      <td>010-7719-8346</td>\n",
       "      <td>NaN</td>\n",
       "      <td>29</td>\n",
       "      <td>21</td>\n",
       "      <td>167.0</td>\n",
       "      <td>2017년 09월 06일</td>\n",
       "      <td>2017년 09월 06일</td>\n",
       "      <td>예</td>\n",
       "      <td>주 1회</td>\n",
       "      <td>0개월</td>\n",
       "      <td>아니요</td>\n",
       "      <td>True</td>\n",
       "      <td>False</td>\n",
       "      <td>True</td>\n",
       "    </tr>\n",
       "    <tr>\n",
       "      <th>3</th>\n",
       "      <td>백서원</td>\n",
       "      <td>여성</td>\n",
       "      <td>01011947169</td>\n",
       "      <td>36</td>\n",
       "      <td>67</td>\n",
       "      <td>65</td>\n",
       "      <td>NaN</td>\n",
       "      <td>2017년 06월 02일</td>\n",
       "      <td>2017년 07월 28일</td>\n",
       "      <td>예</td>\n",
       "      <td>안 마심</td>\n",
       "      <td>0개월</td>\n",
       "      <td>아니요</td>\n",
       "      <td>True</td>\n",
       "      <td>False</td>\n",
       "      <td>True</td>\n",
       "    </tr>\n",
       "    <tr>\n",
       "      <th>4</th>\n",
       "      <td>박서은</td>\n",
       "      <td>여성</td>\n",
       "      <td>010-2575-6398</td>\n",
       "      <td>42</td>\n",
       "      <td>60</td>\n",
       "      <td>57</td>\n",
       "      <td>167.0</td>\n",
       "      <td>2017년 05월 07일</td>\n",
       "      <td>2017년 05월 07일</td>\n",
       "      <td>아니오</td>\n",
       "      <td>안 마심</td>\n",
       "      <td>0개월</td>\n",
       "      <td>예</td>\n",
       "      <td>False</td>\n",
       "      <td>True</td>\n",
       "      <td>True</td>\n",
       "    </tr>\n",
       "  </tbody>\n",
       "</table>\n",
       "</div>"
      ],
      "text/plain": [
       "  Name Gender   Phone Number  Age Current Weight Goal Weight  Height  \\\n",
       "0  안원준     남성  010-2292-6251   31             78          68   176.0   \n",
       "1  유세아     여성    01045795881   39             56          51   172.0   \n",
       "2  송솔은     여성  010-7719-8346  NaN             29          21   167.0   \n",
       "3  백서원     여성    01011947169   36             67          65     NaN   \n",
       "4  박서은     여성  010-2575-6398   42             60          57   167.0   \n",
       "\n",
       "       Joined At     Updated At Smoking Drinking Paid Plan  \\\n",
       "0  2016년 07월 05일  2016년 07월 05일     아니오     주 1회       0개월   \n",
       "1  2016년 10월 02일  2016년 11월 29일       예     월 1회       0개월   \n",
       "2  2017년 09월 06일  2017년 09월 06일       예     주 1회       0개월   \n",
       "3  2017년 06월 02일  2017년 07월 28일       예     안 마심       0개월   \n",
       "4  2017년 05월 07일  2017년 05월 07일     아니오     안 마심       0개월   \n",
       "\n",
       "  Request Counselling 흡연 여부(bool) Request Counselling(bool) Paid Plan(bool)  \n",
       "0                 아니요       False                     False            True  \n",
       "1                 아니요        True                     False            True  \n",
       "2                 아니요        True                     False            True  \n",
       "3                 아니요        True                     False            True  \n",
       "4                   예       False                      True            True  "
      ]
     },
     "execution_count": 32,
     "metadata": {},
     "output_type": "execute_result"
    }
   ],
   "source": [
    "data.head()"
   ]
  },
  {
   "cell_type": "markdown",
   "metadata": {},
   "source": [
    "### 기본적인 분석을 하기"
   ]
  },
  {
   "cell_type": "markdown",
   "metadata": {},
   "source": [
    "** 12. 전체 데이터에서 평균/최소/최대 키(cm), 그리고 평균/최소/최대 '현재 체중(kg)'과 '목표 체중(kg)'을 찾아주세요. **"
   ]
  },
  {
   "cell_type": "code",
   "execution_count": 33,
   "metadata": {},
   "outputs": [
    {
     "data": {
      "text/plain": [
       "count    94423.000000\n",
       "mean       172.260911\n",
       "std          6.555064\n",
       "min        148.000000\n",
       "25%        168.000000\n",
       "50%        172.000000\n",
       "75%        177.000000\n",
       "max        209.000000\n",
       "Name: Height, dtype: float64"
      ]
     },
     "execution_count": 33,
     "metadata": {},
     "output_type": "execute_result"
    }
   ],
   "source": [
    "data['Height'].describe()"
   ]
  },
  {
   "cell_type": "code",
   "execution_count": 34,
   "metadata": {},
   "outputs": [
    {
     "data": {
      "text/plain": [
       "count    96190.000000\n",
       "mean        71.449132\n",
       "std         12.698796\n",
       "min         20.000000\n",
       "25%         60.000000\n",
       "50%         76.000000\n",
       "75%         80.000000\n",
       "max        149.000000\n",
       "Name: Current Weight, dtype: float64"
      ]
     },
     "execution_count": 34,
     "metadata": {},
     "output_type": "execute_result"
    }
   ],
   "source": [
    "data['Current Weight'].astype(float).describe()"
   ]
  },
  {
   "cell_type": "code",
   "execution_count": 35,
   "metadata": {},
   "outputs": [
    {
     "data": {
      "text/plain": [
       "count    96190.000000\n",
       "mean        65.954122\n",
       "std         13.010923\n",
       "min         10.000000\n",
       "25%         55.000000\n",
       "50%         70.000000\n",
       "75%         75.000000\n",
       "max        148.000000\n",
       "Name: Goal Weight, dtype: float64"
      ]
     },
     "execution_count": 35,
     "metadata": {},
     "output_type": "execute_result"
    }
   ],
   "source": [
    "data['Goal Weight'].astype(float).describe()"
   ]
  },
  {
   "cell_type": "markdown",
   "metadata": {},
   "source": [
    "** 13. 전체 데이터에서 흡연자와 비흡연자 인원의 총합을 찾아주세요. **"
   ]
  },
  {
   "cell_type": "code",
   "execution_count": 36,
   "metadata": {},
   "outputs": [
    {
     "data": {
      "text/plain": [
       "False    85468\n",
       "True     21371\n",
       "Name: 흡연 여부(bool), dtype: int64"
      ]
     },
     "execution_count": 36,
     "metadata": {},
     "output_type": "execute_result"
    }
   ],
   "source": [
    "data['흡연 여부(bool)'].value_counts()"
   ]
  },
  {
   "cell_type": "markdown",
   "metadata": {},
   "source": [
    "** 14. 전체 데이터에서 유료 사용자와 무료 사용자의 인원의 총합을 찾아주세요. **\n",
    "\n",
    "또한 유료 사용자만 한정해서, 3개월 / 6개월 / 12개월 결제자의 인원의 총합을 찾아주세요."
   ]
  },
  {
   "cell_type": "code",
   "execution_count": 37,
   "metadata": {},
   "outputs": [
    {
     "data": {
      "text/plain": [
       "Paid Plan(bool)\n",
       "False    31884\n",
       "True     74955\n",
       "Name: Paid Plan(bool), dtype: int64"
      ]
     },
     "execution_count": 37,
     "metadata": {},
     "output_type": "execute_result"
    }
   ],
   "source": [
    "data.groupby('Paid Plan(bool)')['Paid Plan(bool)'].count()"
   ]
  },
  {
   "cell_type": "code",
   "execution_count": 38,
   "metadata": {},
   "outputs": [
    {
     "data": {
      "text/plain": [
       "Paid Plan\n",
       "0개월     74955\n",
       "12개월     3343\n",
       "3개월     21250\n",
       "6개월      7291\n",
       "Name: Paid Plan, dtype: int64"
      ]
     },
     "execution_count": 38,
     "metadata": {},
     "output_type": "execute_result"
    }
   ],
   "source": [
    "data.groupby('Paid Plan')['Paid Plan'].count()"
   ]
  },
  {
   "cell_type": "markdown",
   "metadata": {},
   "source": [
    "** 15. 전체 데이터에서 흡연자와 음주 여부를 바탕으로 다음을 분석해주세요. **\n",
    "  1. 흡연과 음주를 둘 다 안 하는 사람의 인원 총합.\n",
    "  1. 흡연은 하지만 음주는 안 하는 사람의 인원 총합.\n",
    "  1. 흡연은 하지 않지만 음주는 하는 사람의 인원 총합.\n",
    "  1. 흡연과 음주를 둘 다 하는 사람의 인원 총합."
   ]
  },
  {
   "cell_type": "code",
   "execution_count": 39,
   "metadata": {},
   "outputs": [
    {
     "data": {
      "text/html": [
       "<div>\n",
       "<style scoped>\n",
       "    .dataframe tbody tr th:only-of-type {\n",
       "        vertical-align: middle;\n",
       "    }\n",
       "\n",
       "    .dataframe tbody tr th {\n",
       "        vertical-align: top;\n",
       "    }\n",
       "\n",
       "    .dataframe thead th {\n",
       "        text-align: right;\n",
       "    }\n",
       "</style>\n",
       "<table border=\"1\" class=\"dataframe\">\n",
       "  <thead>\n",
       "    <tr style=\"text-align: right;\">\n",
       "      <th></th>\n",
       "      <th>Name</th>\n",
       "      <th>Gender</th>\n",
       "      <th>Phone Number</th>\n",
       "      <th>Age</th>\n",
       "      <th>Current Weight</th>\n",
       "      <th>Goal Weight</th>\n",
       "      <th>Height</th>\n",
       "      <th>Joined At</th>\n",
       "      <th>Updated At</th>\n",
       "      <th>Smoking</th>\n",
       "      <th>Drinking</th>\n",
       "      <th>Paid Plan</th>\n",
       "      <th>Request Counselling</th>\n",
       "      <th>흡연 여부(bool)</th>\n",
       "      <th>Request Counselling(bool)</th>\n",
       "      <th>Paid Plan(bool)</th>\n",
       "    </tr>\n",
       "  </thead>\n",
       "  <tbody>\n",
       "    <tr>\n",
       "      <th>0</th>\n",
       "      <td>안원준</td>\n",
       "      <td>남성</td>\n",
       "      <td>010-2292-6251</td>\n",
       "      <td>31</td>\n",
       "      <td>78</td>\n",
       "      <td>68</td>\n",
       "      <td>176.0</td>\n",
       "      <td>2016년 07월 05일</td>\n",
       "      <td>2016년 07월 05일</td>\n",
       "      <td>아니오</td>\n",
       "      <td>주 1회</td>\n",
       "      <td>0개월</td>\n",
       "      <td>아니요</td>\n",
       "      <td>False</td>\n",
       "      <td>False</td>\n",
       "      <td>True</td>\n",
       "    </tr>\n",
       "    <tr>\n",
       "      <th>1</th>\n",
       "      <td>유세아</td>\n",
       "      <td>여성</td>\n",
       "      <td>01045795881</td>\n",
       "      <td>39</td>\n",
       "      <td>56</td>\n",
       "      <td>51</td>\n",
       "      <td>172.0</td>\n",
       "      <td>2016년 10월 02일</td>\n",
       "      <td>2016년 11월 29일</td>\n",
       "      <td>예</td>\n",
       "      <td>월 1회</td>\n",
       "      <td>0개월</td>\n",
       "      <td>아니요</td>\n",
       "      <td>True</td>\n",
       "      <td>False</td>\n",
       "      <td>True</td>\n",
       "    </tr>\n",
       "    <tr>\n",
       "      <th>2</th>\n",
       "      <td>송솔은</td>\n",
       "      <td>여성</td>\n",
       "      <td>010-7719-8346</td>\n",
       "      <td>NaN</td>\n",
       "      <td>29</td>\n",
       "      <td>21</td>\n",
       "      <td>167.0</td>\n",
       "      <td>2017년 09월 06일</td>\n",
       "      <td>2017년 09월 06일</td>\n",
       "      <td>예</td>\n",
       "      <td>주 1회</td>\n",
       "      <td>0개월</td>\n",
       "      <td>아니요</td>\n",
       "      <td>True</td>\n",
       "      <td>False</td>\n",
       "      <td>True</td>\n",
       "    </tr>\n",
       "    <tr>\n",
       "      <th>3</th>\n",
       "      <td>백서원</td>\n",
       "      <td>여성</td>\n",
       "      <td>01011947169</td>\n",
       "      <td>36</td>\n",
       "      <td>67</td>\n",
       "      <td>65</td>\n",
       "      <td>NaN</td>\n",
       "      <td>2017년 06월 02일</td>\n",
       "      <td>2017년 07월 28일</td>\n",
       "      <td>예</td>\n",
       "      <td>안 마심</td>\n",
       "      <td>0개월</td>\n",
       "      <td>아니요</td>\n",
       "      <td>True</td>\n",
       "      <td>False</td>\n",
       "      <td>True</td>\n",
       "    </tr>\n",
       "    <tr>\n",
       "      <th>4</th>\n",
       "      <td>박서은</td>\n",
       "      <td>여성</td>\n",
       "      <td>010-2575-6398</td>\n",
       "      <td>42</td>\n",
       "      <td>60</td>\n",
       "      <td>57</td>\n",
       "      <td>167.0</td>\n",
       "      <td>2017년 05월 07일</td>\n",
       "      <td>2017년 05월 07일</td>\n",
       "      <td>아니오</td>\n",
       "      <td>안 마심</td>\n",
       "      <td>0개월</td>\n",
       "      <td>예</td>\n",
       "      <td>False</td>\n",
       "      <td>True</td>\n",
       "      <td>True</td>\n",
       "    </tr>\n",
       "  </tbody>\n",
       "</table>\n",
       "</div>"
      ],
      "text/plain": [
       "  Name Gender   Phone Number  Age Current Weight Goal Weight  Height  \\\n",
       "0  안원준     남성  010-2292-6251   31             78          68   176.0   \n",
       "1  유세아     여성    01045795881   39             56          51   172.0   \n",
       "2  송솔은     여성  010-7719-8346  NaN             29          21   167.0   \n",
       "3  백서원     여성    01011947169   36             67          65     NaN   \n",
       "4  박서은     여성  010-2575-6398   42             60          57   167.0   \n",
       "\n",
       "       Joined At     Updated At Smoking Drinking Paid Plan  \\\n",
       "0  2016년 07월 05일  2016년 07월 05일     아니오     주 1회       0개월   \n",
       "1  2016년 10월 02일  2016년 11월 29일       예     월 1회       0개월   \n",
       "2  2017년 09월 06일  2017년 09월 06일       예     주 1회       0개월   \n",
       "3  2017년 06월 02일  2017년 07월 28일       예     안 마심       0개월   \n",
       "4  2017년 05월 07일  2017년 05월 07일     아니오     안 마심       0개월   \n",
       "\n",
       "  Request Counselling 흡연 여부(bool) Request Counselling(bool) Paid Plan(bool)  \n",
       "0                 아니요       False                     False            True  \n",
       "1                 아니요        True                     False            True  \n",
       "2                 아니요        True                     False            True  \n",
       "3                 아니요        True                     False            True  \n",
       "4                   예       False                      True            True  "
      ]
     },
     "execution_count": 39,
     "metadata": {},
     "output_type": "execute_result"
    }
   ],
   "source": [
    "data.head()"
   ]
  },
  {
   "cell_type": "code",
   "execution_count": 40,
   "metadata": {},
   "outputs": [],
   "source": [
    "data.loc[data['Drinking']=='안 마심', 'Drinking(bool)']=False\n",
    "data.loc[data['Drinking']!='안 마심', 'Drinking(bool)']=True"
   ]
  },
  {
   "cell_type": "code",
   "execution_count": 41,
   "metadata": {},
   "outputs": [
    {
     "data": {
      "text/plain": [
       "array([ True, False])"
      ]
     },
     "execution_count": 41,
     "metadata": {},
     "output_type": "execute_result"
    }
   ],
   "source": [
    "data['Drinking(bool)'].unique()"
   ]
  },
  {
   "cell_type": "code",
   "execution_count": 42,
   "metadata": {},
   "outputs": [],
   "source": [
    "smoking = data['흡연 여부(bool)']==True\n",
    "drinking = data['Drinking(bool)']==True\n",
    "non_smoking = data['흡연 여부(bool)']==False\n",
    "non_drinking = data['Drinking(bool)']==False"
   ]
  },
  {
   "cell_type": "code",
   "execution_count": 43,
   "metadata": {},
   "outputs": [
    {
     "data": {
      "text/plain": [
       "8488"
      ]
     },
     "execution_count": 43,
     "metadata": {},
     "output_type": "execute_result"
    }
   ],
   "source": [
    "#  1. 흡연과 음주를 둘 다 안 하는 사람의 인원 총합.\n",
    "data.loc[(non_smoking)&(non_drinking)].shape[0]"
   ]
  },
  {
   "cell_type": "code",
   "execution_count": 44,
   "metadata": {},
   "outputs": [
    {
     "data": {
      "text/plain": [
       "2093"
      ]
     },
     "execution_count": 44,
     "metadata": {},
     "output_type": "execute_result"
    }
   ],
   "source": [
    "#흡연은 하지만 음주는 안 하는 사람의 인원 총합.\n",
    "data.loc[(smoking)&(non_drinking)].shape[0]"
   ]
  },
  {
   "cell_type": "code",
   "execution_count": 45,
   "metadata": {},
   "outputs": [
    {
     "data": {
      "text/plain": [
       "76980"
      ]
     },
     "execution_count": 45,
     "metadata": {},
     "output_type": "execute_result"
    }
   ],
   "source": [
    "#흡연은 하지 않지만 음주는 하는 사람의 인원 총합.\n",
    "data.loc[(non_smoking)&(drinking)].shape[0]"
   ]
  },
  {
   "cell_type": "code",
   "execution_count": 46,
   "metadata": {},
   "outputs": [
    {
     "data": {
      "text/plain": [
       "19278"
      ]
     },
     "execution_count": 46,
     "metadata": {},
     "output_type": "execute_result"
    }
   ],
   "source": [
    "#흡연과 음주를 둘 다 하는 사람의 인원 총합.\n",
    "data.loc[(smoking)&(drinking)].shape[0]"
   ]
  },
  {
   "cell_type": "markdown",
   "metadata": {},
   "source": [
    "## 과제(중급)"
   ]
  },
  {
   "cell_type": "markdown",
   "metadata": {},
   "source": [
    "** 16. 성별 컬럼을 정리하기 **\n",
    "\n",
    "성별 컬럼을 정리해주세요.\n",
    "\n",
    "데이터를 분석해보면 남성, 여성, 남, 녀, Male, FEMALE 등의 다양한 표현이 있습니다. 이 표현을 male, female으로 통일해주세요."
   ]
  },
  {
   "cell_type": "code",
   "execution_count": 47,
   "metadata": {},
   "outputs": [
    {
     "data": {
      "text/plain": [
       "array(['남성', '여성', 'Male', 'female', 'male', '여', '남', 'Female', 'FEMALE',\n",
       "       'MALE'], dtype=object)"
      ]
     },
     "execution_count": 47,
     "metadata": {},
     "output_type": "execute_result"
    }
   ],
   "source": [
    "data['Gender'].unique()"
   ]
  },
  {
   "cell_type": "code",
   "execution_count": 48,
   "metadata": {},
   "outputs": [
    {
     "data": {
      "text/plain": [
       "array(['male', 'female'], dtype=object)"
      ]
     },
     "execution_count": 48,
     "metadata": {},
     "output_type": "execute_result"
    }
   ],
   "source": [
    "\n",
    "data['Gender']=data['Gender'].apply(lambda x: x.replace(\"남성\",'male'))\n",
    "data['Gender']=data['Gender'].apply(lambda x: x.replace(\"Male\",'male'))\n",
    "data['Gender']=data['Gender'].apply(lambda x: x.replace(\"남\",'male'))\n",
    "data['Gender']=data['Gender'].apply(lambda x: x.replace(\"MALE\",'male'))\n",
    "\n",
    "data['Gender']=data['Gender'].apply(lambda x: x.replace(\"여성\",'female'))\n",
    "data['Gender']=data['Gender'].apply(lambda x: x.replace(\"Female\",'female'))\n",
    "data['Gender']=data['Gender'].apply(lambda x: x.replace(\"여\",'female'))\n",
    "data['Gender']=data['Gender'].apply(lambda x: x.replace(\"FEMALE\",'female'))\n",
    "data['Gender']=data['Gender'].apply(lambda x: x.replace(\"FEmale\",'female'))\n",
    "\n",
    "\n",
    "\n",
    "\n",
    "data['Gender'].unique()"
   ]
  },
  {
   "cell_type": "markdown",
   "metadata": {},
   "source": [
    "**17. 전체 인원이 아닌, 남성/여성 각각의 최소/평균/최대 키/몸무게/나이를 구해주세요.**\n",
    "\n",
    "결과적으로 다음의 수치가 나와야 합니다.\n",
    "  * 전체 남성의 최소/평균/최대 나이\n",
    "  * 전체 남성의 최소/평균/최대 몸무게(kg)\n",
    "  * 전체 남성의 최소/평균/최대 키(cm)\n",
    "  \n",
    "  * 전체 여성의 최소/평균/최대 나이\n",
    "  * 전체 여성의 최소/평균/최대 몸무게(kg)\n",
    "  * 전체 여성의 최소/평균/최대 키(cm)"
   ]
  },
  {
   "cell_type": "code",
   "execution_count": 49,
   "metadata": {},
   "outputs": [],
   "source": [
    "data['Current Weight']=data['Current Weight'].astype(float)\n",
    "data['Age']=data['Age'].astype(float)"
   ]
  },
  {
   "cell_type": "code",
   "execution_count": 50,
   "metadata": {},
   "outputs": [
    {
     "name": "stdout",
     "output_type": "stream",
     "text": [
      "<class 'pandas.core.frame.DataFrame'>\n",
      "Index: 106839 entries, 0 to 106838\n",
      "Data columns (total 17 columns):\n",
      "Name                         106839 non-null object\n",
      "Gender                       106839 non-null object\n",
      "Phone Number                 96199 non-null object\n",
      "Age                          96199 non-null float64\n",
      "Current Weight               96190 non-null float64\n",
      "Goal Weight                  96190 non-null object\n",
      "Height                       94423 non-null float64\n",
      "Joined At                    106839 non-null object\n",
      "Updated At                   106839 non-null object\n",
      "Smoking                      106839 non-null object\n",
      "Drinking                     106839 non-null object\n",
      "Paid Plan                    106839 non-null object\n",
      "Request Counselling          106839 non-null object\n",
      "흡연 여부(bool)                  106839 non-null object\n",
      "Request Counselling(bool)    106839 non-null object\n",
      "Paid Plan(bool)              106839 non-null object\n",
      "Drinking(bool)               106839 non-null bool\n",
      "dtypes: bool(1), float64(3), object(13)\n",
      "memory usage: 19.0+ MB\n"
     ]
    }
   ],
   "source": [
    "data.info()"
   ]
  },
  {
   "cell_type": "code",
   "execution_count": 51,
   "metadata": {},
   "outputs": [
    {
     "data": {
      "text/html": [
       "<div>\n",
       "<style scoped>\n",
       "    .dataframe tbody tr th:only-of-type {\n",
       "        vertical-align: middle;\n",
       "    }\n",
       "\n",
       "    .dataframe tbody tr th {\n",
       "        vertical-align: top;\n",
       "    }\n",
       "\n",
       "    .dataframe thead th {\n",
       "        text-align: right;\n",
       "    }\n",
       "</style>\n",
       "<table border=\"1\" class=\"dataframe\">\n",
       "  <thead>\n",
       "    <tr style=\"text-align: right;\">\n",
       "      <th></th>\n",
       "      <th>Height</th>\n",
       "      <th>Current Weight</th>\n",
       "      <th>Age</th>\n",
       "    </tr>\n",
       "  </thead>\n",
       "  <tbody>\n",
       "    <tr>\n",
       "      <th>count</th>\n",
       "      <td>55526.000000</td>\n",
       "      <td>56524.000000</td>\n",
       "      <td>56525.000000</td>\n",
       "    </tr>\n",
       "    <tr>\n",
       "      <th>mean</th>\n",
       "      <td>175.569985</td>\n",
       "      <td>79.561461</td>\n",
       "      <td>34.941583</td>\n",
       "    </tr>\n",
       "    <tr>\n",
       "      <th>std</th>\n",
       "      <td>5.195838</td>\n",
       "      <td>8.069821</td>\n",
       "      <td>9.127222</td>\n",
       "    </tr>\n",
       "    <tr>\n",
       "      <th>min</th>\n",
       "      <td>156.000000</td>\n",
       "      <td>20.000000</td>\n",
       "      <td>2.000000</td>\n",
       "    </tr>\n",
       "    <tr>\n",
       "      <th>25%</th>\n",
       "      <td>172.000000</td>\n",
       "      <td>77.000000</td>\n",
       "      <td>31.000000</td>\n",
       "    </tr>\n",
       "    <tr>\n",
       "      <th>50%</th>\n",
       "      <td>176.000000</td>\n",
       "      <td>80.000000</td>\n",
       "      <td>35.000000</td>\n",
       "    </tr>\n",
       "    <tr>\n",
       "      <th>75%</th>\n",
       "      <td>179.000000</td>\n",
       "      <td>82.000000</td>\n",
       "      <td>38.000000</td>\n",
       "    </tr>\n",
       "    <tr>\n",
       "      <th>max</th>\n",
       "      <td>209.000000</td>\n",
       "      <td>149.000000</td>\n",
       "      <td>119.000000</td>\n",
       "    </tr>\n",
       "  </tbody>\n",
       "</table>\n",
       "</div>"
      ],
      "text/plain": [
       "             Height  Current Weight           Age\n",
       "count  55526.000000    56524.000000  56525.000000\n",
       "mean     175.569985       79.561461     34.941583\n",
       "std        5.195838        8.069821      9.127222\n",
       "min      156.000000       20.000000      2.000000\n",
       "25%      172.000000       77.000000     31.000000\n",
       "50%      176.000000       80.000000     35.000000\n",
       "75%      179.000000       82.000000     38.000000\n",
       "max      209.000000      149.000000    119.000000"
      ]
     },
     "execution_count": 51,
     "metadata": {},
     "output_type": "execute_result"
    }
   ],
   "source": [
    "data.loc[data['Gender']=='male', ['Height','Current Weight','Age']].describe()"
   ]
  },
  {
   "cell_type": "code",
   "execution_count": 52,
   "metadata": {},
   "outputs": [
    {
     "data": {
      "text/html": [
       "<div>\n",
       "<style scoped>\n",
       "    .dataframe tbody tr th:only-of-type {\n",
       "        vertical-align: middle;\n",
       "    }\n",
       "\n",
       "    .dataframe tbody tr th {\n",
       "        vertical-align: top;\n",
       "    }\n",
       "\n",
       "    .dataframe thead th {\n",
       "        text-align: right;\n",
       "    }\n",
       "</style>\n",
       "<table border=\"1\" class=\"dataframe\">\n",
       "  <thead>\n",
       "    <tr style=\"text-align: right;\">\n",
       "      <th></th>\n",
       "      <th>Height</th>\n",
       "      <th>Current Weight</th>\n",
       "      <th>Age</th>\n",
       "    </tr>\n",
       "  </thead>\n",
       "  <tbody>\n",
       "    <tr>\n",
       "      <th>count</th>\n",
       "      <td>38897.000000</td>\n",
       "      <td>39666.000000</td>\n",
       "      <td>39674.000000</td>\n",
       "    </tr>\n",
       "    <tr>\n",
       "      <th>mean</th>\n",
       "      <td>167.537162</td>\n",
       "      <td>59.889074</td>\n",
       "      <td>30.960528</td>\n",
       "    </tr>\n",
       "    <tr>\n",
       "      <th>std</th>\n",
       "      <td>5.274900</td>\n",
       "      <td>8.416682</td>\n",
       "      <td>9.072124</td>\n",
       "    </tr>\n",
       "    <tr>\n",
       "      <th>min</th>\n",
       "      <td>148.000000</td>\n",
       "      <td>20.000000</td>\n",
       "      <td>2.000000</td>\n",
       "    </tr>\n",
       "    <tr>\n",
       "      <th>25%</th>\n",
       "      <td>164.000000</td>\n",
       "      <td>57.000000</td>\n",
       "      <td>27.000000</td>\n",
       "    </tr>\n",
       "    <tr>\n",
       "      <th>50%</th>\n",
       "      <td>167.000000</td>\n",
       "      <td>59.000000</td>\n",
       "      <td>30.500000</td>\n",
       "    </tr>\n",
       "    <tr>\n",
       "      <th>75%</th>\n",
       "      <td>171.000000</td>\n",
       "      <td>62.000000</td>\n",
       "      <td>34.000000</td>\n",
       "    </tr>\n",
       "    <tr>\n",
       "      <th>max</th>\n",
       "      <td>209.000000</td>\n",
       "      <td>149.000000</td>\n",
       "      <td>119.000000</td>\n",
       "    </tr>\n",
       "  </tbody>\n",
       "</table>\n",
       "</div>"
      ],
      "text/plain": [
       "             Height  Current Weight           Age\n",
       "count  38897.000000    39666.000000  39674.000000\n",
       "mean     167.537162       59.889074     30.960528\n",
       "std        5.274900        8.416682      9.072124\n",
       "min      148.000000       20.000000      2.000000\n",
       "25%      164.000000       57.000000     27.000000\n",
       "50%      167.000000       59.000000     30.500000\n",
       "75%      171.000000       62.000000     34.000000\n",
       "max      209.000000      149.000000    119.000000"
      ]
     },
     "execution_count": 52,
     "metadata": {},
     "output_type": "execute_result"
    }
   ],
   "source": [
    "data.loc[data['Gender']=='female', ['Height','Current Weight','Age']].describe()"
   ]
  },
  {
   "cell_type": "markdown",
   "metadata": {},
   "source": [
    "** 18. 감량 목표를 분석하기 **\n",
    "\n",
    "데이터에서 '현재 체중' - '목표 체중' 을 하면 감량 목표가 나올 것입니다. 감량 목표를 찾아서 새로운 컬럼을 만들어주세요.\n",
    "\n",
    "또한 kg별로 감량을 원하는 사람의 총 인원을 구해주세요. 가령 1) 1kg 감량을 원하는 총 인원, 2) 2kg 감량을 원하는 총 인원, ... 10) 10kg 감량을 원하는 총 인원이 나와야 합니다."
   ]
  },
  {
   "cell_type": "code",
   "execution_count": 53,
   "metadata": {},
   "outputs": [],
   "source": [
    "data['Goal Weight']=data['Goal Weight'].astype(float)"
   ]
  },
  {
   "cell_type": "code",
   "execution_count": 54,
   "metadata": {},
   "outputs": [],
   "source": [
    "data['Goal Weight Gap']=data['Current Weight']-data['Goal Weight']"
   ]
  },
  {
   "cell_type": "code",
   "execution_count": 55,
   "metadata": {},
   "outputs": [
    {
     "data": {
      "text/plain": [
       "6.0     9856\n",
       "9.0     9729\n",
       "5.0     9721\n",
       "4.0     9624\n",
       "1.0     9612\n",
       "2.0     9586\n",
       "3.0     9581\n",
       "7.0     9528\n",
       "8.0     9493\n",
       "10.0    9460\n",
       "Name: Goal Weight Gap, dtype: int64"
      ]
     },
     "execution_count": 55,
     "metadata": {},
     "output_type": "execute_result"
    }
   ],
   "source": [
    "data['Goal Weight Gap'].value_counts()"
   ]
  },
  {
   "cell_type": "markdown",
   "metadata": {},
   "source": [
    "** 19. '가입 개월 수'를 숫자로 표현하기 **\n",
    "\n",
    "'가입 개월 수' 컬럼을 숫자로 정리해주세요. 현재 3개월, 6개월, 12개월로 되어있는데, 이를 3, 6, 12로 정리하시면 됩니다.\n",
    "\n",
    "또한 0개월은 0이 아닌 NaN으로 집어넣어 주세요.\n"
   ]
  },
  {
   "cell_type": "code",
   "execution_count": 56,
   "metadata": {},
   "outputs": [],
   "source": [
    "data['Paid Plan']=data['Paid Plan'].apply(lambda x: x.replace(\"개월\", \"\"))\n",
    "data.loc[data['Paid Plan']=='0', 'Paid Plan']=np.nan\n",
    "data['Paid Plan']=data['Paid Plan'].astype(float)"
   ]
  },
  {
   "cell_type": "code",
   "execution_count": 57,
   "metadata": {},
   "outputs": [
    {
     "data": {
      "text/plain": [
       "count    31884.000000\n",
       "mean         4.629658\n",
       "std          2.809853\n",
       "min          3.000000\n",
       "25%          3.000000\n",
       "50%          3.000000\n",
       "75%          6.000000\n",
       "max         12.000000\n",
       "Name: Paid Plan, dtype: float64"
      ]
     },
     "execution_count": 57,
     "metadata": {},
     "output_type": "execute_result"
    }
   ],
   "source": [
    "data['Paid Plan'].describe()"
   ]
  },
  {
   "cell_type": "markdown",
   "metadata": {},
   "source": [
    "** 20. '음주 여부'를 숫자로 표현하기**\n",
    "\n",
    "'음주 여부' 컬럼을 숫자로 정리해주세요. 현재 1) 주 2회, 2) 주 1회, 3) 월 2회, 4) 월 1회 5) 안 마심으로 되어 있습니다만, 이를 월 기준 음주 횟수로 통일해주세요. 여기서 월은 30일로, 주는 4주로 고정합니다.\n",
    "\n",
    "가령 1) 주 2회는 8, 2) 주 1회는 4, 3) 월 2회는 2, 4) 월 1회는 1, 5) 안 마심은 0으로 표현하면 됩니다."
   ]
  },
  {
   "cell_type": "code",
   "execution_count": 58,
   "metadata": {},
   "outputs": [
    {
     "data": {
      "text/plain": [
       "array(['주 1회', '월 1회', '안 마심', '월 2회', '주 2회'], dtype=object)"
      ]
     },
     "execution_count": 58,
     "metadata": {},
     "output_type": "execute_result"
    }
   ],
   "source": [
    "data['Drinking'].unique()"
   ]
  },
  {
   "cell_type": "code",
   "execution_count": 59,
   "metadata": {},
   "outputs": [],
   "source": [
    "data.loc[data['Drinking']=='주 1회', 'Drinking']=4\n",
    "data.loc[data['Drinking']=='주 2회', 'Drinking']=8\n",
    "data.loc[data['Drinking']=='월 2회', 'Drinking']=2\n",
    "data.loc[data['Drinking']=='월 1회', 'Drinking']=1\n",
    "data.loc[data['Drinking']=='안 마심', 'Drinking']=0"
   ]
  },
  {
   "cell_type": "markdown",
   "metadata": {},
   "source": [
    "## 과제(고급)"
   ]
  },
  {
   "cell_type": "markdown",
   "metadata": {},
   "source": [
    "** 21.휴대폰 번호 정리하기 **\n",
    "\n",
    "다양한 표현으로 되어있는 휴대폰 번호를 010-xxxx-xxxx 로 통일해주세요. 가령 휴대폰 번호에 하이픈이 없으면 넣어주시면 됩니다.\n",
    "\n",
    "또한 unknown으로 되어있거나 비어있는 값은 NaN으로 처리해주세요."
   ]
  },
  {
   "cell_type": "code",
   "execution_count": 60,
   "metadata": {},
   "outputs": [],
   "source": [
    "data['Phone Number']=data['Phone Number'].apply(lambda x: str(x))"
   ]
  },
  {
   "cell_type": "code",
   "execution_count": 61,
   "metadata": {},
   "outputs": [],
   "source": [
    "data['Phone Number']=data['Phone Number'].apply(lambda x: x.replace('-',''))"
   ]
  },
  {
   "cell_type": "code",
   "execution_count": 72,
   "metadata": {},
   "outputs": [],
   "source": [
    "def clean(number):\n",
    "    if number != 'nan':\n",
    "        return number[:3]+'-'+number[3:7]+'-'+number[-4:]\n",
    "        \n",
    "        \n",
    "data['Phone Number']=data['Phone Number'].apply(clean)"
   ]
  },
  {
   "cell_type": "code",
   "execution_count": 79,
   "metadata": {},
   "outputs": [
    {
     "data": {
      "text/plain": [
       "0     010-2292-6251\n",
       "1     010-4579-5881\n",
       "2     010-7719-8346\n",
       "3     010-1194-7169\n",
       "4     010-2575-6398\n",
       "5     010-7299-1288\n",
       "6     010-2132-4484\n",
       "7     010-1924-9265\n",
       "8     010-4533-7615\n",
       "9     010-3642-3916\n",
       "10              NaN\n",
       "11    010-6789-2811\n",
       "12    010-5798-1225\n",
       "13    010-3383-4227\n",
       "14    010-6545-3677\n",
       "15    010-9642-7616\n",
       "16              NaN\n",
       "17    010-6715-1438\n",
       "18    010-7391-2817\n",
       "19    010-8219-6712\n",
       "Name: Phone Number, dtype: object"
      ]
     },
     "execution_count": 79,
     "metadata": {},
     "output_type": "execute_result"
    }
   ],
   "source": [
    "data['Phone Number'].fillna(np.nan).head(20)"
   ]
  },
  {
   "cell_type": "markdown",
   "metadata": {},
   "source": [
    "** 22. 날짜를 사용 가능하게 정리하기 **\n",
    "\n",
    "현재 '회원 가입일' 컬럼과 '회원 정보 갱신일' 컬럼은 20xx년 xx월 xx일 과 같은 형식으로 되어있습니다.\n",
    "\n",
    "이 데이터를 현재 판다스에서는 날짜 컬럼이 아닌 문자열(텍스트) 컬럼으로 인식하고 있는데, 이 컬럼을 날짜 컬럼으로 인식할 수 있도록 수정해주세요."
   ]
  },
  {
   "cell_type": "code",
   "execution_count": 85,
   "metadata": {},
   "outputs": [
    {
     "data": {
      "text/html": [
       "<div>\n",
       "<style scoped>\n",
       "    .dataframe tbody tr th:only-of-type {\n",
       "        vertical-align: middle;\n",
       "    }\n",
       "\n",
       "    .dataframe tbody tr th {\n",
       "        vertical-align: top;\n",
       "    }\n",
       "\n",
       "    .dataframe thead th {\n",
       "        text-align: right;\n",
       "    }\n",
       "</style>\n",
       "<table border=\"1\" class=\"dataframe\">\n",
       "  <thead>\n",
       "    <tr style=\"text-align: right;\">\n",
       "      <th></th>\n",
       "      <th>Name</th>\n",
       "      <th>Gender</th>\n",
       "      <th>Phone Number</th>\n",
       "      <th>Age</th>\n",
       "      <th>Current Weight</th>\n",
       "      <th>Goal Weight</th>\n",
       "      <th>Height</th>\n",
       "      <th>Joined At</th>\n",
       "      <th>Updated At</th>\n",
       "      <th>Smoking</th>\n",
       "      <th>Drinking</th>\n",
       "      <th>Paid Plan</th>\n",
       "      <th>Request Counselling</th>\n",
       "      <th>흡연 여부(bool)</th>\n",
       "      <th>Request Counselling(bool)</th>\n",
       "      <th>Paid Plan(bool)</th>\n",
       "      <th>Drinking(bool)</th>\n",
       "      <th>Goal Weight Gap</th>\n",
       "    </tr>\n",
       "  </thead>\n",
       "  <tbody>\n",
       "    <tr>\n",
       "      <th>0</th>\n",
       "      <td>안원준</td>\n",
       "      <td>male</td>\n",
       "      <td>010-2292-6251</td>\n",
       "      <td>31.0</td>\n",
       "      <td>78.0</td>\n",
       "      <td>68.0</td>\n",
       "      <td>176.0</td>\n",
       "      <td>2016년 07월 05일</td>\n",
       "      <td>2016년 07월 05일</td>\n",
       "      <td>아니오</td>\n",
       "      <td>4</td>\n",
       "      <td>NaN</td>\n",
       "      <td>아니요</td>\n",
       "      <td>False</td>\n",
       "      <td>False</td>\n",
       "      <td>True</td>\n",
       "      <td>True</td>\n",
       "      <td>10.0</td>\n",
       "    </tr>\n",
       "    <tr>\n",
       "      <th>1</th>\n",
       "      <td>유세아</td>\n",
       "      <td>female</td>\n",
       "      <td>010-4579-5881</td>\n",
       "      <td>39.0</td>\n",
       "      <td>56.0</td>\n",
       "      <td>51.0</td>\n",
       "      <td>172.0</td>\n",
       "      <td>2016년 10월 02일</td>\n",
       "      <td>2016년 11월 29일</td>\n",
       "      <td>예</td>\n",
       "      <td>1</td>\n",
       "      <td>NaN</td>\n",
       "      <td>아니요</td>\n",
       "      <td>True</td>\n",
       "      <td>False</td>\n",
       "      <td>True</td>\n",
       "      <td>True</td>\n",
       "      <td>5.0</td>\n",
       "    </tr>\n",
       "    <tr>\n",
       "      <th>2</th>\n",
       "      <td>송솔은</td>\n",
       "      <td>female</td>\n",
       "      <td>010-7719-8346</td>\n",
       "      <td>NaN</td>\n",
       "      <td>29.0</td>\n",
       "      <td>21.0</td>\n",
       "      <td>167.0</td>\n",
       "      <td>2017년 09월 06일</td>\n",
       "      <td>2017년 09월 06일</td>\n",
       "      <td>예</td>\n",
       "      <td>4</td>\n",
       "      <td>NaN</td>\n",
       "      <td>아니요</td>\n",
       "      <td>True</td>\n",
       "      <td>False</td>\n",
       "      <td>True</td>\n",
       "      <td>True</td>\n",
       "      <td>8.0</td>\n",
       "    </tr>\n",
       "    <tr>\n",
       "      <th>3</th>\n",
       "      <td>백서원</td>\n",
       "      <td>female</td>\n",
       "      <td>010-1194-7169</td>\n",
       "      <td>36.0</td>\n",
       "      <td>67.0</td>\n",
       "      <td>65.0</td>\n",
       "      <td>NaN</td>\n",
       "      <td>2017년 06월 02일</td>\n",
       "      <td>2017년 07월 28일</td>\n",
       "      <td>예</td>\n",
       "      <td>0</td>\n",
       "      <td>NaN</td>\n",
       "      <td>아니요</td>\n",
       "      <td>True</td>\n",
       "      <td>False</td>\n",
       "      <td>True</td>\n",
       "      <td>False</td>\n",
       "      <td>2.0</td>\n",
       "    </tr>\n",
       "    <tr>\n",
       "      <th>4</th>\n",
       "      <td>박서은</td>\n",
       "      <td>female</td>\n",
       "      <td>010-2575-6398</td>\n",
       "      <td>42.0</td>\n",
       "      <td>60.0</td>\n",
       "      <td>57.0</td>\n",
       "      <td>167.0</td>\n",
       "      <td>2017년 05월 07일</td>\n",
       "      <td>2017년 05월 07일</td>\n",
       "      <td>아니오</td>\n",
       "      <td>0</td>\n",
       "      <td>NaN</td>\n",
       "      <td>예</td>\n",
       "      <td>False</td>\n",
       "      <td>True</td>\n",
       "      <td>True</td>\n",
       "      <td>False</td>\n",
       "      <td>3.0</td>\n",
       "    </tr>\n",
       "  </tbody>\n",
       "</table>\n",
       "</div>"
      ],
      "text/plain": [
       "  Name  Gender   Phone Number   Age  Current Weight  Goal Weight  Height  \\\n",
       "0  안원준    male  010-2292-6251  31.0            78.0         68.0   176.0   \n",
       "1  유세아  female  010-4579-5881  39.0            56.0         51.0   172.0   \n",
       "2  송솔은  female  010-7719-8346   NaN            29.0         21.0   167.0   \n",
       "3  백서원  female  010-1194-7169  36.0            67.0         65.0     NaN   \n",
       "4  박서은  female  010-2575-6398  42.0            60.0         57.0   167.0   \n",
       "\n",
       "       Joined At     Updated At Smoking  Drinking  Paid Plan  \\\n",
       "0  2016년 07월 05일  2016년 07월 05일     아니오         4        NaN   \n",
       "1  2016년 10월 02일  2016년 11월 29일       예         1        NaN   \n",
       "2  2017년 09월 06일  2017년 09월 06일       예         4        NaN   \n",
       "3  2017년 06월 02일  2017년 07월 28일       예         0        NaN   \n",
       "4  2017년 05월 07일  2017년 05월 07일     아니오         0        NaN   \n",
       "\n",
       "  Request Counselling 흡연 여부(bool) Request Counselling(bool) Paid Plan(bool)  \\\n",
       "0                 아니요       False                     False            True   \n",
       "1                 아니요        True                     False            True   \n",
       "2                 아니요        True                     False            True   \n",
       "3                 아니요        True                     False            True   \n",
       "4                   예       False                      True            True   \n",
       "\n",
       "   Drinking(bool)  Goal Weight Gap  \n",
       "0            True             10.0  \n",
       "1            True              5.0  \n",
       "2            True              8.0  \n",
       "3           False              2.0  \n",
       "4           False              3.0  "
      ]
     },
     "execution_count": 85,
     "metadata": {},
     "output_type": "execute_result"
    }
   ],
   "source": [
    "data.head()"
   ]
  },
  {
   "cell_type": "code",
   "execution_count": 91,
   "metadata": {},
   "outputs": [],
   "source": [
    "data['Joined At']=pd.to_datetime(data['Joined At'], format='%Y년 %m월 %d일')\n",
    "data['Updated At']=pd.to_datetime(data['Updated At'], format='%Y년 %m월 %d일')"
   ]
  },
  {
   "cell_type": "code",
   "execution_count": 92,
   "metadata": {},
   "outputs": [
    {
     "data": {
      "text/plain": [
       "0   2016-07-05\n",
       "1   2016-10-02\n",
       "2   2017-09-06\n",
       "3   2017-06-02\n",
       "4   2017-05-07\n",
       "Name: Joined At, dtype: datetime64[ns]"
      ]
     },
     "execution_count": 92,
     "metadata": {},
     "output_type": "execute_result"
    }
   ],
   "source": [
    "data['Joined At'].head()"
   ]
  },
  {
   "cell_type": "code",
   "execution_count": 93,
   "metadata": {},
   "outputs": [
    {
     "data": {
      "text/plain": [
       "0   2016-07-05\n",
       "1   2016-11-29\n",
       "2   2017-09-06\n",
       "3   2017-07-28\n",
       "4   2017-05-07\n",
       "Name: Updated At, dtype: datetime64[ns]"
      ]
     },
     "execution_count": 93,
     "metadata": {},
     "output_type": "execute_result"
    }
   ],
   "source": [
    "data['Updated At'].head()"
   ]
  },
  {
   "cell_type": "markdown",
   "metadata": {},
   "source": [
    "** 23. 날짜를 기준으로 분석하기 **\n",
    "\n",
    "22번에서 날짜 컬럼을 만들었으면 다음을 분석해주세요.\n",
    "\n",
    "1. 월별 전체 회원 가입량\n",
    "2. 월 별 유료/무료 회원 가입량의 차이\n",
    "3. 월 별 남성/여성 회원 가입량의 차이"
   ]
  },
  {
   "cell_type": "code",
   "execution_count": 109,
   "metadata": {},
   "outputs": [],
   "source": [
    "data['Joined Month']=data['Joined At'].dt.month\n",
    "data['Joined Year']=data['Joined At'].dt.year\n",
    "data['Joined Year-Month']=data['Joined Year'].astype(str) + '-' + data['Joined Month'].astype(str)"
   ]
  },
  {
   "cell_type": "code",
   "execution_count": 110,
   "metadata": {},
   "outputs": [
    {
     "data": {
      "text/html": [
       "<div>\n",
       "<style scoped>\n",
       "    .dataframe tbody tr th:only-of-type {\n",
       "        vertical-align: middle;\n",
       "    }\n",
       "\n",
       "    .dataframe tbody tr th {\n",
       "        vertical-align: top;\n",
       "    }\n",
       "\n",
       "    .dataframe thead th {\n",
       "        text-align: right;\n",
       "    }\n",
       "</style>\n",
       "<table border=\"1\" class=\"dataframe\">\n",
       "  <thead>\n",
       "    <tr style=\"text-align: right;\">\n",
       "      <th></th>\n",
       "      <th>Name</th>\n",
       "      <th>Gender</th>\n",
       "      <th>Phone Number</th>\n",
       "      <th>Age</th>\n",
       "      <th>Current Weight</th>\n",
       "      <th>Goal Weight</th>\n",
       "      <th>Height</th>\n",
       "      <th>Joined At</th>\n",
       "      <th>Updated At</th>\n",
       "      <th>Smoking</th>\n",
       "      <th>...</th>\n",
       "      <th>Paid Plan</th>\n",
       "      <th>Request Counselling</th>\n",
       "      <th>흡연 여부(bool)</th>\n",
       "      <th>Request Counselling(bool)</th>\n",
       "      <th>Paid Plan(bool)</th>\n",
       "      <th>Drinking(bool)</th>\n",
       "      <th>Goal Weight Gap</th>\n",
       "      <th>Joined Month</th>\n",
       "      <th>Joined Year</th>\n",
       "      <th>Joined Year-Month</th>\n",
       "    </tr>\n",
       "  </thead>\n",
       "  <tbody>\n",
       "    <tr>\n",
       "      <th>0</th>\n",
       "      <td>안원준</td>\n",
       "      <td>male</td>\n",
       "      <td>010-2292-6251</td>\n",
       "      <td>31.0</td>\n",
       "      <td>78.0</td>\n",
       "      <td>68.0</td>\n",
       "      <td>176.0</td>\n",
       "      <td>2016-07-05</td>\n",
       "      <td>2016-07-05</td>\n",
       "      <td>아니오</td>\n",
       "      <td>...</td>\n",
       "      <td>NaN</td>\n",
       "      <td>아니요</td>\n",
       "      <td>False</td>\n",
       "      <td>False</td>\n",
       "      <td>True</td>\n",
       "      <td>True</td>\n",
       "      <td>10.0</td>\n",
       "      <td>7</td>\n",
       "      <td>2016</td>\n",
       "      <td>2016-7</td>\n",
       "    </tr>\n",
       "    <tr>\n",
       "      <th>1</th>\n",
       "      <td>유세아</td>\n",
       "      <td>female</td>\n",
       "      <td>010-4579-5881</td>\n",
       "      <td>39.0</td>\n",
       "      <td>56.0</td>\n",
       "      <td>51.0</td>\n",
       "      <td>172.0</td>\n",
       "      <td>2016-10-02</td>\n",
       "      <td>2016-11-29</td>\n",
       "      <td>예</td>\n",
       "      <td>...</td>\n",
       "      <td>NaN</td>\n",
       "      <td>아니요</td>\n",
       "      <td>True</td>\n",
       "      <td>False</td>\n",
       "      <td>True</td>\n",
       "      <td>True</td>\n",
       "      <td>5.0</td>\n",
       "      <td>10</td>\n",
       "      <td>2016</td>\n",
       "      <td>2016-10</td>\n",
       "    </tr>\n",
       "    <tr>\n",
       "      <th>2</th>\n",
       "      <td>송솔은</td>\n",
       "      <td>female</td>\n",
       "      <td>010-7719-8346</td>\n",
       "      <td>NaN</td>\n",
       "      <td>29.0</td>\n",
       "      <td>21.0</td>\n",
       "      <td>167.0</td>\n",
       "      <td>2017-09-06</td>\n",
       "      <td>2017-09-06</td>\n",
       "      <td>예</td>\n",
       "      <td>...</td>\n",
       "      <td>NaN</td>\n",
       "      <td>아니요</td>\n",
       "      <td>True</td>\n",
       "      <td>False</td>\n",
       "      <td>True</td>\n",
       "      <td>True</td>\n",
       "      <td>8.0</td>\n",
       "      <td>9</td>\n",
       "      <td>2017</td>\n",
       "      <td>2017-9</td>\n",
       "    </tr>\n",
       "    <tr>\n",
       "      <th>3</th>\n",
       "      <td>백서원</td>\n",
       "      <td>female</td>\n",
       "      <td>010-1194-7169</td>\n",
       "      <td>36.0</td>\n",
       "      <td>67.0</td>\n",
       "      <td>65.0</td>\n",
       "      <td>NaN</td>\n",
       "      <td>2017-06-02</td>\n",
       "      <td>2017-07-28</td>\n",
       "      <td>예</td>\n",
       "      <td>...</td>\n",
       "      <td>NaN</td>\n",
       "      <td>아니요</td>\n",
       "      <td>True</td>\n",
       "      <td>False</td>\n",
       "      <td>True</td>\n",
       "      <td>False</td>\n",
       "      <td>2.0</td>\n",
       "      <td>6</td>\n",
       "      <td>2017</td>\n",
       "      <td>2017-6</td>\n",
       "    </tr>\n",
       "    <tr>\n",
       "      <th>4</th>\n",
       "      <td>박서은</td>\n",
       "      <td>female</td>\n",
       "      <td>010-2575-6398</td>\n",
       "      <td>42.0</td>\n",
       "      <td>60.0</td>\n",
       "      <td>57.0</td>\n",
       "      <td>167.0</td>\n",
       "      <td>2017-05-07</td>\n",
       "      <td>2017-05-07</td>\n",
       "      <td>아니오</td>\n",
       "      <td>...</td>\n",
       "      <td>NaN</td>\n",
       "      <td>예</td>\n",
       "      <td>False</td>\n",
       "      <td>True</td>\n",
       "      <td>True</td>\n",
       "      <td>False</td>\n",
       "      <td>3.0</td>\n",
       "      <td>5</td>\n",
       "      <td>2017</td>\n",
       "      <td>2017-5</td>\n",
       "    </tr>\n",
       "  </tbody>\n",
       "</table>\n",
       "<p>5 rows × 21 columns</p>\n",
       "</div>"
      ],
      "text/plain": [
       "  Name  Gender   Phone Number   Age  Current Weight  Goal Weight  Height  \\\n",
       "0  안원준    male  010-2292-6251  31.0            78.0         68.0   176.0   \n",
       "1  유세아  female  010-4579-5881  39.0            56.0         51.0   172.0   \n",
       "2  송솔은  female  010-7719-8346   NaN            29.0         21.0   167.0   \n",
       "3  백서원  female  010-1194-7169  36.0            67.0         65.0     NaN   \n",
       "4  박서은  female  010-2575-6398  42.0            60.0         57.0   167.0   \n",
       "\n",
       "   Joined At Updated At Smoking        ...          Paid Plan  \\\n",
       "0 2016-07-05 2016-07-05     아니오        ...                NaN   \n",
       "1 2016-10-02 2016-11-29       예        ...                NaN   \n",
       "2 2017-09-06 2017-09-06       예        ...                NaN   \n",
       "3 2017-06-02 2017-07-28       예        ...                NaN   \n",
       "4 2017-05-07 2017-05-07     아니오        ...                NaN   \n",
       "\n",
       "   Request Counselling 흡연 여부(bool) Request Counselling(bool) Paid Plan(bool)  \\\n",
       "0                  아니요       False                     False            True   \n",
       "1                  아니요        True                     False            True   \n",
       "2                  아니요        True                     False            True   \n",
       "3                  아니요        True                     False            True   \n",
       "4                    예       False                      True            True   \n",
       "\n",
       "  Drinking(bool)  Goal Weight Gap  Joined Month  Joined Year  \\\n",
       "0           True             10.0             7         2016   \n",
       "1           True              5.0            10         2016   \n",
       "2           True              8.0             9         2017   \n",
       "3          False              2.0             6         2017   \n",
       "4          False              3.0             5         2017   \n",
       "\n",
       "   Joined Year-Month  \n",
       "0             2016-7  \n",
       "1            2016-10  \n",
       "2             2017-9  \n",
       "3             2017-6  \n",
       "4             2017-5  \n",
       "\n",
       "[5 rows x 21 columns]"
      ]
     },
     "execution_count": 110,
     "metadata": {},
     "output_type": "execute_result"
    }
   ],
   "source": [
    "data.head()"
   ]
  },
  {
   "cell_type": "code",
   "execution_count": 118,
   "metadata": {},
   "outputs": [
    {
     "data": {
      "text/plain": [
       "Joined Year-Month\n",
       "2016-1     4407\n",
       "2016-10    4516\n",
       "2016-11    4411\n",
       "2016-12    4568\n",
       "2016-2     4242\n",
       "2016-3     4434\n",
       "2016-4     4427\n",
       "2016-5     4604\n",
       "2016-6     4390\n",
       "2016-7     4606\n",
       "2016-8     4497\n",
       "2016-9     4507\n",
       "2017-1     4557\n",
       "2017-10    4478\n",
       "2017-11    4359\n",
       "2017-12    4624\n",
       "2017-2     4063\n",
       "2017-3     4551\n",
       "2017-4     4370\n",
       "2017-5     4473\n",
       "2017-6     4403\n",
       "2017-7     4473\n",
       "2017-8     4586\n",
       "2017-9     4293\n",
       "Name: Joined Year-Month, dtype: int64"
      ]
     },
     "execution_count": 118,
     "metadata": {},
     "output_type": "execute_result"
    }
   ],
   "source": [
    "data.groupby('Joined Year-Month')['Joined Year-Month'].count()"
   ]
  },
  {
   "cell_type": "markdown",
   "metadata": {},
   "source": [
    "** 24. 회원 정보가 맞는지 여부를 확인하는 컬럼을 만들기 **\n",
    "\n",
    "더 정확한 데이터 분석을 위해서는, 현재까지 고객님이 기업한 회원 정보가 정확한지를 확인하는 작업이 필요합니다. 분석팀에서 데이터를 다음과 같이 정리하면, 오퍼레이션 팀과 코칭 팀이 협업을 통해서 고객 정보를 개선하고, 더 좋은 서비스를 제공할 수 있을 것 같습니다. 다음의 내용이 담겨있는 새로운 컬럼을 하나 만들어주세요. 해당 컬럼에는 reject / counselling / duplicated / confirmed 라는 결과값이 들어가야 합니다.\n",
    "\n",
    "다음의 경우에는 재기입을 요청한다. (reject)\n",
    "* 전화번호가 비어있는 경우\n",
    "\n",
    "다음의 경우는 트레이너와 상담을 유도한다. (counselling)\n",
    "* 상담 요청(counselling)이 True인 사람.\n",
    "\n",
    "다음의 경우에는 중복을 확인한다. (duplicated)\n",
    "* 동일한 이름에 동일한 전화번호를 찾아낸다. 이는 중복되었다고 가정한다.\n",
    "\n",
    "나머지는 문제가 없다. (confirmed)"
   ]
  },
  {
   "cell_type": "code",
   "execution_count": null,
   "metadata": {},
   "outputs": [],
   "source": [
    "# Write code here!"
   ]
  },
  {
   "cell_type": "markdown",
   "metadata": {},
   "source": [
    "**25. VIP 찾아내기**\n",
    "\n",
    "다음의 고객을 특별 관리 대상으로 지정합니다. 특별 관리 대상이라고 함은, TKX 서비스의 VIP 플랜을 구매할 확률이 높은 분들을 의미합니다.\n",
    "\n",
    "1. 트레이너와 상담을 요청한 사람. (counselling)\n",
    "2. 상담을 요청하지 않은 사람 중, (현재 체중 - 목표 체중) 이 가장 높은 상위 1,000 명.\n",
    "\n",
    "이 사람들을 특별관리 대상으로 지정하며, VIP라는 이름의 컬럼에 True 값을 넣으면 됩니다. 이후에는 오퍼레이션/코치 팀이 해당 고객님을 개별 컨택하여, 적극적으로 VIP 플랜을 구매하실 수 있도록 노력할 생각입니다. (특별관리 대상이 아닌 분들은 VIP 컬럼에 False 값을 넣으면 됩니다)\n",
    "\n",
    "또한 전체 데이터와는 별개로, VIP 고객들만을 따로 뽑아내서 CSV파일로 저장할 수 있다면 좋겠습니다."
   ]
  },
  {
   "cell_type": "code",
   "execution_count": null,
   "metadata": {},
   "outputs": [],
   "source": [
    "# Write code here!"
   ]
  }
 ],
 "metadata": {
  "kernelspec": {
   "display_name": "Python 3",
   "language": "python",
   "name": "python3"
  },
  "language_info": {
   "codemirror_mode": {
    "name": "ipython",
    "version": 3
   },
   "file_extension": ".py",
   "mimetype": "text/x-python",
   "name": "python",
   "nbconvert_exporter": "python",
   "pygments_lexer": "ipython3",
   "version": "3.6.5"
  }
 },
 "nbformat": 4,
 "nbformat_minor": 2
}
